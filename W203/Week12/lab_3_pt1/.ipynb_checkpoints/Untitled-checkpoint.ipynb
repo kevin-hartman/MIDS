{
 "cells": [
  {
   "cell_type": "code",
   "execution_count": null,
   "metadata": {},
   "outputs": [],
   "source": [
    "A = read.csv(\"crime_v2.csv\")"
   ]
  },
  {
   "cell_type": "code",
   "execution_count": 2,
   "metadata": {},
   "outputs": [],
   "source": [
    "library(survey)\n",
    "library(effsize)\n",
    "library(dplyr)\n",
    "library(ggplot2)\n",
    "library(tableone)"
   ]
  },
  {
   "cell_type": "code",
   "execution_count": 3,
   "metadata": {},
   "outputs": [],
   "source": [
    "#Create a survey design from our data\n",
    "crime_design = svydesign(ids = ~1, data=A)\n",
    "\n",
    "#Include the relevent questions in our design object for analysis preparation\n",
    "crime_design <- \n",
    "    update( \n",
    "        anes_design ,     \n",
    "        one = 1\n",
    ")"
   ]
  },
  {
   "cell_type": "code",
   "execution_count": 5,
   "metadata": {},
   "outputs": [],
   "source": [
    "crime_design"
   ]
  },
  {
   "cell_type": "code",
   "execution_count": null,
   "metadata": {},
   "outputs": [],
   "source": []
  }
 ],
 "metadata": {
  "kernelspec": {
   "display_name": "R",
   "language": "R",
   "name": "ir"
  },
  "language_info": {
   "codemirror_mode": "r",
   "file_extension": ".r",
   "mimetype": "text/x-r-source",
   "name": "R",
   "pygments_lexer": "r",
   "version": "3.5.1"
  }
 },
 "nbformat": 4,
 "nbformat_minor": 2
}
