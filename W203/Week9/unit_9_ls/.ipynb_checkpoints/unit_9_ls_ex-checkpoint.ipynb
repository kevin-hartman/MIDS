{
 "cells": [
  {
   "cell_type": "markdown",
   "metadata": {},
   "source": [
    "<h1>Unit 9 Live Session </center> </h1>\n",
    "<h3> W203 Instructional Team </h3>"
   ]
  },
  {
   "cell_type": "markdown",
   "metadata": {},
   "source": [
    "<h2> Comparing Means Hypothesis Tests, and Reproducibility </h2> <br>\n",
    "<img src=https://imgs.xkcd.com/comics/t_distribution.png></img>"
   ]
  },
  {
   "cell_type": "markdown",
   "metadata": {},
   "source": [
    "### 0.1 Class Announcements\n",
    "1. Announcement 1\n",
    "2. Announcement 2"
   ]
  },
  {
   "cell_type": "markdown",
   "metadata": {},
   "source": [
    "<h3> 0.2 Getting to This Document</h3>\n",
    "\n",
    "If you have not cloned the unit_9_ls repo yet then on the command line\n",
    "\n",
    "1. git clone https://github.com/w203-spring-19/unit_9_ls.git \n",
    "\n",
    "2. cd unit_9_ls\n",
    "\n",
    "\n",
    "\n",
    "If you have cloned this repo already then on the command line\n",
    "\n",
    "1. cd unit_9_ls\n",
    "\n",
    "2. git fetch\n",
    "\n"
   ]
  },
  {
   "cell_type": "markdown",
   "metadata": {},
   "source": [
    "<h3> 1 Review of Hypothesis Testing </h3>\n",
    "\n",
    "<ul>\n",
    "    <li> **Generalization**: \n",
    "    <ul>\n",
    "        <li> We must always remember that generalization is the point of estimation and hypothesis testing. We want to gather observations, calculate statistics, and conduct hypothesis testing on those statistics in such a way that the conclusions that we draw from the sample can be credibly applied to the population distribution.\n",
    "        <br><br>\n",
    "        <li> In order to justify our ability to generalize, we need to ask ourselves some questions.\n",
    "        <br> <br>\n",
    "        <ul>\n",
    "            <li> What is the target population we wish to study?\n",
    "            <br><br>\n",
    "            <li> How was the sample obtained? Was it done in such a way that the sample is representative of the target  population. \n",
    "        </ul>\n",
    "    </ul>\n",
    "    <br><br>\n",
    "    <li> **Null Hypothesis**: \n",
    "    <ul>\n",
    "        <li> the null hypothesis is the established value that you wish to disprove. \n",
    "        <br><br>\n",
    "        <li> In the hypothesis tests you will conduct in this class, the null hypothesis is alway *sharp* meaning the parameter in question is assumed to be a singleton.\n",
    "    </ul>\n",
    "    <br>\n",
    "    <li> **Criteria**: \n",
    "    <ul>\n",
    "        <li>  In each hypothesis test you will compare the calculated p-value to the significance level\n",
    "        <br> <br>\n",
    "        <li> The p-value is a measure of how extreme or strange the value of the statistic is under the null hypothesis. \n",
    "    </ul>\n",
    "    <br><br>\n",
    "    <li> **Conclusion**: Compare the p-value to the significance level, and either reject or fail to reject the null hypothesis. \n",
    "    \n",
    "<br>\n",
    "<ul>\n",
    "  <li> if pvalue $\\leq \\alpha$ Reject the null Hypothesis at significance level $\\alpha$ </li>\n",
    "  <li> if pvalue $> \\alpha$ Fail to reject the null Hypothesis at significance level $\\alpha$ </li>\n",
    "</ul>\n"
   ]
  },
  {
   "cell_type": "markdown",
   "metadata": {},
   "source": [
    "<h3> 2 Common hypothesis testing errors </h3>\n",
    "\n",
    "For each of the following scenarios, explain the key error in the statistical procedure."
   ]
  },
  {
   "cell_type": "markdown",
   "metadata": {},
   "source": [
    "** 2.1 ** Bill hypothesizes that the average student drinks between 100 and 200 grams of caffeine during a take-home lab.  He measures mean caffeine intake for a random sample of 50 lab-takers, then computes the p-value associated with his hypothesis."
   ]
  },
  {
   "cell_type": "code",
   "execution_count": null,
   "metadata": {},
   "outputs": [],
   "source": []
  },
  {
   "cell_type": "markdown",
   "metadata": {},
   "source": [
    "** 2.2 ** Mike likes peanuts.  Mike likes peanuts so much that he conducts a study to show how peanut allergies are an NIH sponsored hoax. He recruits 20 toddlers and randomly assigns each into two groups: peanut butter and brown sugar paste.  To Mike’s delight, he fails to find evidence for a difference between the groups (p = .34).  Mike concludes by accepting the null hypothesis (that peanut allergies do not exist).\n"
   ]
  },
  {
   "cell_type": "code",
   "execution_count": null,
   "metadata": {},
   "outputs": [],
   "source": []
  },
  {
   "cell_type": "markdown",
   "metadata": {},
   "source": [
    "** 2.3 ** Anne replicates Mike's study and estimates a p-value of .03, she concludes that the alternative hypothesis has a 97% chance of being true."
   ]
  },
  {
   "cell_type": "code",
   "execution_count": null,
   "metadata": {},
   "outputs": [],
   "source": []
  },
  {
   "cell_type": "markdown",
   "metadata": {},
   "source": [
    "** 2.4 ** Tim asks 50 passengers on the 8am Staten Island Ferry to complete his survey about attitudes toward atheists.  He finds a statistically significant difference between attitudes toward atheists and attitudes toward scientologists (p = .04).  Huzzah!  Tim concludes that the US public is more fearful of atheists than scientologists."
   ]
  },
  {
   "cell_type": "code",
   "execution_count": null,
   "metadata": {},
   "outputs": [],
   "source": []
  },
  {
   "cell_type": "markdown",
   "metadata": {},
   "source": [
    "<h3> 3 Comparing Means Review </h3>\n",
    "\n",
    "Suppose we want to conduction a hypothesis test on $E(X) - E(Y)$ with samples $\\{X_i\\}_{i=1}^{n_X}$ and $\\{Y_i\\}_{i=1}^{n_Y}$\n",
    "\n",
    "<ul> \n",
    "    <li> **Variable Type**\n",
    "    <ul> \n",
    "        <li> *Cardinal*: Where values can be ordered, and the difference between values is consistent and meaningful.\n",
    "        <br><br>\n",
    "        <li> *Ordinal*: Values can be ordered but scale differences are not consistent. e.g. Likert Scale. \n",
    "    </ul>\n",
    "   <br>\n",
    "    <li> **Paired v.s. Unpaired**:\n",
    "    <ul>\n",
    "        <li> One of the assumption of an unpaired hypothesis test is that $\\{X_i\\}_{i=1}^{n_X}$ is i.i.d, $\\{Y_i\\}_{i=1}^{n_Y}$ is i.i.d **and** $\\{X_i\\}_{i=1}^{n_X}$ is independent of $\\{Y_i\\}_{i=1}^{n_Y}$\n",
    "        <br><br> \n",
    "        <li> If $(X_i,Y_i)$ are paired observations then $\\{X_i\\}_{i=1}^{n_X}$ is not independent of $\\{Y_i\\}_{i=1}^{n_Y}$ but we may be able to argue that $\\delta_i = X_i - Y_i$ is i.i.d.\n",
    "    </ul>\n",
    "    <br>\n",
    "    <li> **Variance**: \n",
    "    <ul>\n",
    "        <li> Pooled: Underlying random variables have equal variances $V(X) = V(Y)$.\n",
    "       <br><br>\n",
    "        <li> Not Pooled: Underlying Random variables have unequal variances $V(X) \\neq V(Y)$.\n",
    "    </ul>\n",
    "    <br>\n",
    "    <li> **Validity of t-test**:\n",
    "    <ul> \n",
    "        <li>i.i.d sampling and and evaluation of the skewness of the underlying random variable relative to the number of observations. \n",
    "    </ul>\n",
    " \n",
    "</ul>"
   ]
  },
  {
   "cell_type": "markdown",
   "metadata": {},
   "source": [
    "<h3> 4  Comparing Means </h3>\n",
    "The file united\\_states\\_senate\\_2014\\_v2.csv contains data on the 100 members of the US senate that served in 2014.  We will consider this group to be a sample (for example, from some generative process that creates senators)."
   ]
  },
  {
   "cell_type": "code",
   "execution_count": null,
   "metadata": {},
   "outputs": [],
   "source": [
    "S = read.csv(\"united_states_senate_2014_v2.csv\")\n",
    "colnames(S)[6] <- 'Cmpn_Mny_Rsed'\n",
    "colnames(S)[7] <- 'Cmpn_Mny_Spnt'\n",
    "summary(S)"
   ]
  },
  {
   "cell_type": "markdown",
   "metadata": {},
   "source": [
    "You have three questions that you would like to answer with a statistical test. \n",
    "\n",
    "** For Each ** question, answer the following using the dataset and your background knowledge:\n",
    "\n",
    "1. Are the assumptions for a t-test met?  (you may want to review unit 9.5)\n",
    "\n",
    "2. Is a paired test or an unpaired test more appropriate?\n",
    "\n",
    "3. (Unless you argue that a t-test is clearly invalid), conduct a t-test in R and interpret the results."
   ]
  },
  {
   "cell_type": "markdown",
   "metadata": {},
   "source": [
    "** 4.1 ** Is there a difference between the amount of money a senator raises and the amount spent?"
   ]
  },
  {
   "cell_type": "code",
   "execution_count": null,
   "metadata": {},
   "outputs": [],
   "source": []
  },
  {
   "cell_type": "markdown",
   "metadata": {},
   "source": [
    "** 4.2 **  Do female Democratic senators raise more or less money than female Republican senators?"
   ]
  },
  {
   "cell_type": "code",
   "execution_count": null,
   "metadata": {},
   "outputs": [],
   "source": []
  },
  {
   "cell_type": "markdown",
   "metadata": {},
   "source": [
    "** 4.3 ** Does the NRA prefer male senators or female senators?"
   ]
  },
  {
   "cell_type": "code",
   "execution_count": null,
   "metadata": {},
   "outputs": [],
   "source": []
  },
  {
   "cell_type": "markdown",
   "metadata": {},
   "source": [
    "<h3> 5 Reproducibility Review </h3>\n",
    "\n",
    "<img src=https://imgs.xkcd.com/comics/significant.png></img>"
   ]
  },
  {
   "cell_type": "markdown",
   "metadata": {},
   "source": [
    "What went wrong here? \n",
    "\n",
    "<ul> \n",
    "    **Generalization**\n",
    "    <ul>\n",
    "        <li> So far we have been concerned with our ability to generalize the conclusions drawn from a single hypothesis test (in isolation) to the population distribution.\n",
    "        <br><br>\n",
    "        <li> Real studies are not carried out in this way, one will use a single data set to conduct an number of different tests/comparisons. Especially if exploration and testing are conducted on the same data set. \n",
    "        <br><br>\n",
    "        <li> Unfortunately, as we saw in this week's async we learned that the number of comparisons conducted, the sequence in which tests are conducted, the manner in which one determines which test they will conduct, and incentives for publishing the results can all have a significant effect on extent to which their results generalize.\n",
    "        <br><br>\n",
    "        <li> Put roughly, the more comparisons you make, the more likely that you will find significant results related to an idiosyncratic feature of the sample rather than a feature of the true population.  \n",
    "    <ul> \n",
    "</ul>"
   ]
  },
  {
   "cell_type": "markdown",
   "metadata": {},
   "source": [
    "<h3> 6 Reproducibility </h3>"
   ]
  },
  {
   "cell_type": "markdown",
   "metadata": {},
   "source": [
    "** 6.1 ** You have a dataset of the number of Facebook status updates by day of the week.  You run 7 different t-tests, one for posts on Monday (versus all other days), or for Tuesday (versus all other days), etc.  Only the test for Sunday is significant, with a p-value of .045, so you throw out the other tests.  Should you conclude that Sunday has a significant effect on number of posts?  (How can you address this situation responsibly when you publish your results?)"
   ]
  },
  {
   "cell_type": "code",
   "execution_count": null,
   "metadata": {},
   "outputs": [],
   "source": []
  },
  {
   "cell_type": "markdown",
   "metadata": {},
   "source": [
    "** 6.2 ** As before, you have a dataset of the number of Facebook status updates by day of the week.  You do a little EDA and notice that Sunday seems to have more \"status updates\" than all other days, so you recode your \"day of the week\" variable into a binary one: Sunday = 1, All other days = 0.  You run a t-test and get a p-value of .045.  Should you conclude that Sunday has a significant effect on number of posts?"
   ]
  },
  {
   "cell_type": "code",
   "execution_count": null,
   "metadata": {},
   "outputs": [],
   "source": []
  },
  {
   "cell_type": "markdown",
   "metadata": {},
   "source": [
    "** 6.3 ** Suppose researcher A tests if Monday has an effect (versus all other days), Researcher B tests Tuesday (versus all other days), and so forth.  Only Researcher G, who tests Sunday finds a significant effect with a p-value of .045.  Only Researcher G gets to publish her work.  If you read the paper, should you conclude that Sunday has a significant effect on number of posts?  "
   ]
  },
  {
   "cell_type": "code",
   "execution_count": null,
   "metadata": {},
   "outputs": [],
   "source": []
  },
  {
   "cell_type": "markdown",
   "metadata": {},
   "source": [
    "** 6.4 ** What if researcher G above is a sociologist that chooses to measure the effect of Sunday based on years of observing the way people behave on weekends?  Researcher G is not interested in the other tests, because Sunday is the interesting day from her perspective, and she wouldn't expect any of the other tests to be significant."
   ]
  },
  {
   "cell_type": "code",
   "execution_count": null,
   "metadata": {},
   "outputs": [],
   "source": []
  },
  {
   "cell_type": "markdown",
   "metadata": {},
   "source": [
    "** 6.5 ** Many observers have noted that as studies yielding statistically significant results are repeated, estimated effect sizes go down and often become insignificant.  Why is this the case?"
   ]
  },
  {
   "cell_type": "code",
   "execution_count": null,
   "metadata": {},
   "outputs": [],
   "source": []
  },
  {
   "cell_type": "markdown",
   "metadata": {},
   "source": [
    "<h3> 7 Remedies For The Reproducibility Crisis </h3> \n",
    "\n",
    "For each of the following proposed fixes for the reproducibility crisis explain why this approach may work and point out one weakness. "
   ]
  },
  {
   "cell_type": "markdown",
   "metadata": {},
   "source": [
    "**7.1** Lowering significance levels from 0.05 to 0.005 </h4>"
   ]
  },
  {
   "cell_type": "code",
   "execution_count": null,
   "metadata": {},
   "outputs": [],
   "source": []
  },
  {
   "cell_type": "markdown",
   "metadata": {},
   "source": [
    "**7.2** Hypothesis Pre Registration"
   ]
  },
  {
   "cell_type": "code",
   "execution_count": null,
   "metadata": {},
   "outputs": [],
   "source": []
  },
  {
   "cell_type": "markdown",
   "metadata": {},
   "source": [
    "**7.3** Journal of Insignificant Results"
   ]
  },
  {
   "cell_type": "code",
   "execution_count": null,
   "metadata": {},
   "outputs": [],
   "source": []
  }
 ],
 "metadata": {
  "kernelspec": {
   "display_name": "R",
   "language": "R",
   "name": "ir"
  },
  "language_info": {
   "codemirror_mode": "r",
   "file_extension": ".r",
   "mimetype": "text/x-r-source",
   "name": "R",
   "pygments_lexer": "r",
   "version": "3.5.1"
  },
  "varInspector": {
   "cols": {
    "lenName": 16,
    "lenType": 16,
    "lenVar": 40
   },
   "kernels_config": {
    "python": {
     "delete_cmd_postfix": "",
     "delete_cmd_prefix": "del ",
     "library": "var_list.py",
     "varRefreshCmd": "print(var_dic_list())"
    },
    "r": {
     "delete_cmd_postfix": ") ",
     "delete_cmd_prefix": "rm(",
     "library": "var_list.r",
     "varRefreshCmd": "cat(var_dic_list()) "
    }
   },
   "types_to_exclude": [
    "module",
    "function",
    "builtin_function_or_method",
    "instance",
    "_Feature"
   ],
   "window_display": false
  }
 },
 "nbformat": 4,
 "nbformat_minor": 2
}
