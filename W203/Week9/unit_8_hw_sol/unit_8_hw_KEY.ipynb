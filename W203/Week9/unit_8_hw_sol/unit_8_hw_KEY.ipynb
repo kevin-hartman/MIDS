{
 "cells": [
  {
   "cell_type": "markdown",
   "metadata": {},
   "source": [
    "<h1> Unit 8 Homework KEY</h1>\n",
    "<h3> W203 Statistics for Data Science </h3>"
   ]
  },
  {
   "cell_type": "markdown",
   "metadata": {},
   "source": [
    "Student Name: \n",
    "\n",
    "Section Number:"
   ]
  },
  {
   "cell_type": "markdown",
   "metadata": {},
   "source": [
    "** Data: ** The file GPA1.RData contains data from a 1994 survey of MSU students.  The survey was conducted by Christopher Lemmon, a former MSU undergraduate, and provided by Wooldridge."
   ]
  },
  {
   "cell_type": "markdown",
   "metadata": {},
   "source": [
    "** Context: ** The skipped variable represents the average number of lectures each respondent skips per week.  You are interested in testing whether MSU students skip over 1 lecture per week on the average."
   ]
  },
  {
   "cell_type": "code",
   "execution_count": 1,
   "metadata": {},
   "outputs": [
    {
     "data": {
      "text/html": [
       "<ol class=list-inline>\n",
       "\t<li>'data'</li>\n",
       "\t<li>'desc'</li>\n",
       "\t<li>'self'</li>\n",
       "</ol>\n"
      ],
      "text/latex": [
       "\\begin{enumerate*}\n",
       "\\item 'data'\n",
       "\\item 'desc'\n",
       "\\item 'self'\n",
       "\\end{enumerate*}\n"
      ],
      "text/markdown": [
       "1. 'data'\n",
       "2. 'desc'\n",
       "3. 'self'\n",
       "\n",
       "\n"
      ],
      "text/plain": [
       "[1] \"data\" \"desc\" \"self\""
      ]
     },
     "metadata": {},
     "output_type": "display_data"
    },
    {
     "data": {
      "text/html": [
       "<table>\n",
       "<thead><tr><th scope=col>age</th><th scope=col>soph</th><th scope=col>junior</th><th scope=col>senior</th><th scope=col>senior5</th><th scope=col>male</th><th scope=col>campus</th><th scope=col>business</th><th scope=col>engineer</th><th scope=col>colGPA</th><th scope=col>⋯</th><th scope=col>greek</th><th scope=col>car</th><th scope=col>siblings</th><th scope=col>bgfriend</th><th scope=col>clubs</th><th scope=col>skipped</th><th scope=col>alcohol</th><th scope=col>gradMI</th><th scope=col>fathcoll</th><th scope=col>mothcoll</th></tr></thead>\n",
       "<tbody>\n",
       "\t<tr><td>21 </td><td>0  </td><td>0  </td><td>1  </td><td>0  </td><td>0  </td><td>0  </td><td>1  </td><td>0  </td><td>3.0</td><td>⋯  </td><td>0  </td><td>1  </td><td>1  </td><td>0  </td><td>0  </td><td>2  </td><td>1.0</td><td>1  </td><td>0  </td><td>0  </td></tr>\n",
       "\t<tr><td>21 </td><td>0  </td><td>0  </td><td>1  </td><td>0  </td><td>0  </td><td>0  </td><td>1  </td><td>0  </td><td>3.4</td><td>⋯  </td><td>0  </td><td>1  </td><td>0  </td><td>1  </td><td>1  </td><td>0  </td><td>1.0</td><td>1  </td><td>1  </td><td>1  </td></tr>\n",
       "\t<tr><td>20 </td><td>0  </td><td>1  </td><td>0  </td><td>0  </td><td>0  </td><td>0  </td><td>1  </td><td>0  </td><td>3.0</td><td>⋯  </td><td>0  </td><td>1  </td><td>1  </td><td>0  </td><td>1  </td><td>0  </td><td>1.0</td><td>1  </td><td>1  </td><td>1  </td></tr>\n",
       "\t<tr><td>19 </td><td>1  </td><td>0  </td><td>0  </td><td>0  </td><td>1  </td><td>1  </td><td>1  </td><td>0  </td><td>3.5</td><td>⋯  </td><td>0  </td><td>0  </td><td>1  </td><td>0  </td><td>0  </td><td>0  </td><td>0.0</td><td>0  </td><td>0  </td><td>0  </td></tr>\n",
       "\t<tr><td>20 </td><td>0  </td><td>1  </td><td>0  </td><td>0  </td><td>0  </td><td>0  </td><td>1  </td><td>0  </td><td>3.6</td><td>⋯  </td><td>0  </td><td>1  </td><td>1  </td><td>1  </td><td>0  </td><td>0  </td><td>1.5</td><td>1  </td><td>1  </td><td>0  </td></tr>\n",
       "\t<tr><td>20 </td><td>0  </td><td>0  </td><td>1  </td><td>0  </td><td>1  </td><td>1  </td><td>1  </td><td>0  </td><td>3.0</td><td>⋯  </td><td>0  </td><td>1  </td><td>1  </td><td>0  </td><td>0  </td><td>0  </td><td>0.0</td><td>0  </td><td>1  </td><td>0  </td></tr>\n",
       "</tbody>\n",
       "</table>\n"
      ],
      "text/latex": [
       "\\begin{tabular}{r|lllllllllllllllllllllllllllll}\n",
       " age & soph & junior & senior & senior5 & male & campus & business & engineer & colGPA & ⋯ & greek & car & siblings & bgfriend & clubs & skipped & alcohol & gradMI & fathcoll & mothcoll\\\\\n",
       "\\hline\n",
       "\t 21  & 0   & 0   & 1   & 0   & 0   & 0   & 1   & 0   & 3.0 & ⋯   & 0   & 1   & 1   & 0   & 0   & 2   & 1.0 & 1   & 0   & 0  \\\\\n",
       "\t 21  & 0   & 0   & 1   & 0   & 0   & 0   & 1   & 0   & 3.4 & ⋯   & 0   & 1   & 0   & 1   & 1   & 0   & 1.0 & 1   & 1   & 1  \\\\\n",
       "\t 20  & 0   & 1   & 0   & 0   & 0   & 0   & 1   & 0   & 3.0 & ⋯   & 0   & 1   & 1   & 0   & 1   & 0   & 1.0 & 1   & 1   & 1  \\\\\n",
       "\t 19  & 1   & 0   & 0   & 0   & 1   & 1   & 1   & 0   & 3.5 & ⋯   & 0   & 0   & 1   & 0   & 0   & 0   & 0.0 & 0   & 0   & 0  \\\\\n",
       "\t 20  & 0   & 1   & 0   & 0   & 0   & 0   & 1   & 0   & 3.6 & ⋯   & 0   & 1   & 1   & 1   & 0   & 0   & 1.5 & 1   & 1   & 0  \\\\\n",
       "\t 20  & 0   & 0   & 1   & 0   & 1   & 1   & 1   & 0   & 3.0 & ⋯   & 0   & 1   & 1   & 0   & 0   & 0   & 0.0 & 0   & 1   & 0  \\\\\n",
       "\\end{tabular}\n"
      ],
      "text/markdown": [
       "\n",
       "age | soph | junior | senior | senior5 | male | campus | business | engineer | colGPA | ⋯ | greek | car | siblings | bgfriend | clubs | skipped | alcohol | gradMI | fathcoll | mothcoll | \n",
       "|---|---|---|---|---|---|\n",
       "| 21  | 0   | 0   | 1   | 0   | 0   | 0   | 1   | 0   | 3.0 | ⋯   | 0   | 1   | 1   | 0   | 0   | 2   | 1.0 | 1   | 0   | 0   | \n",
       "| 21  | 0   | 0   | 1   | 0   | 0   | 0   | 1   | 0   | 3.4 | ⋯   | 0   | 1   | 0   | 1   | 1   | 0   | 1.0 | 1   | 1   | 1   | \n",
       "| 20  | 0   | 1   | 0   | 0   | 0   | 0   | 1   | 0   | 3.0 | ⋯   | 0   | 1   | 1   | 0   | 1   | 0   | 1.0 | 1   | 1   | 1   | \n",
       "| 19  | 1   | 0   | 0   | 0   | 1   | 1   | 1   | 0   | 3.5 | ⋯   | 0   | 0   | 1   | 0   | 0   | 0   | 0.0 | 0   | 0   | 0   | \n",
       "| 20  | 0   | 1   | 0   | 0   | 0   | 0   | 1   | 0   | 3.6 | ⋯   | 0   | 1   | 1   | 1   | 0   | 0   | 1.5 | 1   | 1   | 0   | \n",
       "| 20  | 0   | 0   | 1   | 0   | 1   | 1   | 1   | 0   | 3.0 | ⋯   | 0   | 1   | 1   | 0   | 0   | 0   | 0.0 | 0   | 1   | 0   | \n",
       "\n",
       "\n"
      ],
      "text/plain": [
       "  age soph junior senior senior5 male campus business engineer colGPA ⋯ greek\n",
       "1 21  0    0      1      0       0    0      1        0        3.0    ⋯ 0    \n",
       "2 21  0    0      1      0       0    0      1        0        3.4    ⋯ 0    \n",
       "3 20  0    1      0      0       0    0      1        0        3.0    ⋯ 0    \n",
       "4 19  1    0      0      0       1    1      1        0        3.5    ⋯ 0    \n",
       "5 20  0    1      0      0       0    0      1        0        3.6    ⋯ 0    \n",
       "6 20  0    0      1      0       1    1      1        0        3.0    ⋯ 0    \n",
       "  car siblings bgfriend clubs skipped alcohol gradMI fathcoll mothcoll\n",
       "1 1   1        0        0     2       1.0     1      0        0       \n",
       "2 1   0        1        1     0       1.0     1      1        1       \n",
       "3 1   1        0        1     0       1.0     1      1        1       \n",
       "4 0   1        0        0     0       0.0     0      0        0       \n",
       "5 1   1        1        0     0       1.5     1      1        0       \n",
       "6 1   1        0        0     0       0.0     0      1        0       "
      ]
     },
     "metadata": {},
     "output_type": "display_data"
    }
   ],
   "source": [
    "library(moments)\n",
    "load(\"gpa1.RData\")\n",
    "objects()\n",
    "head(data)\n",
    "skip = data$skipped"
   ]
  },
  {
   "cell_type": "markdown",
   "metadata": {},
   "source": [
    "**1.0: ** Examine the skipped variable and argue whether or not a t-test is valid for this scenario."
   ]
  },
  {
   "cell_type": "code",
   "execution_count": 2,
   "metadata": {},
   "outputs": [
    {
     "data": {
      "text/html": [
       "'Number of Observations: 141'"
      ],
      "text/latex": [
       "'Number of Observations: 141'"
      ],
      "text/markdown": [
       "'Number of Observations: 141'"
      ],
      "text/plain": [
       "[1] \"Number of Observations: 141\""
      ]
     },
     "metadata": {},
     "output_type": "display_data"
    },
    {
     "data": {
      "text/plain": [
       "   Min. 1st Qu.  Median    Mean 3rd Qu.    Max. \n",
       "  0.000   0.000   1.000   1.076   2.000   5.000 "
      ]
     },
     "metadata": {},
     "output_type": "display_data"
    }
   ],
   "source": [
    "paste('Number of Observations:', length(skip))\n",
    "summary(skip)"
   ]
  },
  {
   "cell_type": "markdown",
   "metadata": {},
   "source": [
    "> The $skipped$ variable has 141 observations, the responses range from 0 to 5, and the mean (1.076) is greater than the median (1.00), which indicates a degree of positive skewness in the distribution of $skipped$. There are no missing or unusual observations of note.\n",
    "\n",
    "> Because the population standard deviation is not known a t-test must be used instead of a z-test.\n",
    "\n",
    "> Next a histogram confirms that the distribution of $skipped$ is not normal, it is positively skewed and bounded to be non-negative, it is unlikely that with repeated sampling that it would approach normality either."
   ]
  },
  {
   "cell_type": "code",
   "execution_count": 3,
   "metadata": {},
   "outputs": [
    {
     "data": {
      "image/png": "[encoded data removed]",
      "text/plain": [
       "Plot with title “Histogram of average number of lectures skipped per week”"
      ]
     },
     "metadata": {},
     "output_type": "display_data"
    }
   ],
   "source": [
    "hist(skip, main=\"Histogram of average number of lectures skipped per week\",\n",
    "     xlab=\"Average number of lectures skipped per week\")"
   ]
  },
  {
   "cell_type": "markdown",
   "metadata": {},
   "source": [
    "> So technically while the t-test requires the population distribution to be normal, it still remains robust with departures from normality. The distribution is not overly unusual, so the researcher simply needs to be aware of the skew and what that means for their Type I and II errors at either end of the distribution.\n",
    "\n",
    "> Accordingly, the t-test is valid test in this instance, but given the size of the sample n=`r length(skip)` and hence the large number of degrees of freedom the results will in the end be very similar to that of a z-test."
   ]
  },
  {
   "cell_type": "markdown",
   "metadata": {},
   "source": [
    "**2.0: ** How would your answer to part a change if Mr. Lemmon selected dormitory rooms at random, then interviewed all occupants in the rooms he selected?"
   ]
  },
  {
   "cell_type": "markdown",
   "metadata": {},
   "source": [
    "> By selecting whole dorms, of which the individual beds may not be allocated on a random basis (gender being an obvious one), it may introduce unexpected sampling bias, so the assumptions underlying the use of a t-test would no longer be valid. As such in my view the t-test would not be valid."
   ]
  },
  {
   "cell_type": "markdown",
   "metadata": {},
   "source": [
    "**3.0: ** Provide an argument for why you should choose a 2-tailed test in this instance, even if you are hoping to demonstrate that MSU students skip more than 1 lecture per week."
   ]
  },
  {
   "cell_type": "markdown",
   "metadata": {},
   "source": [
    "> There is no particular reason to suggest that the number of skipped lectures will be higher or lower than 1 per week, so a one-sided test is not justified. Instead it is better to determine if the average number of lectures is simply different to 1 per week."
   ]
  },
  {
   "cell_type": "markdown",
   "metadata": {},
   "source": [
    "**4.0: ** Conduct the t-test using the t.test function and interpret every component of the results."
   ]
  },
  {
   "cell_type": "code",
   "execution_count": 4,
   "metadata": {},
   "outputs": [
    {
     "data": {
      "text/html": [
       "<ol class=list-inline>\n",
       "\t<li>'statistic'</li>\n",
       "\t<li>'parameter'</li>\n",
       "\t<li>'p.value'</li>\n",
       "\t<li>'conf.int'</li>\n",
       "\t<li>'estimate'</li>\n",
       "\t<li>'null.value'</li>\n",
       "\t<li>'alternative'</li>\n",
       "\t<li>'method'</li>\n",
       "\t<li>'data.name'</li>\n",
       "</ol>\n"
      ],
      "text/latex": [
       "\\begin{enumerate*}\n",
       "\\item 'statistic'\n",
       "\\item 'parameter'\n",
       "\\item 'p.value'\n",
       "\\item 'conf.int'\n",
       "\\item 'estimate'\n",
       "\\item 'null.value'\n",
       "\\item 'alternative'\n",
       "\\item 'method'\n",
       "\\item 'data.name'\n",
       "\\end{enumerate*}\n"
      ],
      "text/markdown": [
       "1. 'statistic'\n",
       "2. 'parameter'\n",
       "3. 'p.value'\n",
       "4. 'conf.int'\n",
       "5. 'estimate'\n",
       "6. 'null.value'\n",
       "7. 'alternative'\n",
       "8. 'method'\n",
       "9. 'data.name'\n",
       "\n",
       "\n"
      ],
      "text/plain": [
       "[1] \"statistic\"   \"parameter\"   \"p.value\"     \"conf.int\"    \"estimate\"   \n",
       "[6] \"null.value\"  \"alternative\" \"method\"      \"data.name\"  "
      ]
     },
     "metadata": {},
     "output_type": "display_data"
    },
    {
     "data": {
      "text/plain": [
       "\n",
       "\tOne Sample t-test\n",
       "\n",
       "data:  skip\n",
       "t = 0.83142, df = 140, p-value = 0.4072\n",
       "alternative hypothesis: true mean is not equal to 1\n",
       "95 percent confidence interval:\n",
       " 0.8949445 1.2575377\n",
       "sample estimates:\n",
       "mean of x \n",
       " 1.076241 \n"
      ]
     },
     "metadata": {},
     "output_type": "display_data"
    }
   ],
   "source": [
    "results = t.test(skip, mu=1)\n",
    "names(results)\n",
    "results"
   ]
  },
  {
   "cell_type": "markdown",
   "metadata": {},
   "source": [
    "> Results interpretation:\n",
    "\n",
    ">a. The name of the data is $skip$.\n",
    "\n",
    ">b. The numbers of degrees of freedom used for calculation of values from the t curves are $df=140$.\n",
    "\n",
    ">c. The $p-value$ is the probability that we can get a set of values at least as extreme as those in the sample assuming that $H_0$ is true. In this instance the $p-value$ is 0.407.\n",
    "\n",
    ">d. The test statistic which is calculated using the methodology in **part (e)** is 0.831.\n",
    "\n",
    ">e. The sample mean of the sample set is 1.07.\n",
    "\n",
    ">f. The value of the population mean in the null hypothesis ($H_0$) is 1, i.e. $H_0: \\mu = 1$.\n",
    "\n",
    ">g. The alternative hypothesis ($H_1$) is two sided, i.e. $H_1: \\mu \\neq 1$.\n",
    "\n",
    ">h. The test method is a One sample t test, which is because we are comparing one sample mean against a fixed hypothesis value of 1.\n",
    "\n",
    ">i. Finally using the sample mean, the sample standard deviation, the test statistic and the number of observations, the 95% confidence interval is computed as (0.894,1.25) using the same methodology as **part (f)**."
   ]
  },
  {
   "cell_type": "markdown",
   "metadata": {},
   "source": [
    "**5.0: ** Show how you would compute the t-statistic and p-value manually (without using t.test), using the pt function in R."
   ]
  },
  {
   "cell_type": "markdown",
   "metadata": {},
   "source": [
    "> The t-statistic is calculated as \n",
    "\n",
    "$$t = \\cfrac{(\\bar{X}-\\mu)}{\\frac{s}{\\sqrt{n}}}$$\n",
    "\n",
    "> where \n",
    "\n",
    "> $\\bar{X}$ = mean of $x_i$'s for i = 1,…,n\n",
    "\n",
    "> $\\mu$ = 1 (i.e. being tested for)\n",
    "\n",
    "> s = sample standard deviation of $x_i$'s for i = 1,…,n\n",
    "\n",
    "> While the p-value is calculated as: \n",
    "\n",
    "> $p-value = 2 * (1 - P(T<|t|,df))$ i.e. the area of two tails above and below $|t|$ with $df =140$."
   ]
  },
  {
   "cell_type": "code",
   "execution_count": 5,
   "metadata": {},
   "outputs": [
    {
     "data": {
      "text/html": [
       "0.831415581558769"
      ],
      "text/latex": [
       "0.831415581558769"
      ],
      "text/markdown": [
       "0.831415581558769"
      ],
      "text/plain": [
       "[1] 0.8314156"
      ]
     },
     "metadata": {},
     "output_type": "display_data"
    },
    {
     "data": {
      "text/html": [
       "140"
      ],
      "text/latex": [
       "140"
      ],
      "text/markdown": [
       "140"
      ],
      "text/plain": [
       "[1] 140"
      ]
     },
     "metadata": {},
     "output_type": "display_data"
    },
    {
     "data": {
      "text/html": [
       "0.40715469213578"
      ],
      "text/latex": [
       "0.40715469213578"
      ],
      "text/markdown": [
       "0.40715469213578"
      ],
      "text/plain": [
       "[1] 0.4071547"
      ]
     },
     "metadata": {},
     "output_type": "display_data"
    },
    {
     "data": {
      "text/html": [
       "<strong>t:</strong> TRUE"
      ],
      "text/latex": [
       "\\textbf{t:} TRUE"
      ],
      "text/markdown": [
       "**t:** TRUE"
      ],
      "text/plain": [
       "   t \n",
       "TRUE "
      ]
     },
     "metadata": {},
     "output_type": "display_data"
    },
    {
     "data": {
      "text/html": [
       "TRUE"
      ],
      "text/latex": [
       "TRUE"
      ],
      "text/markdown": [
       "TRUE"
      ],
      "text/plain": [
       "[1] TRUE"
      ]
     },
     "metadata": {},
     "output_type": "display_data"
    }
   ],
   "source": [
    "xbar = mean(skip)\n",
    "mu = 1\n",
    "s = sd(skip)\n",
    "n = length(skip)\n",
    "t = (xbar-mu)/(s/n^0.5)\n",
    "t\n",
    "df = n - 1\n",
    "df\n",
    "p = 2 * (1 - pt(t,df))\n",
    "p\n",
    "round(t,6) == round(results$statistic,6)\n",
    "round(p,6) == round(results$p.value,6)"
   ]
  },
  {
   "cell_type": "markdown",
   "metadata": {},
   "source": [
    "**6.0: ** Construct a 99% confidence interval for the mean number classes skipped by MSU students in a week."
   ]
  },
  {
   "cell_type": "markdown",
   "metadata": {},
   "source": [
    "> A 99% confidence interval is constructed as:\n",
    "\n",
    "$$(\\bar{X} - t_{\\alpha , df} \\cfrac{s}{\\sqrt{n}} , \\bar{X} + t_{\\alpha , df} \\cfrac{s}{\\sqrt{n}})$$\n",
    "\n",
    "> where $\\alpha = 0.995$ and $df = n - 1 = 140$\n",
    "\n",
    "> Using R:"
   ]
  },
  {
   "cell_type": "code",
   "execution_count": 6,
   "metadata": {},
   "outputs": [
    {
     "data": {
      "text/html": [
       "2.61140271115034"
      ],
      "text/latex": [
       "2.61140271115034"
      ],
      "text/markdown": [
       "2.61140271115034"
      ],
      "text/plain": [
       "[1] 2.611403"
      ]
     },
     "metadata": {},
     "output_type": "display_data"
    },
    {
     "data": {
      "text/html": [
       "<ol class=list-inline>\n",
       "\t<li>0.836774482444529</li>\n",
       "\t<li>1.31570778705902</li>\n",
       "</ol>\n"
      ],
      "text/latex": [
       "\\begin{enumerate*}\n",
       "\\item 0.836774482444529\n",
       "\\item 1.31570778705902\n",
       "\\end{enumerate*}\n"
      ],
      "text/markdown": [
       "1. 0.836774482444529\n",
       "2. 1.31570778705902\n",
       "\n",
       "\n"
      ],
      "text/plain": [
       "[1] 0.8367745 1.3157078"
      ]
     },
     "metadata": {},
     "output_type": "display_data"
    }
   ],
   "source": [
    "T = qt(0.995,df)\n",
    "T\n",
    "CI = c(xbar - T*s/n^0.5, xbar + T*s/n^0.5)\n",
    "CI"
   ]
  },
  {
   "cell_type": "markdown",
   "metadata": {},
   "source": [
    "> So the 99% confidence interval is (0.83,1.31), which notably is wider than the 95% CI in **part (d)** as expected.\n",
    "\n",
    "> Alternatively using $t.test()$:"
   ]
  },
  {
   "cell_type": "code",
   "execution_count": 7,
   "metadata": {},
   "outputs": [
    {
     "data": {
      "text/plain": [
       "\n",
       "\tOne Sample t-test\n",
       "\n",
       "data:  skip\n",
       "t = 0.83142, df = 140, p-value = 0.4072\n",
       "alternative hypothesis: true mean is not equal to 1\n",
       "99 percent confidence interval:\n",
       " 0.8367745 1.3157078\n",
       "sample estimates:\n",
       "mean of x \n",
       " 1.076241 \n"
      ]
     },
     "metadata": {},
     "output_type": "display_data"
    }
   ],
   "source": [
    "t.test(skip, mu=1, conf.level = 0.99)"
   ]
  },
  {
   "cell_type": "markdown",
   "metadata": {},
   "source": [
    "> which produces the same confidence interval as the manual approach."
   ]
  },
  {
   "cell_type": "markdown",
   "metadata": {},
   "source": [
    "** 7.0: ** Can you say that there is a 99% chance the population mean falls inside your confidence interval?"
   ]
  },
  {
   "cell_type": "markdown",
   "metadata": {},
   "source": [
    "> No you can't because this is just one sample from the population, what you can say is that if you repeated the experiment many times that 99% of the confidence intervals would contain the population mean."
   ]
  },
  {
   "cell_type": "code",
   "execution_count": null,
   "metadata": {},
   "outputs": [],
   "source": []
  }
 ],
 "metadata": {
  "kernelspec": {
   "display_name": "R",
   "language": "R",
   "name": "ir"
  },
  "language_info": {
   "codemirror_mode": "r",
   "file_extension": ".r",
   "mimetype": "text/x-r-source",
   "name": "R",
   "pygments_lexer": "r",
   "version": "3.4.3"
  }
 },
 "nbformat": 4,
 "nbformat_minor": 2
}
