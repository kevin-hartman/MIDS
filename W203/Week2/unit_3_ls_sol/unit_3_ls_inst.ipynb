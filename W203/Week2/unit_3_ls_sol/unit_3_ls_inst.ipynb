{
 "cells": [
  {
   "cell_type": "markdown",
   "metadata": {},
   "source": [
    "<h1>Unit 3 Live Session </center> </h1>\n",
    "<h2> W203 Instructional Team </h2>"
   ]
  },
  {
   "cell_type": "markdown",
   "metadata": {},
   "source": [
    "<h2> Probability Theory </h2>\n",
    "<img src=\"https://drive.google.com/uc?id=1q4JwiuEjG8YlEx2pktDAb2W7UJTnkLEE\">"
   ]
  },
  {
   "cell_type": "markdown",
   "metadata": {},
   "source": [
    "### 0.1 Class Announcements\n",
    "1. Announcement 1 \n",
    "2. Announcement 2\n"
   ]
  },
  {
   "cell_type": "markdown",
   "metadata": {},
   "source": [
    "### 0.2 Sharing Math: \n",
    "Over the next few weeks of the course, we'll solve a lot of math problems together.  To hand in math for homework and labs, you can do one of the following.\n",
    "* Handwrite your solutions and scan them into a **single** .pdf file\n",
    "* Write your solutions in Latex and turn in the typesetted .pdf.\n",
    "\n",
    "Even though it takes a little effort (most agree that LaTeX is a pain at first), it will help if you learn a little LaTeX.  We will be able to use the syntax for communicating equations in the notes and chat pods.\n",
    "<img src=\"https://drive.google.com/uc?id=1525Ok4gx80TzNlPKlBJo6LXqlf1ZgsbA\">"
   ]
  },
  {
   "cell_type": "markdown",
   "metadata": {},
   "source": [
    "<h3> 1 Conditional Probability and Partitions Review </h3>\n",
    "\n",
    "Lets take a few minutes to review some core concepts in probability that will help us to complete our HW problems. \n"
   ]
  },
  {
   "cell_type": "markdown",
   "metadata": {},
   "source": [
    "** 1.1 State Space $\\Omega$ **: Is the collection of all possible outcomes of a given experiment \n",
    "\n",
    "* Rolling a 6 sided die: $\\Omega = \\{1,2,3,4,5,6\\}$\n",
    "* 5 Card Poker Hand: $\\Omega$ = all 2,598,960 possible hands.  \n",
    "\n",
    "<img src=\"https://drive.google.com/uc?id=1am1xmnh_6IJkyM5EtQQbl2iDFSPmfada\">"
   ]
  },
  {
   "cell_type": "markdown",
   "metadata": {},
   "source": [
    "** 1.2 Event $A \\subset \\Omega$  **: Is a collection of outcomes \n",
    "\n",
    "* $A = \\{2,4,6\\}$ is the event of rolling a 6 sided die and getting an even number\n",
    "* $B = \\{(H,H,T),(H,T,H),(T,H,H), (H,H,H)\\}$ is the event that you fill a coin 3 times and get a least 2 heads."
   ]
  },
  {
   "cell_type": "markdown",
   "metadata": {},
   "source": [
    "** 1.3 Partition of $\\Omega$ **: Is a collection of events $A_1,A_2,\\cdots, A_N$ with 3 properties\n",
    "\n",
    "1. Relevant: $A_j \\subset \\Omega$ for all $j \\in \\{1,2,3,\\cdots, N\\}$\n",
    "\n",
    "2. Disjoint: $A_i \\cap A_j = \\emptyset$ whenever $i \\neq j$\n",
    "\n",
    "3. Exhaustive: $A_1 \\cup A_2 \\cup \\cdots \\cup A_N = \\Omega$\n",
    "\n",
    "In other words, each event $A_j$ is made up of outcomes in $\\Omega$, No two $A_j$'s overlap/share the same outcome, together all $A_j$'s combine to equal $\\Omega$ \n",
    "<img src=\"https://drive.google.com/uc?id=1suxvSq8q0lDVt6095Jme38UfV82jRBEP\">"
   ]
  },
  {
   "cell_type": "markdown",
   "metadata": {},
   "source": [
    "** 1.4 Decomposing the Probability of an Event With a Partition **\n",
    "\n",
    "Partitions allow us to take complex events which may be difficult to address directly and decompose it into simpler events which are easier to deal with. Now consider, \n",
    "\n",
    "1.) If $B\\subset \\Omega$ and $A_1,A_2,\\cdots, A_N$ is a partition of $\\Omega$ then, \n",
    "$$ B = (A_1\\cap B)\\cup(A_2 \\cap B) \\cup \\cdots \\cup (A_N \\cap B) $$\n",
    "\n",
    "2.) If $A_i\\cap A_j= \\emptyset$ then \n",
    "$$B\\cap(A_i\\cap A_j) = (B\\cap A_i)\\cap(B\\cap A_j) = \\emptyset $$ \n",
    "\n",
    "3.) If $A\\cap B = \\emptyset$ then \n",
    "$$ P(A\\cup B) = P(A) + P(B)  - P(A\\cap B) = P(A) + P(B)  - P(\\emptyset) = P(A) + P(B)  $$\n",
    "\n",
    "Combining all these gives\n",
    "$$  P(B) = P\\big[ (A_1\\cap B)\\cup(A_2 \\cap B) \\cup \\cdots \\cup (A_N \\cap B) \\big] = \\sum_{i=1}^N P(A_i \\cap B) $$"
   ]
  },
  {
   "cell_type": "markdown",
   "metadata": {},
   "source": [
    "** 1.5 Conditional Probability: ** \n",
    "\n",
    "Where a partition is really helpful is when you combine it with the conditional probability equations. Recall that,\n",
    "$$ P(B|A) = \\frac{ P( A \\cap B)  }{P(A)}   \\iff P(A \\cap B) = P(B|A) P(A) $$\n",
    "\n",
    "So if we combine the last two equations we get\n",
    "$$ P(B) =\\sum_{i=1}^N P(A_i \\cap B) = \\sum_{i=1}^N P(B|A_i) P(A_i) $$\n",
    "\n",
    "The value of this approach is that you can take a complex event $B$ and through the wise choice of a partition can decompose $P(B)$ into a bunch of easily manageble parts. "
   ]
  },
  {
   "cell_type": "markdown",
   "metadata": {},
   "source": [
    "<h3> 2 Probability Practice </h3>\n",
    "Complete the following probability problems using the material you learned in this week's async\n",
    "\n"
   ]
  },
  {
   "cell_type": "markdown",
   "metadata": {},
   "source": [
    "**2.1** Suppose you're taking a statistics class and that in each week you are either caught up or behind on the readings. It is difficult to incorporate a new class in to your schedule so the probability that you will be caught up, having viewed all async and completed the pre class exercises before the live session, is 0.7. From then on, if you are caught up in a given week, the probability that you will be caught up in the next week is 0.7. If you are behind in a given week, the probability that you will be caught up in the next week is 0.4. What is the probability that you are caught up in week 3?"
   ]
  },
  {
   "cell_type": "markdown",
   "metadata": {},
   "source": [
    "> First we extract the information that we need from the problem statement\n",
    "\n",
    "> Let $C_i$ and $B_i$ be the events where you are caught up and behind respectively in week $i \\in \\{1,2,3\\}$\n",
    "\n",
    "> From the problem statement we know that for \n",
    "$$\n",
    "\\begin{aligned} \n",
    "P(C_1) &= 0.7 \\\\\n",
    "P(C_{j+1} | C_j) &= 0.7 \\\\\n",
    "P(C_{j+1} | B_j) &= 0.4 \\\\\n",
    "\\end{aligned}\n",
    "$$\n",
    "> where $ j \\in \\{ 1,2\\} $. "
   ]
  },
  {
   "cell_type": "markdown",
   "metadata": {},
   "source": [
    "> Now using the somewhat obvious fact that \n",
    "$$\n",
    "\\begin{aligned} \n",
    "P(C_{j+1} |C_j) + P(B_{j+1} |C_j) &= 1 \\\\\n",
    "P(C_{j+1} |B_j) + P(B_{j+1} |B_j) &= 1 \n",
    "\\end{aligned}\n",
    "$$\n",
    "We can calculate that \n",
    "$$ \\begin{aligned}\n",
    " P(B_{j+1} |C_j) &= 1 - P(C_{j+1} |C_j) = 0.3\\\\\n",
    " P(B_{j+1} |B_j) &= 1 - P(C_{j+1} |B_j) = 0.6 \n",
    "\\end{aligned}\n",
    "$$"
   ]
  },
  {
   "cell_type": "markdown",
   "metadata": {},
   "source": [
    "> What remains is for us to decompose the probability that we are interested in $P(C_3)$ in terms of the probabilities that we have already calculated. To do this we have to choose an appropriate partition to aid our decomposition. We will choose $C_j$ and $B_J$ since $C_j \\cup B_j = \\Omega$ and $C_j \\cap B_j = \\emptyset$. Lastly, recall that\n",
    "\n",
    "$$\n",
    "\\begin{aligned} \n",
    "P(A \\cap B) = P(A|B)P(B)\n",
    "\\end{aligned} \n",
    "$$\n",
    "\n",
    "\n",
    "\n"
   ]
  },
  {
   "cell_type": "markdown",
   "metadata": {},
   "source": [
    "\n",
    " > Now consider, \n",
    "$$\n",
    "\\begin{aligned}\n",
    "P(C_3) &= P(C_3\\cap(C_2\\cup B_2)) \\\\\n",
    "& = P(C_3\\cap C_2) + P(C_3\\cap B_2) \\\\\n",
    "& = P(C_3| C_2)P(C_2) + P(C_3 | B_2)P(B_2) \\\\\n",
    "& = P(C_3| C_2)P(C_2 \\cap( C_1 \\cup B_1 ))   + P(C_3 | B_2)P(B_2\\cap( C_1 \\cup B_1 ))  \\\\\n",
    "& = P(C_3| C_2)(P(C_2 \\cap C_1) +  P(C_2 \\cap B_1 ))  + P(C_3 | B_2)(P(B_2\\cap C_1) + P(B_2\\cap B_1) ) \\\\ \n",
    "& =  P(C_3| C_2)P(C_2 |C_1)P(C_1) +  P(C_3| C_2)P(C_2 |B_1 )P(B_1) \\\\\n",
    "& \\;\\;\\;\\;\\; + P(C_3 | B_2)P(B_2| C_1)P(C_1) + P(C_3 | B_2)P(B_2| B_1)P(B_1)  \\\\ \n",
    "& = 0.7*0.7*0.7 + 0.7*0.4*(1-0.7) + 0.4*0.3*0.7 + 0.4*0.6*(1-0.7) \\\\\n",
    "& =  0.583\n",
    "\\end{aligned}\n",
    "$$\n"
   ]
  },
  {
   "cell_type": "markdown",
   "metadata": {},
   "source": [
    "**2.2** A test for certain disease is assumed to be correct 95% of the time: if a person has a disease the test will give a positive result with probability 0.95. If a person does not have disease the test will give a negative result with probability 0.95. A random person drawn from a certain population has a probability 0.001 of having the disease. Given that a person drawn at random just tested positive, what is the probability that they have the disease?"
   ]
  },
  {
   "cell_type": "markdown",
   "metadata": {},
   "source": [
    "> Again we extract all the information that we can from the problem statement. \n",
    "\n",
    "> Let $POS$ and $NEG$ be the event that a person who has taken the tests, has a positive or negative result, respectively. \n",
    "\n",
    "> Let $D$ and $ND$ be the event where a person has or does not have the disease. \n",
    "\n",
    "> From the problem statement we know that. \n",
    "\n",
    "$$ \n",
    "\\begin{aligned} \n",
    "P(POS| D) & =0.95 \\\\\n",
    "P(NEG  | ND) & = 0.95 \\\\\n",
    "P(D) &= 0.001\n",
    "\\end{aligned} \n",
    "$$"
   ]
  },
  {
   "cell_type": "markdown",
   "metadata": {},
   "source": [
    "> Now again using the somewhat obvious facts. \n",
    "$$\n",
    "\\begin{aligned}\n",
    "P(POS |D) + P(NEG |D) &= 1 \\\\\n",
    "P(POS |ND) + P(NEG |ND) &= 1 \\\\\n",
    "P(ND) + P(D) &= 1\n",
    "\\end{aligned}\n",
    "$$\n",
    "\n",
    "> We can calculate that\n",
    "$$\n",
    "\\begin{aligned}\n",
    "P(NEG |D) &= 1 - P(POS |D) =  0.05 \\\\\n",
    "P(NEG |ND) &= 1 - P(POS |ND)  = 0.5 \\\\\n",
    "P(ND) &= 1 - P(D) = 0.999\n",
    "\\end{aligned}\n",
    "$$\n"
   ]
  },
  {
   "cell_type": "markdown",
   "metadata": {},
   "source": [
    "> What remains is for us to decompose the probability that we are interested in $P(D | POS)$ in terms of the probabilities that we have already calculated. To do this we have to choose an appropriate partition to aid our decomposition. We will choose $D$ and $ND$ since $D \\cup ND = \\Omega$ and $D \\cap ND = \\emptyset$. "
   ]
  },
  {
   "cell_type": "markdown",
   "metadata": {},
   "source": [
    "> Now consider \n",
    "$$\n",
    "\\begin{aligned}\n",
    "P(D | POS) &= \\frac{P(D\\cap POS)}{P(POS)} \\\\\n",
    "&=  \\frac{ P(POS|D)P(D)}{P(POS\\cap D) + P(POS \\cap ND)}  \\\\\n",
    "&=  \\frac{ P(POS|D)P(D)}{P(POS|D)P(D) + P(POS |ND)P(ND)}  \\\\\n",
    "&=  \\frac{0.95 *0.001}{0.95*0.001 + 0.05*0.999} \\\\\n",
    "&= 0.018\n",
    "\\end{aligned} \n",
    "$$"
   ]
  }
 ],
 "metadata": {
  "kernelspec": {
   "display_name": "R",
   "language": "R",
   "name": "ir"
  },
  "language_info": {
   "codemirror_mode": "r",
   "file_extension": ".r",
   "mimetype": "text/x-r-source",
   "name": "R",
   "pygments_lexer": "r",
   "version": "3.5.1"
  },
  "varInspector": {
   "cols": {
    "lenName": 16,
    "lenType": 16,
    "lenVar": 40
   },
   "kernels_config": {
    "python": {
     "delete_cmd_postfix": "",
     "delete_cmd_prefix": "del ",
     "library": "var_list.py",
     "varRefreshCmd": "print(var_dic_list())"
    },
    "r": {
     "delete_cmd_postfix": ") ",
     "delete_cmd_prefix": "rm(",
     "library": "var_list.r",
     "varRefreshCmd": "cat(var_dic_list()) "
    }
   },
   "types_to_exclude": [
    "module",
    "function",
    "builtin_function_or_method",
    "instance",
    "_Feature"
   ],
   "window_display": false
  }
 },
 "nbformat": 4,
 "nbformat_minor": 2
}
