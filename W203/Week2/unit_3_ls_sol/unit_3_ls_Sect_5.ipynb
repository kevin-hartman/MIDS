{
 "cells": [
  {
   "cell_type": "markdown",
   "metadata": {},
   "source": [
    "<h1>Unit 3 Live Session </center> </h1>\n",
    "<h2> W203 Instructional Team </h2>"
   ]
  },
  {
   "cell_type": "markdown",
   "metadata": {},
   "source": [
    "<h2> Probability Theory </h2>\n",
    "\n",
    "![title](picard.jpg)"
   ]
  },
  {
   "cell_type": "markdown",
   "metadata": {},
   "source": [
    "### 0.1 Class Announcements"
   ]
  },
  {
   "cell_type": "markdown",
   "metadata": {},
   "source": [
    "### 0.2 Sharing Math: \n",
    "Over the next few weeks of the course, we'll solve a lot of math problems together.  To hand in math for homework and labs, you can do one of the following.\n",
    "* Handwrite your solutions and scan them into a **single** .pdf file\n",
    "* Write your solutions in Latex and turn in the typesetted .pdf.\n",
    "\n",
    "Even though it takes a little effort (most agree that LaTeX is a pain at first), it will help if you learn a little LaTeX.  We will be able to use the syntax for communicating equations in the notes and chat pods.\n",
    "\n",
    "![title](latex_language.jpeg)"
   ]
  },
  {
   "cell_type": "markdown",
   "metadata": {},
   "source": [
    "<h3> 1 Conditional Probability and Partitions Review </h3>\n",
    "\n",
    "Lets take a few minutes to review some core concepts in probability that will help us to complete our HW problems. \n"
   ]
  },
  {
   "cell_type": "markdown",
   "metadata": {},
   "source": [
    "** 1.1 State Space $\\Omega$ **: Is the collection of all possible outcomes of a given experiment \n",
    "\n",
    "* Rolling a 6 sided die: $\\Omega = \\{1,2,3,4,5,6\\}$\n",
    "* 5 Card Poker Hand: $\\Omega$ = all 2,598,960 possible hands.\n",
    "* Choosing 1000 U.S. citizens for a survey: $\\Omega$ = all possible sets of 1000 people.\n",
    "\n",
    "\n",
    "![title](diag_11.png)\n"
   ]
  },
  {
   "cell_type": "markdown",
   "metadata": {},
   "source": [
    "** 1.2 Event $A \\subset \\Omega$  **: Is a collection of outcomes \n",
    "\n",
    "* $A = \\{2,4,6\\}$ is the event of rolling a 6 sided die and getting an even number\n",
    "* $B = \\{(H,H,T),(H,T,H),(T,H,H), (H,H,H)\\}$ is the event that you flip a coin 3 times and get a least 2 heads."
   ]
  },
  {
   "cell_type": "markdown",
   "metadata": {},
   "source": [
    "** 1.3 Partition of $\\Omega$ **: Is a collection of events $A_1,A_2,\\cdots, A_N$ with 3 properties\n",
    "\n",
    "1. Relevant: $A_j \\subset \\Omega$ for all $j \\in \\{1,2,3,\\cdots, N\\}$\n",
    "\n",
    "2. Disjoint: $A_i \\cap A_j = \\emptyset$ whenever $i \\neq j$  (also called mutually exclusive)\n",
    "\n",
    "3. Exhaustive: $A_1 \\cup A_2 \\cup \\cdots \\cup A_N = \\Omega$\n",
    "\n",
    "In other words, each event $A_j$ is made up of outcomes in $\\Omega$, No two $A_j$'s overlap/share the same outcome, together all $A_j$'s combine to equal $\\Omega$ \n",
    "![title](diag_22.png)"
   ]
  },
  {
   "cell_type": "markdown",
   "metadata": {},
   "source": [
    "** 1.4 Decomposing the Probability of an Event With a Partition **\n",
    "\n",
    "Partitions allow us to take complex events which may be difficult to address directly and decompose it into simpler events which are easier to deal with. Now consider, \n",
    "\n",
    "1.) If $B\\subset \\Omega$ and $A_1,A_2,\\cdots, A_N$ is a partition of $\\Omega$ then, \n",
    "$$ B = (A_1\\cap B)\\cup(A_2 \\cap B) \\cup \\cdots \\cup (A_N \\cap B) $$\n",
    "\n",
    "2.) If $A_i\\cap A_j= \\emptyset$ then \n",
    "$$B\\cap(A_i\\cap A_j) = (B\\cap A_i)\\cap(B\\cap A_j) = \\emptyset $$ \n",
    "\n",
    "3.) If $A\\cap B = \\emptyset$ then \n",
    "$$ P(A\\cup B) = P(A) + P(B)  - P(A\\cap B) = P(A) + P(B)  - P(\\emptyset) = P(A) + P(B)  $$\n",
    "\n",
    "Combining all these gives\n",
    "$$  P(B) = P\\big[ (A_1\\cap B)\\cup(A_2 \\cap B) \\cup \\cdots \\cup (A_N \\cap B) \\big] = \\sum_{i=1}^N P(A_i \\cap B) $$"
   ]
  },
  {
   "cell_type": "markdown",
   "metadata": {},
   "source": [
    "** 1.5 Conditional Probability: ** \n",
    "\n",
    "Where a partition is really helpful is when you combine it with the conditional probability equations. Recall that,\n",
    "$$ P(B|A) = \\frac{ P( A \\cap B)  }{P(A)}   \\iff P(A \\cap B) = P(B|A) P(A) $$\n",
    "\n",
    "So if we combine the last two equations we get\n",
    "$$ P(B) =\\sum_{i=1}^N P(A_i \\cap B) = \\sum_{i=1}^N P(B|A_i) P(A_i) $$\n",
    "\n",
    "The value of this approach is that you can take a complex event $B$ and through the wise choice of a partition can decompose $P(B)$ into a bunch of easily manageable parts. "
   ]
  },
  {
   "cell_type": "markdown",
   "metadata": {},
   "source": [
    "<h3> 2 Probability Practice </h3>\n",
    "Complete the following probability problems using the material you learned in this week's async\n",
    "\n"
   ]
  },
  {
   "cell_type": "markdown",
   "metadata": {},
   "source": [
    "**2.1** Suppose you're taking a statistics class and that in each week you are either caught up or behind on the readings. It is difficult to incorporate a new class in to your schedule so the probability that you will be caught up in Week 1, having viewed all async and completed the pre class exercises before the live session, is 0.7. From then on, if you are caught up in a given week, the probability that you will be caught up in the next week is 0.7. If you are behind in a given week, the probability that you will be caught up in the next week is 0.4. What is the probability that you are caught up in week 3?"
   ]
  },
  {
   "cell_type": "markdown",
   "metadata": {},
   "source": [
    "# catch up by week\n",
    "\n",
    "### Week 1\n",
    "\n",
    "- probability being caught up week 1\n",
    "$$P(C_1) = 0.7$$ \n",
    "\n",
    "- not caught up\n",
    "$$P(!C) = 0.3$$ \n",
    "\n",
    "What is the probability that you will be caught up in week 3?\n",
    "- Write a relationship between the weeks\n",
    "\n",
    "$$P(C_{i+1}|C_i) = 0.7$$\n",
    "\n",
    "$$P(C_{i+1}|!C_i)) = 0.4$$\n",
    "\n",
    "\n",
    "- Figure out a general formula for the Proability for any week\n",
    "\n",
    "$$P(C_{i+1}) = P(C_{i+1}|C_i) \\cdot P(C_i) + P(C_{i+1}|!C_i) \\cdot P(!C_i) $$\n",
    "\n"
   ]
  },
  {
   "cell_type": "markdown",
   "metadata": {},
   "source": [
    "- which formual will we use?\n",
    "$$ P(B) =\\sum_{i=1}^N P(A_i \\cap B) = \\sum_{i=1}^N P(B|A_i) P(A_i) $$\n"
   ]
  },
  {
   "cell_type": "markdown",
   "metadata": {},
   "source": [
    "- Calculate\n",
    "\n",
    "$$P(C_2) = 0.7 \\cdot 0.7 + 0.4 \\cdot 0.3 $$ \n",
    "\n",
    "$$P(C_2) = 0.61 $$ \n",
    "\n",
    "$$ therefore P(!C_2) = 0.39 $$\n",
    "\n",
    "$$P(C_3) = 0.7 \\cdot 0.61 + 0.4 \\cdot 0.39 $$\n",
    "\n",
    "$$P(C_2) = 0.583 $$ "
   ]
  },
  {
   "cell_type": "markdown",
   "metadata": {},
   "source": []
  },
  {
   "cell_type": "markdown",
   "metadata": {},
   "source": [
    "# EXTENSION: can we express this in a more general form?\n",
    "\n",
    "- which formual will we use?\n",
    "For any week *N*\n",
    "\n",
    "$$ P(C_N) = \\sum_{i=1}^{N-1} P(C_{i+1}|C_i) \\cdot P(C_i) + P(C_{i+1}|!C_i) \\cdot P(!C_i) $$\n",
    "\n"
   ]
  },
  {
   "cell_type": "code",
   "execution_count": null,
   "metadata": {},
   "outputs": [],
   "source": [
    "# since we are in a notebook can we code this up and see how it perfoms over time?"
   ]
  },
  {
   "cell_type": "markdown",
   "metadata": {},
   "source": [
    "**2.2** A test for certain disease is assumed to be correct 95\\% of the time: if a person has a disease the test will give a positive result with probability 0.95. If a person does not have disease the test will give a negative result with probability 0.95. A random person drawn from a certain population has a probability 0.001 of having the disease. Given that a person drawn at random just tested positive, what is the probability that they have the disease?"
   ]
  },
  {
   "cell_type": "markdown",
   "metadata": {},
   "source": [
    "## Setup\n",
    "\n",
    "#### True Positive rate (TPR)\n",
    "#### False Positive rate (FPR)\n",
    "$$P(+|d)=0.95$$\n",
    "$$P(+|!d)=0.05$$\n",
    "\n",
    "## Note: these are distinct\n",
    "#### True negative/ #### False Negative:\n",
    "\n",
    "$$P(!+|!d)=0.95$$  \n",
    "$$P(!+|d)=0.05$$\n",
    "\n",
    "\n",
    "#### population infection rate\n",
    "$$P(d) = 0.001$$\n",
    "$$P(!d) = 0.999$$\n",
    "\n",
    "given that a person drawn at random tests positive what is the probability that they have the disease?\n",
    "\n",
    "$$P(d|+) = ? $$"
   ]
  },
  {
   "cell_type": "markdown",
   "metadata": {},
   "source": [
    "# which equation will you use?\n",
    "$$ P(B|A) = \\frac{ P( A \\cap B)  }{P(A)}   \\iff P(A \\cap B) = P(B|A) P(A) $$"
   ]
  },
  {
   "cell_type": "markdown",
   "metadata": {},
   "source": [
    "# implement and calculate\n",
    "\n",
    "$$ P(d|+) = \\frac {P(+ \\cap d)}{P(+)}$$"
   ]
  },
  {
   "cell_type": "markdown",
   "metadata": {},
   "source": [
    "## note we need to calculate the overal probability of getting a positive\n",
    "\n",
    "- law of total probability \n",
    "- probability of getting a positive with the disease and the probabaility of getting a positive without the disease\n",
    "$$\n",
    "\\begin{aligned}\n",
    "P(+) = P(+ \\cap d) + P(+ \\cap !d)\\\\\n",
    "P(+) = P(+|d)\\cdot P(d) + P(+|!d) \\cdot P(!d)\n",
    "\\end{aligned}\n",
    "$$\n",
    "\n",
    "## Therefore\n",
    "\n",
    "$$ P(d|+) = \\frac {P(+|d)\\cdot P(d)}{P(+|d)\\cdot P(d) + P(+|!d) \\cdot P(!d)}$$\n"
   ]
  },
  {
   "cell_type": "markdown",
   "metadata": {},
   "source": [
    "$$ P(d|+) = \\frac {0.95 \\cdot .001}{(0.95 * .001 + .05 * .999)}$$\n",
    "\n",
    "$$ P(d|+) = 0.01866 $$"
   ]
  },
  {
   "cell_type": "markdown",
   "metadata": {},
   "source": [
    "<h3> 3 Operationalization Discussion </h3>\n",
    "\n",
    "Recall from this week's handout that Schoenmakers and Duysters set out to study radical inventions, contrasting them with incremental inventions.  They were interested in whether radical inventions tend to be based on existing knowledge or on entirely new knowledge.  \n",
    "\n",
    "Consider these discussion questions:\n",
    "\n",
    "1. Schoenmakers and Duysters are particularly interested in radical inventions.  Explain what their conceptual definition is and how it is related to their operational definition.\n",
    "\n",
    "2. In your opinion, does the author’s operational definition of radical invention have validity?  (does it have face validity?  construct validity?)\n",
    "\n",
    "3. If you believe there is a discrepancy between the author’s operational definition of radical invention and the intended concept, how could this affect their conclusions?  What factors, other than whether an invention is radical, could be driving their results?\n",
    "\n",
    "4. In what other ways could you operationalize the concept of radical invention?"
   ]
  },
  {
   "cell_type": "markdown",
   "metadata": {},
   "source": [
    "radical invention definition : \n",
    "\n",
    "conceptual definition: radical patents are those that break with common knolwedge and form a new field\n",
    "\n",
    "operational definition:\n",
    "\n",
    "    uncommon \n",
    "    cutoff high level (20) backwards citations    \n",
    "\n",
    "precision (the minimum granularity i.e. time)\n",
    "reliability (repeatability.)\n",
    "\n",
    "validity accuracy of the intended concept\n",
    "\n",
    "    - Face validity (are we getting what we are planning to measure -beard length...): \n",
    "\n",
    "    ~ content validity (do you have enough data - enough types of measure) :\n",
    "    \n",
    "    - Construct validity (clonesness between contruct and is the measure appropriate) :\n",
    "                       \n",
    "    ~ criterion validity( how close is proxy matched to gold standard)                \n",
    "\n",
    "\n",
    "what did they find about radical patenents (based on MORE existing knowledge)\n",
    "\n",
    "are these really radical departures as defined at first?\n",
    "\n",
    "can you think of an alternative explanation? (high backwards and forwasds citations in popular technologies.)\n",
    "\n",
    "\n",
    "** what is avaialable to the researchers?\n",
    "\n",
    "can you brainstorm another way to operatoinalize radical patents? ratio of fwd to bkwd citations. more radical adjusted for populariuty\n",
    "\n",
    "\n"
   ]
  },
  {
   "cell_type": "code",
   "execution_count": null,
   "metadata": {},
   "outputs": [],
   "source": []
  }
 ],
 "metadata": {
  "kernelspec": {
   "display_name": "R",
   "language": "R",
   "name": "ir"
  },
  "language_info": {
   "codemirror_mode": "r",
   "file_extension": ".r",
   "mimetype": "text/x-r-source",
   "name": "R",
   "pygments_lexer": "r",
   "version": "3.5.1"
  }
 },
 "nbformat": 4,
 "nbformat_minor": 2
}
