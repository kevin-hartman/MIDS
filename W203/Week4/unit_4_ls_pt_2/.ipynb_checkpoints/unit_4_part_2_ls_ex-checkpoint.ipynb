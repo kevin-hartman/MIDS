{
 "cells": [
  {
   "cell_type": "markdown",
   "metadata": {
    "toc": true
   },
   "source": [
    "<h1>Table of Contents<span class=\"tocSkip\"></span></h1>\n",
    "<div class=\"toc\"><ul class=\"toc-item\"><li><span><a href=\"#-W203-Instructional-Team-\" data-toc-modified-id=\"-W203-Instructional-Team--1\"><span class=\"toc-item-num\">1&nbsp;&nbsp;</span> W203 Instructional Team </a></span><ul class=\"toc-item\"><li><span><a href=\"#1.-Class-Announcements\" data-toc-modified-id=\"1.-Class-Announcements-1.1\"><span class=\"toc-item-num\">1.1&nbsp;&nbsp;</span>1. Class Announcements</a></span></li><li><span><a href=\"#2.-Homework-Review\" data-toc-modified-id=\"2.-Homework-Review-1.2\"><span class=\"toc-item-num\">1.2&nbsp;&nbsp;</span>2. Homework Review</a></span></li><li><span><a href=\"#3.-Random-Variables-Discussion\" data-toc-modified-id=\"3.-Random-Variables-Discussion-1.3\"><span class=\"toc-item-num\">1.3&nbsp;&nbsp;</span>3. Random Variables Discussion</a></span></li><li><span><a href=\"#-4-The-'Pyramid'-Distribution-\" data-toc-modified-id=\"-4-The-'Pyramid'-Distribution--1.4\"><span class=\"toc-item-num\">1.4&nbsp;&nbsp;</span> 4 The 'Pyramid' Distribution </a></span></li><li><span><a href=\"#-5-Exponential-Decay-\" data-toc-modified-id=\"-5-Exponential-Decay--1.5\"><span class=\"toc-item-num\">1.5&nbsp;&nbsp;</span> 5 Exponential Decay </a></span></li><li><span><a href=\"#-6-Modeling-an-American-Delicacy-\" data-toc-modified-id=\"-6-Modeling-an-American-Delicacy--1.6\"><span class=\"toc-item-num\">1.6&nbsp;&nbsp;</span> 6 Modeling an American Delicacy </a></span></li></ul></li></ul></div>"
   ]
  },
  {
   "cell_type": "markdown",
   "metadata": {},
   "source": [
    "<h1>Unit 4 Part 2 Live Session: Continuous Random Variables </h1>\n",
    "<h2> W203 Instructional Team </h2>"
   ]
  },
  {
   "cell_type": "markdown",
   "metadata": {},
   "source": [
    "### 1. Class Announcements \n",
    "\n",
    "### 2. Random Variables Discussion\n",
    "\n",
    " 1. Suppose X is a random variable.  How is it possible that P(X = a) = 0 for every point a?  How can you relate this situation to the weight of a bowl full of water?\n",
    "\n",
    " 2. Why do we need random variables?  Think about this picture:\n",
    "![model](modeling.png)\n",
    "\n",
    "World -> HHTTHHTHT… <- Bernoulli Random Variable (p)\n",
    "\n",
    "We’ll have data on coin flips, which we model as coming from a series of Bernoulli trials with parameter $p$.  We then estimate the Bernoulli parameter.  Why do we need the random variable?  Why can’t we say something direct about the world?\n",
    "\n"
   ]
  },
  {
   "cell_type": "markdown",
   "metadata": {},
   "source": [
    "<h3> 3 The 'Pyramid' Distribution </h3>"
   ]
  },
  {
   "cell_type": "markdown",
   "metadata": {},
   "source": [
    "Suppose a continuous random $X$ variable has the following PDF.\n",
    "\n",
    "\n",
    "\n",
    "$$f_X(x)=\\begin{cases} x, & 0 \\leq x < 1 \\\\ 2 - x, & 1 \\leq x < 2 \\\\ 0, & \\text{otherwise} \\end{cases}$$\n",
    "\n",
    "### r-cheat sheet\n",
    "\n"
   ]
  },
  {
   "cell_type": "code",
   "execution_count": 1,
   "metadata": {},
   "outputs": [
    {
     "data": {
      "text/html": [
       "6"
      ],
      "text/latex": [
       "6"
      ],
      "text/markdown": [
       "6"
      ],
      "text/plain": [
       "[1] 6"
      ]
     },
     "metadata": {},
     "output_type": "display_data"
    }
   ],
   "source": [
    "# functions in R\n",
    "f<- function(x){\n",
    "   return(x+5) \n",
    "    }\n",
    "f(1)"
   ]
  },
  {
   "cell_type": "code",
   "execution_count": 9,
   "metadata": {},
   "outputs": [
    {
     "name": "stdout",
     "output_type": "stream",
     "text": [
      "[1] \"i am 1\"\n"
     ]
    }
   ],
   "source": [
    "i=1\n",
    "if (i==1) {print(\"i am 1\")} else {print(\"Nodo\")}\n"
   ]
  },
  {
   "cell_type": "code",
   "execution_count": null,
   "metadata": {},
   "outputs": [],
   "source": []
  },
  {
   "cell_type": "markdown",
   "metadata": {},
   "source": [
    "**3.1** Plot the probability density function of X"
   ]
  },
  {
   "cell_type": "code",
   "execution_count": null,
   "metadata": {},
   "outputs": [],
   "source": []
  },
  {
   "cell_type": "markdown",
   "metadata": {},
   "source": [
    "**3.2** Find the cumulative distribution function of $X$ and plot it."
   ]
  },
  {
   "cell_type": "code",
   "execution_count": null,
   "metadata": {},
   "outputs": [],
   "source": []
  },
  {
   "cell_type": "markdown",
   "metadata": {},
   "source": [
    "**3.3** Compute the expectation of $X$."
   ]
  },
  {
   "cell_type": "code",
   "execution_count": null,
   "metadata": {},
   "outputs": [],
   "source": []
  },
  {
   "cell_type": "markdown",
   "metadata": {},
   "source": [
    "<h3> 4 Exponential Decay </h3>"
   ]
  },
  {
   "cell_type": "markdown",
   "metadata": {},
   "source": [
    "Suppose that the lifespan of a radioactive element is a random variable, $X$, with the following probability density function.\n",
    "\n",
    "$$ f_X(x) = \\begin{cases} ce^{-2x} , &x \\geq 0\n",
    "\\\\ 0, &x < 0 \\end{cases}$$\n",
    "\n",
    "where $c$ is some constant."
   ]
  },
  {
   "cell_type": "markdown",
   "metadata": {},
   "source": [
    "**4.1** Compute the constant $c$."
   ]
  },
  {
   "cell_type": "code",
   "execution_count": null,
   "metadata": {},
   "outputs": [],
   "source": []
  },
  {
   "cell_type": "markdown",
   "metadata": {},
   "source": [
    "**4.2** Compute $P(X > 2)$."
   ]
  },
  {
   "cell_type": "code",
   "execution_count": null,
   "metadata": {},
   "outputs": [],
   "source": []
  },
  {
   "cell_type": "markdown",
   "metadata": {},
   "source": [
    "<h3> 5 Modeling an American Delicacy </h3>"
   ]
  },
  {
   "cell_type": "markdown",
   "metadata": {},
   "source": [
    "Suppose that the number of calories in a Twinkie is a normally-distributed random variable.Suppose further that 50% of Twinkies have over 100 calories, and 68.2% of Twinkies have calories in the interval from 85 calories to 115 calories. "
   ]
  },
  {
   "cell_type": "markdown",
   "metadata": {},
   "source": [
    "**5.1**  What fraction of Twinkies have more than 140 calories? "
   ]
  },
  {
   "cell_type": "code",
   "execution_count": null,
   "metadata": {},
   "outputs": [],
   "source": []
  },
  {
   "cell_type": "markdown",
   "metadata": {},
   "source": [
    "**5.2** Use R to simulate the production of 1000 Twinkies.  Plot the result and compute the fraction of Twinkies in your sample that have more than 140 calories."
   ]
  },
  {
   "cell_type": "code",
   "execution_count": null,
   "metadata": {},
   "outputs": [],
   "source": []
  }
 ],
 "metadata": {
  "kernelspec": {
   "display_name": "R",
   "language": "R",
   "name": "ir"
  },
  "language_info": {
   "codemirror_mode": "r",
   "file_extension": ".r",
   "mimetype": "text/x-r-source",
   "name": "R",
   "pygments_lexer": "r",
   "version": "3.5.1"
  },
  "toc": {
   "base_numbering": 1,
   "nav_menu": {},
   "number_sections": true,
   "sideBar": true,
   "skip_h1_title": true,
   "title_cell": "Table of Contents",
   "title_sidebar": "Contents",
   "toc_cell": true,
   "toc_position": {},
   "toc_section_display": true,
   "toc_window_display": false
  }
 },
 "nbformat": 4,
 "nbformat_minor": 2
}
