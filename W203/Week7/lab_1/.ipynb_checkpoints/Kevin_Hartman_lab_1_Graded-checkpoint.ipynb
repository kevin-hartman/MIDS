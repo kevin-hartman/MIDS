{
 "cells": [
  {
   "cell_type": "markdown",
   "metadata": {},
   "source": [
    "# Lab 1: Probability Theory\n",
    "## W203: Statistics for Data Science\n",
    "\n"
   ]
  },
  {
   "cell_type": "markdown",
   "metadata": {},
   "source": [
    "Student Name: Kevin Hartman \n",
    "\n",
    "Section Number: 4"
   ]
  },
  {
   "cell_type": "markdown",
   "metadata": {},
   "source": [
    "## 1. Meanwhile, at the Unfair Coin Factory...\n",
    "\n",
    "You are given a bucket that contains 100 coins.  99 of these are fair coins, but one of them is a trick coin that always comes up heads.  You select one coin from this bucket at random.  Let T be the event that you select the trick coin.  This means that $P(T) = 0.01$.\n",
    "\n",
    "a. Suppose you flip the coin $k$ times.  Let $H_k$ be the event that the coin comes up heads all $k$ times.  If you see this occur, what is the conditional probability that you have the trick coin?  In other words, what is $P(T|H_k)$.\n"
   ]
  },
  {
   "cell_type": "markdown",
   "metadata": {},
   "source": [
    "**Givens**\n",
    "\n",
    ">$P(T)=0.01 \\quad P(!T)= .99 \\quad P(H|T) = 1 \\quad P(H|!T) = 0.5$\n",
    ">\n",
    "\n",
    "**Answer**\n",
    "\n",
    ">Using Bayes Rule,\n",
    "$$P(T|H_k) = \\frac{P(H_k|T)P(T)}{P(H_k)}$$\n",
    ">\n",
    ">And, the binomial formula for the distribution of heads, where $p(k)$ is the probability $k$ heads come up in an $n$-toss sequence\n",
    "$$p(k) = {n \\choose k} p^k(1-p)^{n-k}$$\n",
    ">\n",
    ">\n",
    ">Since $H_k$ is the event heads come up all $n$ times, $n$ = $k$ and $p(k) = 1$, so that the probability distibution for $P(H_k) = p^k$ and $P(H_k|T) = p^k$.\n",
    ">\n",
    ">With replacement, Baye's rule becomes $P(T|H_k) = \\frac{P(H|T)^{k}P(T)}{P(H)^k}= \\frac{1^{k} \\cdot 0.01}{P(H)^k} = \\frac{0.01}{P(H)^k}$.\n",
    ">\n",
    ">Now we have to solve for $P(H)^k$.\n",
    ">\n",
    ">From the law of total probability, and replacing $p^k$ in our series of H's, \n",
    "$$P(H)^k = P(H|T)^{k}P(T) + P(H|!T)^{k}P(!T) $$\n",
    "$$\\qquad = 1^k \\cdot 0.01 + 0.5^{k} \\cdot 0.99$$\n",
    "$$\\qquad = 0.01 + 0.99(0.5)^k$$\n",
    ">\n",
    ">So that\n",
    ">\n",
    ">$$P(T|H_k) = \\frac{0.01}{0.01 + 0.99(0.5)^k}$$"
   ]
  },
  {
   "cell_type": "markdown",
   "metadata": {},
   "source": [
    "\n",
    "b. How many heads in a row would you need to observe in order for the conditional probability that you have the trick coin to be higher than 99%?"
   ]
  },
  {
   "cell_type": "markdown",
   "metadata": {},
   "source": [
    "**Answer**\n",
    "\n",
    "> For $P(T|H_k) > .99$ we have to solve the equation for k (k is the number of heads)\n",
    ">\n",
    ">$\\frac{0.01}{0.01 + 0.99(0.5)^k} > 0.99$\n",
    ">\n",
    ">$\\frac{0.01}{0.99} > 0.01 + 0.99(0.5)^k$\n",
    ">\n",
    ">$\\frac{0.01}{0.99} - 0.01 > 0.99(0.5)^k$\n",
    ">\n",
    ">$\\frac{0.01}{0.99 \\cdot 0.99} - \\frac{0.01}{0.99} > (0.5)^k$\n",
    ">\n",
    ">$\\frac{1}{9801} > (\\frac{1}{2^k})$\n",
    ">\n",
    ">$2^k > 9801$\n",
    ">\n",
    ">$k \\cdot ln(2) > ln(9801)$\n",
    ">\n",
    ">$k > \\frac{ln(9801)}{ln(2)}$\n",
    ">\n",
    ">$k > 13.25871$\n",
    ">\n",
    ">Since k is an integer,\n",
    ">\n",
    ">$k = 14$"
   ]
  },
  {
   "cell_type": "markdown",
   "metadata": {},
   "source": [
    "**Q1 : 20/20**"
   ]
  },
  {
   "cell_type": "markdown",
   "metadata": {},
   "source": [
    "## 2.  Wise Investments \n",
    "\n",
    "You invest in two startup companies focused on data science, Company 1 and Company 2.  Let $U_i$ be the event that Company $i$ reaches unicorn status (valued at \\\\$1 billion).  Thanks to your growing expertise in this area, $P(U_1) = P(U_2) = 3/4$.  $U_1$ and $U_2$ may or may not be independent of each other.  Let random variable $X$ be the total number of companies that reach unicorn status.  X can take on the values 0, 1, and 2. \n",
    "\n",
    "a. Compute $E(X)$."
   ]
  },
  {
   "cell_type": "markdown",
   "metadata": {},
   "source": [
    "**Answer**\n",
    "\n",
    ">$U_i$ is an indicator random variable, such that $U_i$ is 1 when the company valuation metric is reached, and 0 otherwise.\n",
    ">\n",
    ">Because $U_i$ is binary, it has a bernouli distribution, $U_i \\sim Bern(p)$ where $p=P(U_i)$\n",
    ">\n",
    ">Last, for indicator random variables, the expecation of the event is the same as the probability of the event, $E(U_i) = P(U_i) = .75$\n",
    ">\n",
    ">$E(U_1) = .75 \\quad E(U_2)=.75$\n",
    ">\n",
    ">Looking at the definition X, it's value is described by, $X = U_1 + U_2$, or more generally, \n",
    ">$$X = \\sum\\limits_{i}U_i$$\n",
    ">And because of the Linearity of Expectation, \n",
    ">\n",
    ">$$E(X) = E\\big[\\sum\\limits_{i}U_i\\big] \\text{ and this is the same as  }  \\sum\\limits_{i}P(U_i)$$\n",
    ">\n",
    ">$$\n",
    "\\begin{align*}\n",
    "E(X) & = E(U_1) + E(U_2) \\\\\n",
    " & =  P(U_1) + P(U_2) \\\\\n",
    " & = .75 + .75 \\\\\n",
    " & = 1.5 \\\\\n",
    "\\end{align*}\n",
    "$$\n",
    "\n",
    "$\\checkmark$ correct **6/6**"
   ]
  },
  {
   "cell_type": "markdown",
   "metadata": {},
   "source": [
    ">Note this can be generalized to $$E(X)=\\sum\\limits_{i=1}^{n}E(U_i) = \\sum\\limits_{i=1}^{n}P(U_i) = np$$\n",
    ">"
   ]
  },
  {
   "cell_type": "markdown",
   "metadata": {},
   "source": [
    "b. Compute the minimum and maximum values for $var(X)$."
   ]
  },
  {
   "cell_type": "markdown",
   "metadata": {},
   "source": [
    "**Answer**\n",
    "\n",
    ">X is described by, $X = U_1 + U_2$\n",
    ">\n",
    ">The Variance of Sums is described by, \n",
    ">\n",
    ">$$Var(X + Y) = Var(X) + Var(Y) + 2Cov(X,Y)$$\n",
    ">\n",
    ">Covarience is defined by,\n",
    ">\n",
    ">$$Cov(X,Y) = E(XY) - E(X)E(Y)$$\n",
    ">\n",
    ">Last, because $U_i \\sim Bern(p)$, \n",
    ">\n",
    "$$Var(U_i) = P(U_i) \\cdot (1- P(U_i)) = p(1-p)$$\n",
    "\n",
    "Step 1. Calculate variance when $U_1$ and $U_2$ are highly uncorrelated\n",
    ">\n",
    "> First model 3 out of 4 draws in sequence that result in unicorns with the least correlation:\n",
    ">\n",
    ">$$\n",
    "\\begin{align*}\n",
    "& U_1 \\text{ drawing sequence } & : 1110 \\\\\n",
    "& U_2 \\text{ drawing sequence } & : 1011 \\\\\n",
    "& U_1U_2 \\text{ combined sequence } & : 1010 \\\\\n",
    "\\end{align*}\n",
    "$$\n",
    ">This shows that $E(U_1U_2) = .5$\n",
    ">\n",
    ">$$\n",
    "\\begin{align*}\n",
    "Var(X) & = Var(U_1) + Var(U_2) + 2Cov(U_1, U_2)\\\\\n",
    "& = Var(U_1) + Var(U_2) + 2 [E(U_1U_2) - E(U_1)E(U_2)]\\\\\n",
    "& = p(1-p) + p(1-p) + 2[.5 - pp]\\\\\n",
    "& = 2p(1-p) + 1 - 2p^2\\\\\n",
    "& = 2(.75)(1-.75) + 1 - 2(.75)^2\\\\\n",
    "& = 2(.75)(.25) + 1 - 1.125\\\\\n",
    "& = .375-.125\\\\\n",
    "& = .25\n",
    "\\end{align*}\n",
    "$$\n",
    "\n",
    "Step 2. Calculate max variance (if $U_1$ and $U_2$ have correlation)\n",
    ">\n",
    "> Model 3 out of 4 draws in sequence that result in unicorns with the most correlation:\n",
    ">\n",
    ">$$\n",
    "\\begin{align*}\n",
    "& U_1 \\text{ drawing sequence } & : 1110 \\\\\n",
    "& U_2 \\text{ drawing sequence } & : 1110 \\\\\n",
    "& U_1U_2 \\text{ combined sequence } & : 1110 \\\\\n",
    "\\end{align*}\n",
    "$$\n",
    ">This shows that $E(U_1U_2) = .75$\n",
    ">\n",
    ">Note that in this case the $Cov(U_1, U_2)$ is the same as $Var(U_i)$\n",
    ">\n",
    ">$$\n",
    "\\begin{align*}\n",
    "Var(X) & = Var(U_1) + Var(U_2) + 2Cov(U_1, U_2)\\\\\n",
    "& = Var(U_1) + Var(U_2) + 2Var(U_i) \\quad \\text {(for any } U_i \\text{)}\\\\\n",
    "& = p(1-p) + p(1-p) + 2p(1-p) \\\\\n",
    "& = 4p(1-p)\\\\\n",
    "& = 4(.75)(1-.75)\\\\\n",
    "& = 4(.75)(.25)\\\\\n",
    "& = .75\\\\\n",
    "\\end{align*}\n",
    "$$\n",
    "\n",
    "$\\checkmark$ correct **7/7**"
   ]
  },
  {
   "cell_type": "markdown",
   "metadata": {},
   "source": [
    "Now suppose there are four companies, Company 1 through Company 4.  Again, let $U_i$ be the event that Company $i$ reaches unicorn status.  $P(U_i) = 3/4$ for all $i$.  Once again, let random variable $X$ be the total number of companies that reach unicorn status.\n",
    "\n",
    "c. Compute the minimum and maximum values for $var(X)$."
   ]
  },
  {
   "cell_type": "markdown",
   "metadata": {},
   "source": [
    "**Answer**\n",
    "\n",
    ">Generalizing the variance calculation for highly uncorrelated bernouli variables\n",
    "$$Var(X)=\\sum\\limits_{i=1}^{n}Var(U_i) = np(1-p)+2n(.5-p^2)$$\n",
    ">\n",
    ">Generalizing the variance calculation for correlated bernouli variables\n",
    "$$Var(X)=\\sum\\limits_{i=1}^{n}Var(U_i) = \\sum\\limits_{i=1}^{n}\\sum\\limits_{j=1}^{n} Cov(U_i, U_j) = n^2p(1-p)$$\n",
    ">\n",
    ">The variance matrix for this example looks like this\n",
    ">\n",
    ">\n",
    "|  Cov(U_i,U_j) | j=1 | j=2 | j=3 | j=4 |\n",
    "|----------|---------|---------|---------|---------|\n",
    "| i=1      | Cov(U_1,U_1) | Cov(U_1,U_2)  | Cov(U_1,U_3)  | Cov(U_1,U_4) |\n",
    "| i=2      | Cov(U_2,U_1) | Cov(U_2,U_2)  | Cov(U_2,U_3)  | Cov(U_2,U_4) |\n",
    "| i=3      | Cov(U_3,U_1) | Cov(U_3,U_2)  | Cov(U_3,U_3)  | Cov(U_3,U_4) |\n",
    "| i=4      | Cov(U_4,U_1) | Cov(U_4,U_2)  | Cov(U_4,U_3)  | Cov(U_4,U_4) |\n",
    "\n",
    "\n",
    ">The minimum variance of $X$ for highly uncorrlated $U_i$ variables\n",
    ">\n",
    ">$$\n",
    "\\begin{align*}\n",
    "Var(X) &= np(1-p) + n - 2np^2 \\\\\n",
    "&= 4(.75)(1-.75) + 4 - 8(.75)^2\\\\\n",
    "&= .75 - .5\\\\\n",
    "&= .25\\\\\n",
    "\\end{align*}\n",
    "$$\n",
    ">\n",
    ">\n",
    ">And the maximum variance of $X$ if $U_i$ have correlation\n",
    ">\n",
    ">$$\n",
    "\\begin{align*}\n",
    "Var(X) &= n^2p(1-p) \\\\\n",
    "&= 16(.75)(1-.75) \\\\\n",
    "&= 3\\\\\n",
    "\\end{align*}\n",
    "$$\n",
    "\n",
    "**Comments: Correct maximum, incorrect minimum. One situation to consider is we can have correlation such that 3 companies succeed and the fourth doesn't with equal probability of 1/4 . In that case, we have 3 successes in every scenario and so a variance of 0.**\n",
    "\n",
    "$\\checkmark$ **5/7**"
   ]
  },
  {
   "cell_type": "markdown",
   "metadata": {},
   "source": [
    "**Q2 : 18/20**"
   ]
  },
  {
   "cell_type": "markdown",
   "metadata": {},
   "source": [
    "## 3. Broken Rulers\n",
    "\n",
    "You have a ruler of length 2 and you choose a place to break it using a uniform probability distribution.  Let random variable X represent the length of the left piece of the ruler.  X is distributed uniformly in $[0,2]$.  You take the left piece of the ruler and once again choose a place to break it using a uniform probability distribution.  Let random variable Y be the length of the left piece from the second break.\n",
    "\n",
    "a. Draw a picture of the region in the X-Y plane for which the joint density of X and Y is non-zero."
   ]
  },
  {
   "cell_type": "markdown",
   "metadata": {},
   "source": [
    "**Givens**\n",
    "\n",
    "> Let $L$ be the length of the ruler. L=2.\n",
    ">\n",
    "> Let $X = x$ be the left part of the ruler broken at point x. $X \\sim U(0,2)$ \n",
    ">\n",
    "> Let $Y_X = y$ be the left part of the X part of ruler broken at point y. $Y_X \\sim U(0,X)$\n",
    ">\n",
    ">Because both $X$ and $Y_X$ are uniform,\n",
    ">\n",
    "><center>\n",
    "$f_X(x) = \\begin{cases}\n",
    "\\frac{1}{2} & \\text{ for } \\;0 < x < 2  \\\\\n",
    "0 & \\text{ otherwise.}\n",
    "\\end{cases}$ \n",
    "$\\quad f_{Y|X}(y|x) = \\begin{cases}\n",
    "\\frac{1}{x} & \\text{ for } \\;0 < y < x  \\\\\n",
    "0 & \\text{ otherwise.}\n",
    "\\end{cases}$\n",
    "</center>\n",
    "\n",
    ">The picture of where X and Y are non-zero looks like this:\n",
    "\n",
    "$\\checkmark$ correct **4/4**"
   ]
  },
  {
   "cell_type": "code",
   "execution_count": 37,
   "metadata": {},
   "outputs": [
    {
     "data": {
      "image/png": "[encoded data removed]",
      "text/plain": [
       "Plot with title “Plot of X,Y”"
      ]
     },
     "metadata": {},
     "output_type": "display_data"
    }
   ],
   "source": [
    "options(repr.plot.width=4, repr.plot.height=4)\n",
    "library(lattice)\n",
    "\n",
    "y1 = seq(0, 2, by=0.005)\n",
    "x1 = seq(0, 2, by=0.005)\n",
    "\n",
    "grid = expand.grid(x=x1, y=y1)\n",
    "plt = with(grid, grid[(0 < y) & (y < x)  & (x < 2),])\n",
    "\n",
    "plot(plt, col='blue', main=\"Plot of X,Y\", type = 'p')"
   ]
  },
  {
   "cell_type": "markdown",
   "metadata": {},
   "source": [
    "b. Find the conditional expectation of $Y$ given $X$, $E(Y|X)$."
   ]
  },
  {
   "cell_type": "markdown",
   "metadata": {},
   "source": [
    "**Answer**\n",
    "\n",
    ">$$\n",
    "\\begin{align*}\n",
    "E(Y|X) &= \\int_{-\\infty}^{\\infty} Y\\;f_{Y|X}(y|x) dy \\\\ \n",
    "       &= \\int_{-\\infty}^{\\infty} Y\\; \\frac{1}{X}dy\\\\    \n",
    "       &= \\int_{-\\infty}^{0} dy + \\int_{0}^{X} Y \\frac{1}{X} dy + \\int_{x}^{-\\infty} dx \\\\\n",
    "       &= \\bigg[\\frac{Y^2}{2}\\; \\cdot \\frac{1}{X}\\bigg]_{0}^{X} \\\\\n",
    "       &= \\frac{X}{2} \\\\\n",
    "\\end{align*}\n",
    "$$\n",
    "\n",
    "$\\checkmark$ correct **4/4**"
   ]
  },
  {
   "cell_type": "markdown",
   "metadata": {},
   "source": [
    "c. Find the unconditional expectation of $Y$. \n",
    "\n",
    "**Answer**\n",
    "\n",
    ">From the law of iterated expectation, $E(Y)=E_X[E(Y|X)]$\n",
    ">\n",
    ">$$\n",
    "\\begin{align*}\n",
    "E(Y) &= \\int_{-\\infty}^{\\infty} E(Y|X) f_X(x) dx \\\\ \n",
    "       &= \\int_{-\\infty}^{\\infty} \\frac{X}{2}\\; \\frac{1}{2}dx\\\\    \n",
    "       &= \\int_{-\\infty}^{0} dx + \\int_{0}^{2} \\frac{X}{4} dx + \\int_{2}^{\\infty} dx \\\\\n",
    "       &= \\bigg[\\frac{X^2}{8}\\; \\bigg]_{0}^{2} \\\\\n",
    "       &= \\frac{1}{2} \\\\\n",
    "\\end{align*}\n",
    "$$\n",
    "\n",
    "$\\checkmark$ correct **4/4**"
   ]
  },
  {
   "cell_type": "markdown",
   "metadata": {},
   "source": [
    "d. Give a complete expression for the conditional distribution of $X$, conditional on $Y$."
   ]
  },
  {
   "cell_type": "markdown",
   "metadata": {},
   "source": [
    "Solve for $$f_{X|Y}(x|y) = \\frac{f_{X,Y}(x,y)}{f_Y(y)}$$\n",
    "\n",
    "**Givens**\n",
    "\n",
    ">Since $X \\sim U(0,2)$ and $Y_X \\sim U(0,X)$, $f_X=\\frac{1}{2}$ and $f_{Y|X}=\\frac{1}{X}$\n",
    ">\n",
    ">\n",
    "\n",
    "><center>\n",
    "$f_X(x) = \\begin{cases}\n",
    "\\frac{1}{2} & \\text{ if } \\;0 < x < 2  \\\\\n",
    "0 & \\text{ if otherwise.}\n",
    "\\end{cases}$ \n",
    "$\\quad f_{Y|X}(y|x) = \\begin{cases}\n",
    "\\frac{1}{x} & \\text{ if } \\;0 < y < x  \\\\\n",
    "0 & \\text{ if otherwise.}\n",
    "\\end{cases}$\n",
    "</center>"
   ]
  },
  {
   "cell_type": "markdown",
   "metadata": {},
   "source": [
    "**Answer**\n",
    "\n",
    "Step 1. Solve for the numerator - find the joint density function $ f_{X,Y}(x,y)$\n",
    "\n",
    ">Since we have $f_X$ and $f_{Y|X}$ we can find $f_{X,Y}(x,y)$ using Bayes' rule\n",
    ">\n",
    ">$$f_{X,Y}(x,y) = f_{Y|X}(y|x)f_X(x) = \\frac{1}{x} \\cdot \\frac{1}{2} = \\frac{1}{2x} \\text{ for 0 < y < x < 2 }$$\n",
    ">\n",
    "\n",
    "Step 2. Solve for the denominator - find the marginal distribution function $f_Y(y)$\n",
    "\n",
    ">We can find the marginal distribution of the joint distribution using \n",
    ">$$\n",
    "\\begin{align*}\n",
    "f_Y(y) &= \\int_{-\\infty}^{\\infty} f_{X,Y}(x,y) dx \\\\ \n",
    "       &= \\int_{-\\infty}^{\\infty} f_{Y|X}(y|x)f_X(x) dx\\\\    \n",
    "       &= \\int_{-\\infty}^{y} dx + \\int_{y}^{2} \\frac{1}{2X} dx + \\int_{2}^{\\infty} dx \\\\\n",
    "       &= \\bigg[\\frac{ln(x)}{2}\\bigg]_{y}^{2} \\\\[5pt]\n",
    "       &= \\frac{ln(2)-ln(y)}{2} \\text{ for 0 < y < 2} \\\\[5pt]\n",
    "\\end{align*}\n",
    "$$\n",
    "\n",
    "Step 3. Combining\n",
    "\n",
    ">$$f_{X|Y}(x|y) = \\frac{1}{x[ln(2)-ln(y)]} \\text{ for y < x < 2} $$\n",
    "$\\checkmark$ correct **4/4**"
   ]
  },
  {
   "cell_type": "markdown",
   "metadata": {},
   "source": [
    "e. Compute $cov(X,Y)$."
   ]
  },
  {
   "cell_type": "markdown",
   "metadata": {},
   "source": [
    "Solve for\n",
    "$$cov(X,Y) = E(XY) - E(X)E(Y)$$"
   ]
  },
  {
   "cell_type": "markdown",
   "metadata": {},
   "source": [
    "**Answer**\n",
    "\n",
    "Step 1. Find E(X)\n",
    "\n",
    ">$$\n",
    "\\begin{align*}\n",
    "E(X) &= \\int_{-\\infty}^{\\infty} X\\;f_X(x) dx \\\\ \n",
    "       &= \\int_{0}^{2} X \\cdot \\frac{1}{2} dx \\\\\n",
    "       &= \\bigg[ \\frac{x^2}{4}\\bigg]_{0}^{2} \\\\[5pt]\n",
    "       &= 1 \\\\[5pt]\n",
    "\\end{align*}\n",
    "$$\n",
    "\n",
    "Step 2. Find E(XY)\n",
    "\n",
    "> From the law of iterated expectation, $E(XY)=E_X\\big[E(XY|X)\\big]$\n",
    ">\n",
    "> Treating X as a constant, $E(XY|X) = X \\cdot E(Y|X)$, with $E(Y|X) = \\frac{X}{2}$ as found in part b.\n",
    ">\n",
    ">$$\n",
    "\\begin{align*}\n",
    "E(XY) &= E_X\\bigg[X \\cdot \\frac{X}{2}\\bigg] \\\\\n",
    "      &= \\int_{-\\infty}^{\\infty} \\frac{X^2}{2} dx \\\\ \n",
    "       &= \\int_{0}^{2} \\frac{X^2}{2} dx \\\\\n",
    "       &= \\bigg[ \\frac{x^3}{6}\\bigg]_{0}^{2} \\\\[5pt]\n",
    "       &= \\frac{4}{3} \\\\[5pt]\n",
    "\\end{align*}\n",
    "$$"
   ]
  },
  {
   "cell_type": "markdown",
   "metadata": {},
   "source": [
    "Step 3. Using E(Y) from part c and combining\n",
    "\n",
    ">$$Cov(X,Y) = \\frac{4}{3} - 1 \\cdot \\frac{1}{2} = \\frac{8}{6} - \\frac{3}{6} =  \\frac{5}{6}$$\n",
    "\n",
    "**Comments: Almost, E(XY) off by a factor of 2.**\n",
    "\n",
    "$\\checkmark$ **3/4**\n"
   ]
  },
  {
   "cell_type": "markdown",
   "metadata": {},
   "source": [
    "**Q3:19/20**"
   ]
  },
  {
   "cell_type": "markdown",
   "metadata": {},
   "source": [
    "## 4. Concert Time\n",
    "\n",
    "You are in an online waiting room to buy a concert ticket to your favorite a cappella group: the Pitch Estimators. Suppose your waiting time in minutes is a continuous random variable $T$ with probability density function given by:\n",
    "\n",
    "$f_T(t)=\\begin{cases}\n",
    "\\frac{1}{3}e^{-\\frac{1}{3}t}, &t\\geq0\\\\\n",
    "0, &otherwise\\\\\n",
    "\\end{cases}\n",
    "$ \n",
    "\n",
    "a. Please sketch the probability density.\n",
    "\n",
    "\n",
    "\n",
    "$\\checkmark$ **correct 3/3**\n"
   ]
  },
  {
   "cell_type": "code",
   "execution_count": 159,
   "metadata": {},
   "outputs": [
    {
     "data": {},
     "metadata": {},
     "output_type": "display_data"
    },
    {
     "data": {
      "image/png": "[encoded data removed]",
      "text/plain": [
       "plot without title"
      ]
     },
     "metadata": {},
     "output_type": "display_data"
    }
   ],
   "source": [
    "library(ggplot2)\n",
    "\n",
    "lambda = 1/3\n",
    "xmax <- qexp(0.995, rate=lambda)\n",
    "xvals <- seq(0, xmax, length=100)\n",
    "yvals <- dexp(xvals, rate=lambda)\n",
    "density <- data.frame(xvals,yvals)\n",
    "\n",
    "qplot(xvals, yvals, geom=\"line\", ylab=\"f(t)\", xlab=\"t\", main = \"PDF of concert ticket wait times\") +\n",
    "    theme(plot.title = element_text(hjust = 0.5)) +\n",
    "    geom_ribbon(data=density,aes(ymax=yvals),ymin=0, fill=\"grey\",alpha=0.5) +\n",
    "    scale_y_continuous(limits=(c(0, .35))) +\n",
    "    geom_hline(yintercept=0) + \n",
    "    geom_vline(xintercept=3, linetype=\"dashed\", color=\"darkred\") +\n",
    "        annotate(\"text\", x=4.6, y=.35, label=\"mean=3\", color=\"darkred\") +\n",
    "    geom_vline(xintercept=2.079, linetype=\"dashed\", color=\"darkgreen\") +\n",
    "        annotate(\"text\", x=4.8, y=.32, label=\"median=2.079\", color=\"darkgreen\") +\n",
    "    geom_vline(xintercept=0, linetype=\"dashed\", color=\"blue\") +\n",
    "        annotate(\"text\", x=1.6, y=.29, label=\"mode=0\", color=\"blue\")"
   ]
  },
  {
   "cell_type": "markdown",
   "metadata": {},
   "source": [
    "b. Compute the **mean**, **median**, and **mode** of the waiting time distribution and mark each of these values on your sketch.  (Recall that the median is defined by the point at which the cumulative probability function equals $1/2$.  The mode is the point at which the probability density function is at its maximum.)"
   ]
  },
  {
   "cell_type": "markdown",
   "metadata": {},
   "source": [
    "**Answer**\n",
    "\n",
    "1) mean\n",
    "\n",
    ">$$\n",
    "\\begin{align*}\n",
    "E(T) &= \\int\\limits_{0}^{\\infty}t \\frac{1}{3} e^{-\\frac{1}{3}t} dt \\\\\n",
    "&= \\frac{1}{3}\\bigg[\\frac{-t e^{-\\frac{1}{3}t}}{\\frac{1}{3}} \\bigg|_{0}^{\\infty} + & 3\\int\\limits_{0}^{\\infty} e^{-\\frac{1}{3}t} dt \\bigg] \\\\\n",
    "&= \\frac{1}{3} \\bigg[0 + & 3 \\frac{-e^{-\\frac{1}{3}t}}{\\frac{1}{3}} \\bigg|_0^{\\infty} \\bigg]\\\\\n",
    "&= \\frac{1}{3} \\bigg[0 + & 3 \\frac{1}{\\frac{1}{3}} \\bigg]\\\\\n",
    "&= 3\n",
    "\\end{align*}\n",
    "$$\n",
    "\n",
    "2) median\n",
    "\n",
    ">$$\n",
    "\\begin{align*}\n",
    "P(t \\leq m) = 0.5 & = \\int\\limits_{0}^{m} \\frac{1}{3} e^{-\\frac{1}{3}t} dt \\\\\n",
    "&= \\bigg[- e^{-\\frac{1}{3}t} + C \\bigg]_{0}^{m} \\\\\n",
    "&= 1 - e^{-\\frac{1}{3}m} \\\\\n",
    "e^{-\\frac{1}{3}m} &= 0.5 \\\\\n",
    "m &= \\frac{ln(2)}{\\frac{1}{3}} \\\\\n",
    " &= 3 ln(2) \\\\\n",
    " &= 2.079\n",
    "\\end{align*}\n",
    "$$\n",
    "\n",
    "3) mode\n",
    "\n",
    "> Mode is when the pdf is at it's maximum value(s).\n",
    ">\n",
    ">$\\max(\\frac{1}{3} e^{-\\frac{1}{3}t}$) occurs when t = 0\n",
    "\n",
    "\n",
    "$\\checkmark$ **correct 3/3**\n"
   ]
  },
  {
   "cell_type": "markdown",
   "metadata": {},
   "source": [
    "c. If you have already been waiting for 3 minutes, what is the probability that you will continue to wait for another 3 minutes?"
   ]
  },
  {
   "cell_type": "markdown",
   "metadata": {},
   "source": [
    "**Answer**\n",
    "\n",
    "> $P(T>t) =  F_T(T > t) = \\int\\limits_{t}^{\\infty} \\frac{1}{3} e^{-\\frac{1}{3}t} dt = \\bigg[- e^{-\\frac{1}{3}t} + C \\bigg]_{t}^{\\infty} = e^{-\\frac{1}{3}t}$\n",
    ">\n",
    ">$P(T > 3) = e^{-1} = .3678$\n",
    ">\n",
    ">$P(T > 6) = e^{-2} = .1353$\n",
    ">\n",
    ">$P(T>6|T>3) = \\frac{P(T>6 \\cap T>3)}{P(T>3)} = \\frac{.1353}{.3678} = .3678$\n",
    ">\n",
    ">Note that since exponential functions are memoryless with respect to prior elapsed time the answer is the same as $P(T>3)$\n",
    "\n",
    "\n",
    "$\\checkmark$ **correct 3/3**"
   ]
  },
  {
   "cell_type": "markdown",
   "metadata": {},
   "source": [
    "d. Because the ticket website is so slow, you convince two friends to help you purchase a ticket more quickly.   Each goes on a different website to wait for a ticket.  If one of your friends gets a ticket before you, they will give it to you and you will not need to wait any longer.  Suppose the waiting times for the two other websites are random variables, $U$ and $V$, with probability density functions given by:\n",
    "\n",
    "$f_U(t)=\\begin{cases}\n",
    "\\frac{1}{2}e^{-\\frac{1}{2}t}, &t\\geq0\\\\\n",
    "0, &otherwise\\\\\n",
    "\\end{cases} \\qquad\n",
    "f_V(t)=\\begin{cases}\n",
    "\\frac{1}{6}e^{-\\frac{1}{6}t}, &t\\geq0\\\\\n",
    "0, &otherwise\\\\\n",
    "\\end{cases}\n",
    "$\n",
    "\n",
    "Your waiting time is now the minimum of the waiting times for each of the three websites, $min(T,U,V)$.  What is your expected wait time? (Hint: First, given a time t, calculate the probability that $T>t$, $U>t$, and $V>t$)\n"
   ]
  },
  {
   "cell_type": "markdown",
   "metadata": {},
   "source": [
    "**Answer**\n",
    "\n",
    ">$F_T(T \\gt t) = \\int\\limits_{t}^{\\infty} \\frac{1}{3} e^{-\\frac{1}{3}t} dt = \\bigg[- e^{-\\frac{1}{3}t} + C \\bigg]_{t}^{\\infty} = e^{-\\frac{1}{3}t}$\n",
    ">\n",
    ">$F_U(U \\gt t) = \\int\\limits_{t}^{\\infty} \\frac{1}{2} e^{-\\frac{1}{2}t} dt = \\bigg[- e^{-\\frac{1}{2}t} + C \\bigg]_{t}^{\\infty} = e^{-\\frac{1}{2}t}$\n",
    ">\n",
    ">$F_V(V \\gt t) = \\int\\limits_{t}^{\\infty} \\frac{1}{6} e^{-\\frac{1}{6}t} dt = \\bigg[- e^{-\\frac{1}{6}t} + C \\bigg]_{t}^{\\infty} = e^{-\\frac{1}{6}t}$\n",
    ">\n",
    ">\n",
    ">Each of the function's expected wait time coincides with its rate value $\\lambda$. The calculation shown in part (a) shows how to calculate expectation which is $\\lambda^{-1}$.\n",
    ">\n",
    ">Using this calculation it can be shown that, $E(U) = 2$ and $E(V) = 6$\n",
    ">\n",
    ">Let $W = \\min(T, U, V)$ and its expectation $E(W) = E[\\min(T,U,V)]$.\n",
    ">\n",
    ">Min is just another function and itself a random variable, and we know that $E(g(X)) = g(E(X))$.\n",
    ">\n",
    ">Therefore $E(W) = \\min[E(T),E(U),E(V)]$\n",
    ">\n",
    ">$E(W) = \\min[3,2,6]$\n",
    ">\n",
    ">The smallest from the group is $U$, and it's expected wait time $E(U)$ is 2 minutes.\n",
    "\n",
    "**Comments: Not quite. Just as in homework as we saw 1/expectation(x) isn't the same as expectation(1/x), can't just take minimum of expectations. $E(g(X)) = g(E(X))$ is NOT generally true (can gaurantee only if g is linear). Hint provided is to help calculate the joint density using what you know about the cdf**\n",
    "\n",
    "$\\checkmark$ **1/3**"
   ]
  },
  {
   "cell_type": "markdown",
   "metadata": {},
   "source": [
    "For two probability density functions g and h, we define the **Kullback-Leibler divergence** (K-L divergence) as $D(g||h)=\\int_{-\\infty}^{\\infty} g(x)\\ln{\\frac{g(x)}{h(x)}} dx$.  K-L divergence comes from an Information Theory background (for those curious, you can read more at https://en.wikipedia.org/wiki/Kullback%E2%80%93Leibler_divergence ) in which we try to say \"how much information is lost\" when we try to approximate g by h (how well h approximates g). You may think of K-L divergence as measuring how different $g$ and $h$ are, but it isn't quite a distance metric because it's not symmetric. Usually, $D(g||h)\\neq D(h||g)$.\n",
    "\n",
    "**Motivation :**  KL-Divergence is a popular concept in machine learning where it is used to measure how well some model or function approximator captures a distribution. It is also closely tied to another concept known as **Mutual Information**. If instead of considering two separate random variables, we consider the K-L divergence between a product of marginal distributions and their joint distribution: $D(f_{X,Y}||f_{X}f_{Y})$ and can see it as measuring how much knowing one of the variables reduces the uncertainty about the other  (https://en.wikipedia.org/wiki/Mutual_information#Relation_to_Kullback%E2%80%93Leibler_divergence). In the context of natural language processing, suppose that $X$ is a random variable representing an occurrance of the word \"cat\" in a sentence.  Suppose $Y$ is a random variable representing an occurance of the word \"pet.\"  If $X$ and $Y$ have high mutual information, this indicates that the words tend to show up in the same sentences.\n",
    "\n",
    "e. Compute $D(f_T||f_T)$, the K-L divergence of your waiting time with itself.  (Integrate from $0$ to $\\infty$ to avoid any division-by-zero issues)"
   ]
  },
  {
   "cell_type": "markdown",
   "metadata": {},
   "source": [
    "**Answer**\n",
    "\n",
    ">$$\n",
    "\\begin{align*}\n",
    "D(f_T||f_T)&=\\int_{0}^{\\infty} \\frac{1}{3}e^{-\\frac{1}{3}t}\\ln{\\frac{\\frac{1}{3}e^{-\\frac{1}{3}t}}{\\frac{1}{3}e^{-\\frac{1}{3}t}}} dt\\\\\n",
    "&=\\int_{0}^{\\infty} \\frac{1}{3}e^{-\\frac{1}{3}t}\\ln{(1)} dt \\\\\n",
    "&=0\n",
    "\\end{align*}\n",
    "$$\n",
    "\n",
    "$\\checkmark$ **correct 3/3**"
   ]
  },
  {
   "cell_type": "markdown",
   "metadata": {},
   "source": [
    "f. Compute $D(f_T||f_U)$ and $D(f_T||f_V)$."
   ]
  },
  {
   "cell_type": "markdown",
   "metadata": {},
   "source": [
    "**Answer**\n",
    "\n",
    ">$$\n",
    "\\begin{align*}\n",
    "D(f_T||f_U)&=\\int_{0}^{\\infty} \\frac{1}{3}e^{-\\frac{1}{3}t}\\ln{\\frac{\\frac{1}{3}e^{-\\frac{1}{3}t}}{\\frac{1}{2}e^{-\\frac{1}{2}t}}} dt\\\\\n",
    "&=\\int_{0}^{\\infty} \\frac{1}{3}e^{-\\frac{1}{3}t}\\ln{(\\frac{2}{3}e^\\frac{t}{6})} dt \\\\\n",
    "&=\\int_{0}^{\\infty} \\frac{1}{3}e^{-\\frac{1}{3}t}\\big(\\ln{(\\frac{2}{3})} + \\frac{t}{6}\\big) dt\\\\\n",
    "&=\\int_{0}^{\\infty} \\frac{ \\ln{(\\frac{2}{3})}  e^{-\\frac{1}{3}t }} {3} + \\frac{te^{-\\frac{1}{3}t}}{18} dt\\\\\n",
    "&=\\bigg[-  \\ln{(\\frac{2}{3})  e^{-\\frac{t}{3} }} - \\frac{1}{6}(t + 3)e^{-\\frac{t}{3}}\\bigg]_{0}^{\\infty} \\\\\n",
    "&=\\bigg[-  \\ln{(\\frac{2}{3})  e^{-\\frac{t}{3} }} - \\frac{te^{-\\frac{t}{3}}}{6} - \\frac{e^{-\\frac{t}{3}}}{2} \\bigg]_{0}^{\\infty} \\\\\n",
    "&=\\bigg[0 \\bigg] - \\bigg[-  \\ln{(\\frac{2}{3})  e^{-\\frac{0}{3} }} - \\frac{0e^{-\\frac{0}{3}}}{6} - \\frac{e^{-\\frac{0}{3}}}{2} \\bigg] \\\\\n",
    "&=\\bigg[0 \\bigg] - \\bigg[-  \\ln{(\\frac{2}{3})} - 0 - \\frac{1}{2} \\bigg] \\\\\n",
    "&=\\ln{(\\frac{2}{3})} + \\frac{1}{2} \\\\\n",
    "&=0.0945 \\\\\n",
    "\\end{align*}\n",
    "$$\n",
    ">\n",
    ">$$\n",
    "\\begin{align*}\n",
    "D(f_T||f_V)&=\\int_{0}^{\\infty} \\frac{1}{3}e^{-\\frac{1}{3}t}\\ln{\\frac{\\frac{1}{3}e^{-\\frac{1}{3}t}}{\\frac{1}{6}e^{-\\frac{1}{6}t}}} dt\\\\\n",
    "&=\\int_{0}^{\\infty} \\frac{1}{3}e^{-\\frac{1}{3}t}\\ln{(\\frac{6}{3}e^\\frac{-t}{6})} dt \\\\\n",
    "&=\\int_{0}^{\\infty} \\frac{1}{3}e^{-\\frac{1}{3}t}\\big(\\ln{(2)} - \\frac{t}{6}\\big) dt\\\\\n",
    "&=\\int_{0}^{\\infty} \\frac{ \\ln{(2)}  e^{-\\frac{1}{3}t }} {3} - \\frac{te^{-\\frac{1}{3}t}}{18} dt\\\\\n",
    "&=\\bigg[-  \\ln{(2)  e^{-\\frac{t}{3} }} + \\frac{1}{6}(t + 3)e^{-\\frac{t}{3}}\\bigg]_{0}^{\\infty} \\\\\n",
    "&=\\bigg[-  \\ln{(2)  e^{-\\frac{t}{3} }} + \\frac{te^{-\\frac{t}{3}}}{6} + \\frac{e^{-\\frac{t}{3}}}{2} \\bigg]_{0}^{\\infty} \\\\\n",
    "& finish this \\\\\n",
    "&=\\bigg[0 \\bigg] - \\bigg[-  \\ln{(2)  e^{-\\frac{0}{3} }} + \\frac{0e^{-\\frac{0}{3}}}{6} + \\frac{e^{-\\frac{0}{3}}}{2} \\bigg] \\\\\n",
    "&=\\bigg[0 \\bigg] - \\bigg[-  \\ln{(2)} + 0 + \\frac{1}{2} \\bigg] \\\\\n",
    "&=\\ln{(2)} - \\frac{1}{2} \\\\\n",
    "&=0.1931 \\\\\n",
    "\\end{align*}\n",
    "$$\n",
    "\n",
    "$\\checkmark$ **correct 3/3**"
   ]
  },
  {
   "cell_type": "markdown",
   "metadata": {},
   "source": [
    "g. Draw a sketch of the three distributions and write 2 or 3 sentences on how the KL divergence is reflected in what you see in the graph.\n"
   ]
  },
  {
   "cell_type": "markdown",
   "metadata": {},
   "source": [
    "**Answer**\n",
    "\n",
    ">What we learn from above and through the sketch below is that $f_T$ and $f_U$ are less divergent than $f_T$ and $f_V$. The two numbers, $0.0945$ and $0.1931$ also seem to indicate the degree in which the two functions differ. For $f_T$ and $f_U$ the slope of the lines follow more similarly than the slope between $f_T$ and $f_V$. From what we learned in part (e), a divergence value of 0 for $f_T$ and $f_T$, we can glean that the slope of these \"two\" functions are the same.\n",
    ">\n",
    ">The values seem to be an indicator of similarity and how much of a stand in one can be for the other.\n",
    "\n",
    "$\\checkmark$ **correct 3/3**\n"
   ]
  },
  {
   "cell_type": "markdown",
   "metadata": {},
   "source": [
    "**Q4: 18/20**"
   ]
  },
  {
   "cell_type": "code",
   "execution_count": 160,
   "metadata": {},
   "outputs": [
    {
     "data": {},
     "metadata": {},
     "output_type": "display_data"
    },
    {
     "data": {
      "image/png": "[encoded data removed]",
      "text/plain": [
       "plot without title"
      ]
     },
     "metadata": {},
     "output_type": "display_data"
    }
   ],
   "source": [
    "library(ggplot2)\n",
    "\n",
    "x_lower <- 0\n",
    "x_upper <- qexp(0.995, rate=1/6) \n",
    "\n",
    "#these distributions go to infinity so find a decent rightmost X value\n",
    "max_height <- max(dexp(x_lower:x_upper, rate = 1/3, log = FALSE), \n",
    "                   dexp(x_lower:x_upper, rate = 1/2, log = FALSE),\n",
    "                   dexp(x_lower:x_upper, rate = 1/6, log = FALSE))\n",
    "\n",
    "ggplot(data.frame(x = c(x_lower, x_upper)), aes(x = x)) + xlim(x_lower, x_upper) + \n",
    "  ylim(0, max_height) +\n",
    "  stat_function(fun = dexp, args = list(rate = 1/3), aes(colour = \"1/3\")) + \n",
    "  stat_function(fun = dexp, args = list(rate = 1/2), aes(colour = \"1/2\")) + \n",
    "  stat_function(fun = dexp, args = list(rate = 1/6), aes(colour = \"1/6\")) + \n",
    "  scale_color_manual(\"Rate\", values = c(\"blue\", \"green\", \"red\")) +\n",
    "  labs(x = \"t\", y = \"f(t)\", \n",
    "       title = \"Exponential Distribution Density Plots\") + \n",
    "  theme(plot.title = element_text(hjust = 0.5))"
   ]
  },
  {
   "cell_type": "markdown",
   "metadata": {},
   "source": [
    "## 5. Probabilities for Patients\n",
    "\n",
    "You might be wondering how probability theory is applied to real world problems.  One example has to do with predicting patient outcomes based on their current state.  As you can see, there are big prizes for this sort of analysis (https://www.cmschallenge.ai/).  \n",
    "\n",
    "Consider a simple model that progresses year-by-year.   In year $i$, let $W_i$ be the event that the patient is well, $I_i$ be the event that the patient is ill, and $D_i$ be the event that the patient is dead.  Transitions can be modeled as a set of conditional probabilities.  For example the probability that a well patient is well in the next year is, $P(W_{i+1}|W_i)$.\n",
    "\n",
    "In the basic model, individuals can only stay in their current state or get sicker, so $P(W_{i+1}|I_i) = P(W_{i+1}|D_i) = P(I_{i+1}|D_i) = 0$. Dead is an abosorbing state, meaning $P(D_{i+1}|D_I)=1$.\n",
    "\n",
    "You can see this model drawn out in this paper, which propsed this as a method of clinical decision making (Med Decis Making 3:419-458, 1983). The notation is a little different for example $P(W_{i+1}|W_i)$ is written as $P_{ww}$.\n",
    "\n",
    "![alt text](Markov_diagnosis.png \"Title\")"
   ]
  },
  {
   "cell_type": "markdown",
   "metadata": {},
   "source": [
    "A patient has just returned from the hospital after a fall, They are *Well* in year 1, but given their age and risk factors, $P(W_{i+1}|W_i) = 0.2$ for all $i$.\n",
    "\n",
    "Let $L$ be the random variable representing the number of years that the patient is well.  We can write this mathematically as,\n",
    "\n",
    "$$ L = argmax_i W_i $$\n",
    "\n",
    "a. Write a complete expression for the probability mass function of $L$."
   ]
  },
  {
   "cell_type": "markdown",
   "metadata": {},
   "source": [
    "**Answer**\n",
    "\n",
    ">$L$ is a **geometric random variable** representing the number of years living well until being struck by illness or death. $\\bar{W}$ is the event the person becomes ill or dies (not well). This event has a chance of occuring at the end of every year, including the first year.\n",
    ">\n",
    ">$L$ can take on a sequence such as this ${W W \\bar{W}}$ or this ${W \\bar{W}}$.\n",
    ">\n",
    ">The pmf of W's before becoming $\\bar{W}$ looks like this:\n",
    ">\n",
    ">$$f_L(y;p_{\\bar{w}})=\\begin{cases}\n",
    "(1-p_{\\bar{w}})^{y-1} p_{\\bar{w}}, & y \\in \\{1, 2, \\cdots \\} \\\\\n",
    "0, &otherwise\\\\\n",
    "\\end{cases}$$\n",
    ">\n",
    ">$p_{\\bar{w}} = 0.8$ is the probability of being not well and $y$ is the number of years. Note that $p_{w}=0.2$ is the probability of being well and $p_{w} = 1 - p_{\\bar{w}}$\n",
    ">\n",
    "\n",
    "$\\checkmark$ **correct 2/2**"
   ]
  },
  {
   "cell_type": "markdown",
   "metadata": {},
   "source": [
    "b. Compute the expectation of $L$.  You may use one or more of these well-known infinite sums in your solution:\n",
    "\n",
    "\\begin{align}\n",
    "\\sum _{k=1}^{\\infty }z^{k-1}&={\\frac {1}{1-z}}\\\\\n",
    "\\sum _{k=1}^{\\infty }kz^{k-1}&={\\frac {1}{(1-z)^{2}}}\\\\\n",
    "\\sum _{k=1}^{\\infty }k^{2}z^{k-1}&={\\frac {1+z}{(1-z)^{3}}}\n",
    "\\end{align}\n"
   ]
  },
  {
   "cell_type": "markdown",
   "metadata": {},
   "source": [
    "**Answer**\n",
    "\n",
    ">$$\n",
    "\\begin{align*}\n",
    "E(L) & = \\sum\\limits_{y=1}^{\\infty}y(1-p_{\\bar{w}})^{y-1} p_{\\bar{w}} \\\\\n",
    "&= \\frac{1}{p_{\\bar{w}}} = 1.25 \\\\\n",
    "\\end{align*}\n",
    "$$\n",
    "\n",
    "$\\checkmark$ **correct 2/2**"
   ]
  },
  {
   "cell_type": "markdown",
   "metadata": {},
   "source": [
    "c. Write an R function that simulates the trajectory of a single patient and returns the number of years the patient is well.\n",
    "\n",
    "$\\checkmark$ **correct 4/4**"
   ]
  },
  {
   "cell_type": "code",
   "execution_count": 320,
   "metadata": {},
   "outputs": [
    {
     "data": {
      "text/html": [
       "1"
      ],
      "text/latex": [
       "1"
      ],
      "text/markdown": [
       "1"
      ],
      "text/plain": [
       "[1] 1"
      ]
     },
     "metadata": {},
     "output_type": "display_data"
    }
   ],
   "source": [
    "#Rolling our own R function.\n",
    "#Note we could also use rgeom to create the same function, \n",
    "#but it starts counting at 0 and will return 0 as the first observation\n",
    "#Here, our \"years well\" observation starts at 1 to include the first year\n",
    "\n",
    "how_long_do_i_have <- function(trials, prob_of_notwell) {\n",
    "    results<-c()\n",
    "    for (i in c(1:trials)) {\n",
    "      years_well <- 1\n",
    "      repeat {  # draw a new sample until not well\n",
    "        sample <- sample(c(0, 1), 1, prob = c(prob_of_notwell, 1-prob_of_notwell))\n",
    "          if (sample == 1) years_well <- years_well + 1 # Add 1 if we're still well\n",
    "          else break\n",
    "      }\n",
    "      results <- c(results, years_well)\n",
    "    }\n",
    "    return(results)\n",
    "}\n",
    "\n",
    "how_long_do_i_have(1, .8)"
   ]
  },
  {
   "cell_type": "markdown",
   "metadata": {},
   "source": [
    "d. Use R to simulate 1000 patient trajectories and find the sample mean of years of wellness."
   ]
  },
  {
   "cell_type": "code",
   "execution_count": 237,
   "metadata": {},
   "outputs": [
    {
     "data": {
      "text/html": [
       "1.25"
      ],
      "text/latex": [
       "1.25"
      ],
      "text/markdown": [
       "1.25"
      ],
      "text/plain": [
       "[1] 1.25"
      ]
     },
     "metadata": {},
     "output_type": "display_data"
    }
   ],
   "source": [
    "mean(how_long_do_i_have(1000, .8))"
   ]
  },
  {
   "cell_type": "markdown",
   "metadata": {},
   "source": [
    "e. The use of a walker increases the likelihood of staying well so that $P(W_{i+1}|W_i) = 0.5$ for all $i$.   How many years will a walker add to the expected time being well?"
   ]
  },
  {
   "cell_type": "markdown",
   "metadata": {},
   "source": [
    "**Answer**\n",
    "\n",
    ">The new expectation for $E(L)$ would be $1/p$ which is $1/0.5$ or $2$. The walker would add 3/4 of year to the expected time being well.\n",
    ">\n",
    ">We can also check this with our function.\n",
    "\n",
    "$\\checkmark$ **correct 4/4**"
   ]
  },
  {
   "cell_type": "code",
   "execution_count": 312,
   "metadata": {},
   "outputs": [
    {
     "data": {
      "text/html": [
       "2.006"
      ],
      "text/latex": [
       "2.006"
      ],
      "text/markdown": [
       "2.006"
      ],
      "text/plain": [
       "[1] 2.006"
      ]
     },
     "metadata": {},
     "output_type": "display_data"
    }
   ],
   "source": [
    "mean(how_long_do_i_have(10000, .5))"
   ]
  },
  {
   "cell_type": "markdown",
   "metadata": {},
   "source": [
    "When we match these models to clinical data we often have to account for varying time windows based on available data.  Consider the following scenarios:\n",
    "\n",
    "f. In study number 1, 100 patients were all well in year 1, and 80 of them were well 2 years later (in year 3).  Assuming the transition probabilities are constant, what is $P(W_{i+1}|W_i)$?\n"
   ]
  },
  {
   "cell_type": "markdown",
   "metadata": {},
   "source": [
    "**Answer**\n",
    "\n",
    "> Using our pmf formula $(1-p_{\\bar{w}})^{y-1} p_{\\bar{w}}$ \n",
    ">\n",
    "> We can plug that into a cdf and find the cumulative density at .2 (for 20% of density consumed)\n",
    ">\n",
    ">$\\sum\\limits_{y=1}^3 (1-p_{\\bar{w}})^{y-1} p_{\\bar{w}} = 1 - (1- p_{\\bar{w}})^2 = .2$\n",
    ">\n",
    ">$(1-p_{\\bar{w}})^2 = .8$\n",
    ">\n",
    ">$(1-p_{\\bar{w}}) = \\sqrt{.8}$\n",
    ">\n",
    ">$p_{\\bar{w}} = 1 - \\sqrt{.8} = 0.1056$\n",
    "\n",
    "$\\checkmark$ **correct 2/2**"
   ]
  },
  {
   "cell_type": "code",
   "execution_count": 287,
   "metadata": {},
   "outputs": [
    {
     "data": {
      "text/html": [
       "0.20004864"
      ],
      "text/latex": [
       "0.20004864"
      ],
      "text/markdown": [
       "0.20004864"
      ],
      "text/plain": [
       "[1] 0.2000486"
      ]
     },
     "metadata": {},
     "output_type": "display_data"
    }
   ],
   "source": [
    "#to check the above, pgeom returns the CDF value for a requested number of \"success\"\n",
    "#observations before the \"failure\" case. The CDF's pmf function is provided by p.\n",
    "pgeom(1, .1056) # pgeom starts counting observations at 0 instead of 1, so we offset nobs"
   ]
  },
  {
   "cell_type": "markdown",
   "metadata": {},
   "source": [
    "\n",
    "g. In study number 2, 100 patients were all well in year 1, and 40 of them were well 6 years later (in year 7).  Assuming the transition probabilities are constant, what is $P(W_{i+1}|W_i)$?\n"
   ]
  },
  {
   "cell_type": "markdown",
   "metadata": {},
   "source": [
    "**Answer**\n",
    "\n",
    ">Plugging in again, and this time we want the value after 60% of our cumulative density\n",
    ">\n",
    ">$\\sum\\limits_{y=1}^7 (1-p_{\\bar{w}})^{y-1} p_{\\bar{w}} = 1 - (1- p_{\\bar{w}})^6 = .6$\n",
    ">\n",
    ">$(1-p_{\\bar{w}})^6 = .4$\n",
    ">\n",
    ">$(1-p_{\\bar{w}}) = \\sqrt[6]{.4}$\n",
    ">\n",
    ">$p_{\\bar{w}} = 1 - \\sqrt[6]{.4} = 0.1416$\n",
    "\n",
    "$\\checkmark$ **correct 2/2**"
   ]
  },
  {
   "cell_type": "code",
   "execution_count": 289,
   "metadata": {},
   "outputs": [
    {
     "data": {
      "text/html": [
       "0.599927911152672"
      ],
      "text/latex": [
       "0.599927911152672"
      ],
      "text/markdown": [
       "0.599927911152672"
      ],
      "text/plain": [
       "[1] 0.5999279"
      ]
     },
     "metadata": {},
     "output_type": "display_data"
    }
   ],
   "source": [
    "#to check the above, pgeom returns the CDF value for a requested number of \"success\"\n",
    "#observations before the \"failure\" case. The CDF's pmf function is provided by p.\n",
    "pgeom(5, .1416) # pgeom starts counting observations at 0 instead of 1, so we offset nobs"
   ]
  },
  {
   "cell_type": "markdown",
   "metadata": {},
   "source": [
    "\n",
    "h. Notice that both study 1 and study 2 have an average of 10 patients becoming unwell per year.  If you got different answers for f. and g., explain why."
   ]
  },
  {
   "cell_type": "markdown",
   "metadata": {},
   "source": [
    "**Answer**\n",
    "\n",
    ">Although the average rate is 10, the actual rate of decline is multi-polynoial, not linear, and since our example y's are not taken to infinity the approximation used $(1-(1-p)^y)$ is imperfect at smaller numbers.\n",
    "\n",
    "$\\checkmark$ **correct 2/2**"
   ]
  },
  {
   "cell_type": "markdown",
   "metadata": {},
   "source": [
    "i. Now suppose $P(W_{i+1}|W_i) = 0.2$ and $P(I_{i+1}|I_i) = 0.2$ for all $i$.  Compute the expected number of years that a patient will be alive. look at the diagram to appreciate that patients can either stay the same or get sicker. The patients must traverse the Ill state before death so $P(D_{i+1}|W_i) = 0$."
   ]
  },
  {
   "cell_type": "markdown",
   "metadata": {},
   "source": [
    "**Answer**\n",
    "\n",
    ">One of the properties of a geometric distribution is that it is memoryless, which is to say that any random variable following the geometric distribution only depends on its current state and not on its past.\n",
    ">\n",
    ">Therefore we can write a new random variable $N$otDeadYet$ = L + I$ThinkIllGoForAWalk. Where $L$ is as defined originally and $I$ThinkIllGoForAWalk is the number of years the patient is sick.\n",
    ">\n",
    ">$E(N) = E(L) + E(I)$\n",
    ">\n",
    ">$E(L)$ was calculated in part (b)\n",
    ">\n",
    ">$I$ThinkIllGoForAWalk is a **geometric random variable** representing the number of years living ill until becoming dead. $D$ is the event the person becomes dead (or mostly dead). This event has a chance of occuring at the end of every year, including the first year. So be quiet, you'll be stone dead in a moment.\n",
    ">\n",
    ">The pmf of $I$ThinkIllGoForAWalk (abbreviated $f_I$) before becoming $D$ looks like this:\n",
    ">\n",
    ">$$f_I(k;p_{d})=\\begin{cases}\n",
    "(1-p_{d})^{k-1} p_{d}, & k \\in \\{1, 2, \\cdots \\} \\\\\n",
    "0, &otherwise\\\\\n",
    "\\end{cases}$$\n",
    ">\n",
    ">$p_{d} = 0.8$ is the probability of becoming dead and $k$ is the number of years sick. Note that $p_{\\bar{d}}=0.2$ is the probability of being not dead, and perhaps feeling rather happy. $p_{\\bar{d}} = 1 - p_{d}$\n",
    ">\n",
    ">\n",
    ">$$\n",
    "\\begin{align*}\n",
    "E(I) & = \\sum\\limits_{k=1}^{\\infty}k(1-p_{d})^{k-1} p_{d} \\\\\n",
    "&= \\frac{1}{p_{d}} = 1.25 \\\\\n",
    "\\end{align*}\n",
    "$$\n",
    ">\n",
    ">Therefore $E(N) = E(L) + E(I) = 2.5$.\n",
    ">\n",
    ">Always look on the bright side of life."
   ]
  },
  {
   "cell_type": "markdown",
   "metadata": {},
   "source": [
    "$\\checkmark$ **correct 2/2**"
   ]
  },
  {
   "cell_type": "code",
   "execution_count": 319,
   "metadata": {},
   "outputs": [
    {
     "data": {
      "image/png": "[encoded data removed]",
      "text/plain": [
       "Plot with title “Histogram of Demise”"
      ]
     },
     "metadata": {},
     "output_type": "display_data"
    },
    {
     "data": {
      "image/png": "[encoded data removed]",
      "text/plain": [
       "Plot with title “Cumulative Distribution of Demise”"
      ]
     },
     "metadata": {},
     "output_type": "display_data"
    }
   ],
   "source": [
    "#A few visualizations not part of the lab. Using these to test and confirm intuition.\n",
    "\n",
    "data<-how_long_do_i_have(100, .1056)\n",
    "\n",
    "hist(data, breaks=100, main=\"Histogram of Demise\",\n",
    "     xlab=\"Years until illness or death\", ylab=\"Number of people\")\n",
    "\n",
    "plot(ecdf(data), main=\"Cumulative Distribution of Demise\",\n",
    "     xlab=\"Years until illness or death\", ylab=\"F(x)\")  "
   ]
  },
  {
   "cell_type": "markdown",
   "metadata": {},
   "source": [
    "**Q5:20/20**"
   ]
  },
  {
   "cell_type": "markdown",
   "metadata": {},
   "source": [
    "## Total: 95/100 Phenomenal job!"
   ]
  }
 ],
 "metadata": {
  "kernelspec": {
   "display_name": "Python 3",
   "language": "python",
   "name": "python3"
  },
  "language_info": {
   "codemirror_mode": {
    "name": "ipython",
    "version": 3
   },
   "file_extension": ".py",
   "mimetype": "text/x-python",
   "name": "python",
   "nbconvert_exporter": "python",
   "pygments_lexer": "ipython3",
   "version": "3.7.1"
  }
 },
 "nbformat": 4,
 "nbformat_minor": 2
}
