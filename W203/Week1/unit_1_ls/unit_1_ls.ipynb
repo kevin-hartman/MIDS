{
 "cells": [
  {
   "cell_type": "markdown",
   "metadata": {},
   "source": [
    "# Unit 1 Live Session\n",
    "### W203 Statistics for Data Science"
   ]
  },
  {
   "cell_type": "markdown",
   "metadata": {},
   "source": [
    "### 1. What's statistics? What's this class?\n",
    "\n",
    "<img src=\"https://imgs.xkcd.com/comics/correlation.png\">"
   ]
  },
  {
   "cell_type": "markdown",
   "metadata": {},
   "source": [
    "### 2. Instructor Introduction\n",
    "\n",
    "<a><img src=\"https://i.imgflip.com/30a2nn.jpg\"/></a>"
   ]
  },
  {
   "cell_type": "markdown",
   "metadata": {},
   "source": [
    "### 3. Student Introductions\n",
    "\n",
    "<a ><img src=\"https://i.imgflip.com/30a1ir.jpg\"/></a>\n",
    "\n",
    "Please take just 2 minutes to tell us a tiny bit about yourself.\n",
    "\n",
    " 1. Your job / career interest / reason you're learning data science\n",
    " <br><br>\n",
    " 2. Something very few people know about you\n",
    "    \n",
    "### 4. Weekly Workflow\n",
    "\n",
    "A typical week of the course proceeds as follows:\n",
    "\n",
    "   1. Before live session: Watch all async content.  Complete all required readings.\n",
    "   <br><br>\n",
    "   2. In live session: We will build upon the async to test and extend your understanding\n",
    "   <br><br>\n",
    "   3. After live session: complete the homework for the unit (due before next live session)\n",
    "    \n",
    "### 5. Important Resources\n",
    "- [Course Webpage](https://w203-summer-19.github.io/)\n",
    "    - Look here for the most up-to-date course policies.  There is a useful calendar that shows you what work should be done each week.\n",
    "<br><br>\n",
    "- [ISVC](https://learn.datascience.berkeley.edu/login)\n",
    "    - This is the platform with course videos.  You will also submit your homework here.\n",
    "    <br><br>\n",
    "    - Unfortunately, we're in an iteration freeze that means that some information on the ISVC is out-of-date.  Please look to the course webpage for the correct list of deliverables, videos, and grading policies.\n",
    "    <br><br>\n",
    "- [Github Org: w203-summer-19](https://github.com/w203-summer-19)\n",
    "    - We will distribute homework, labs, and live session documents through Github.\n",
    "    <br><br>\n",
    "    - You should have received an invite to our github org to your ischool email address, it will allow you to join with any github account you like.\n",
    "- [Piazza](https://piazza.com/class/jqlgwy1eerl2rt)\n",
    "    - Piazza will be our forum for questions about content, announcements, and other communication.\n",
    "\n",
    "### 6. Calendar Adjustments\n",
    "\n",
    "Look at the course webpage to see what videos we're watching over the next few weeks.  We are skipping most of unit 2 (on exploratory data analysis) so that we have more time to build up the probability theory.\n",
    "\n",
    "    Week 1: Unit 1\n",
    "    Week 2: Unit 3 and Unit 2.4 and 2.5\n",
    "    Week 3: Unit 4.1 through 4.9 and 4.12\n",
    "    Week 4: Unit 4.10 through 4.16"
   ]
  },
  {
   "cell_type": "markdown",
   "metadata": {},
   "source": [
    "\n",
    "\n",
    "\n",
    "\n",
    "### 7. Information from You\n",
    "\n",
    "We will need your github username to add you to the org.  We'd also like to know a few things about you.  Please fill out this information form: \n",
    "\n",
    "[w203 Information Form](https://forms.gle/zcMNufcZiGcFBWGz8)\n",
    "\n",
    "\n",
    "### 8. Homework\n",
    "\n",
    "Most weeks of the course include a homework assignment.\n",
    "\n",
    "To access the first homework, navigate to our [Github Org](https://github.com/w203-summer-19) and open the repository called unit\\_1\\_hw.  If you are not familiar with Github, don't worry about the details right now.  Find the green button to download a zip file containing all documents to your machine.  You can then open the notebook using Jupyter.\n",
    "\n",
    "To submit the first homework, find the section on ISVC called Assessments.  There is a page there to upload your solution file.\n",
    "\n",
    "### 9. How to Succeed in this Class\n",
    "\n",
    "Here are some strategies we think will help.\n",
    "\n",
    "   1. Get to know your readings, especially the Devore and Wooldridge textbooks.  (We may occasionally ask questions that you can only answer if you keep up with the readings)\n",
    "   <br><br>\n",
    "   2. Do the best job on the homework you can.\n",
    "   <br><br>\n",
    "   3. Strategize about the homework exercises with friends as much as you want, but write the final proofs and final scripts by yourself.  (However, note that you are not allowed to discusses quizzes or labs with anyone else unless otherwise specified)\n",
    "   <br><br>\n",
    "   4. Try each problem on your own for at least a little bit.  \n",
    "   <br><br>\n",
    "   5. If you're stuck on a problem for more than 30 minutes, talk to a classmate, come to office hours, or ask a question on piazza.\n",
    "   <br><br>\n",
    "   6. Form study groups!\n",
    "   <br><br>\n",
    "   7. Come to office hours!  Many office hours!\n",
    "\n",
    "\n",
    "### 10. Discussion Questions\n",
    "\n",
    "Take 5 minutes to discuss these in breakouts, before our class-wide discussion.\n",
    "\n",
    "   1. Why do you need to know classical statistics, when we have fancy machine learning algorithms that can classify and predict with amazing accuracy?\n",
    "   <br><br>\n",
    "   2. Why isn't descriptive statistics enough for your career?\n",
    "   <br><br>\n",
    "   3. What mistake might result from confusing a sample mean for a population mean?\n",
    "\n",
    "### 11. Software\n",
    "\n",
    "Apart from today I will use a jupyter notebook with an R kernel to instruct you. You can read a little more about this technology [here](https://plot.ly/python/ipython-vs-python/).  You will need to install applications and packages in order to use these notebooks. \n",
    "\n",
    "Every system is different and in the life of a data scientist figuring out how to get and install useful software packages from tutorial and question/answers on the internet is an extremely valuable skill.  \n",
    "\n",
    "Please do this by next week. \n",
    "\n",
    "One possible way to do it:\n",
    "\n",
    "   1. Install R from CRAN: https://cran.r-project.org/\n",
    "   <br><br>\n",
    "   2. Install Anaconda: https://www.anaconda.com/download/\n",
    "   <br><br>\n",
    "   3. Update conda using conda: \"conda update conda\"\n",
    "   <br><br>\n",
    "   4. Install R-essentials package using conda: \"conda install -c r r-essentials\" \n",
    "   <br><br>\n",
    "   5. Install any other packages from CRAN or from Anaconda Cloud\n",
    "\n",
    "R studio is another platform that is even more popular among R coders (https://www.rstudio.com/products/rstudio/download/ or in Anaconda).  It is fantastic for coding, but less adapted to teaching.  You may find it useful for completing some assignments, especially the later labs.\n",
    "    \n",
    "\n",
    "\n",
    "### 12. Reminders\n",
    "\n",
    "Before next week:\n",
    "\n",
    "   1. Install Jupyter with an R kernel.\n",
    "   <br><br>\n",
    "   2. Complete the Unit 1 homework located in our Github org (due 24 hours before next live session).\n",
    "   <br><br>\n",
    "   3. Watch all unit 3 async content (plus the short videos 2.4 and 2.5)\n",
    "   <br><br>\n",
    "   4. Do the reading for week 2 (Devore chapter 2 and the <a href=https://w203-summer-19.github.io/patent_reading.pdf > patent handout </a>)"
   ]
  }
 ],
 "metadata": {
  "kernelspec": {
   "display_name": "R",
   "language": "R",
   "name": "ir"
  },
  "language_info": {
   "codemirror_mode": "r",
   "file_extension": ".r",
   "mimetype": "text/x-r-source",
   "name": "R",
   "pygments_lexer": "r",
   "version": "3.5.1"
  },
  "varInspector": {
   "cols": {
    "lenName": 16,
    "lenType": 16,
    "lenVar": 40
   },
   "kernels_config": {
    "python": {
     "delete_cmd_postfix": "",
     "delete_cmd_prefix": "del ",
     "library": "var_list.py",
     "varRefreshCmd": "print(var_dic_list())"
    },
    "r": {
     "delete_cmd_postfix": ") ",
     "delete_cmd_prefix": "rm(",
     "library": "var_list.r",
     "varRefreshCmd": "cat(var_dic_list()) "
    }
   },
   "types_to_exclude": [
    "module",
    "function",
    "builtin_function_or_method",
    "instance",
    "_Feature"
   ],
   "window_display": false
  }
 },
 "nbformat": 4,
 "nbformat_minor": 2
}
