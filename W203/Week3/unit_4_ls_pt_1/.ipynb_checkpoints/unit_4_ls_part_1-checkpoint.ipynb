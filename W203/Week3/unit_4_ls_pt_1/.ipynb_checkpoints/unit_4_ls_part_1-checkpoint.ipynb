{
 "cells": [
  {
   "cell_type": "markdown",
   "metadata": {},
   "source": [
    "<h1>Unit 4 Part 1 Live Session: Discrete Random Variables </center> </h1>\n",
    "<h2> W203 Instructional Team </h2>"
   ]
  },
  {
   "cell_type": "markdown",
   "metadata": {},
   "source": [
    "<h2> Random Variables </h2>\n",
    "\n",
    "<img src=\"https://drive.google.com/uc?id=1TD74lgT93dFL02NxTMI2VAF27IpkZhMO\">\n",
    "    "
   ]
  },
  {
   "cell_type": "markdown",
   "metadata": {},
   "source": [
    "<h3> 0.1 Class Announcements </h3>\n",
    "1. Announcement 1\n",
    "2. Announcement 2"
   ]
  },
  {
   "cell_type": "markdown",
   "metadata": {},
   "source": [
    "<h3> 1 Random Variables Group Discussion </h3>"
   ]
  },
  {
   "cell_type": "markdown",
   "metadata": {},
   "source": [
    "** Experiment: ** You have written the letters A through G on 7 separate slips of paper and put them in a hat. After you have mixed up those piece of paper you ask someone to close their eyes and blindly choose one slip of paper out of the hat. The person then shows you the slip of paper with which you generate a number according to the following. \n",
    "\n",
    "$$ \n",
    "X = \n",
    "\\begin{cases} \n",
    "    1 &  \\text{if shown  A } \\\\\n",
    "    10 & \\text{if shown B or C } \\\\\n",
    "    20 & \\text{if shown D or E or F } \\\\\n",
    "    2  & \\text{if shown  G }\n",
    "\\end{cases}\n",
    "$$\n",
    "\n"
   ]
  },
  {
   "cell_type": "markdown",
   "metadata": {},
   "source": [
    "**1.1** Is $X$ a random variable? If so how would you further categorize it? Either way, give a definition of what a random variable is to you. "
   ]
  },
  {
   "cell_type": "markdown",
   "metadata": {},
   "source": [
    "X is a discrete random variable\n",
    "The value changes based on the outcome\n",
    "\n",
    "The s"
   ]
  },
  {
   "cell_type": "markdown",
   "metadata": {},
   "source": [
    "**1.2** Suppose you then define $Y = X^2$, is $Y$ a random variable? How about any real valued function $f(X)$? Is your definition too narrow to include $Y$ and/or $f(X)$? What about $f(X) = 1$ for all values of $X$."
   ]
  },
  {
   "cell_type": "code",
   "execution_count": null,
   "metadata": {},
   "outputs": [],
   "source": []
  },
  {
   "cell_type": "markdown",
   "metadata": {},
   "source": [
    "Remember the following picture:\n",
    "\n",
    "<img src=\"https://drive.google.com/uc?id=14IaN5dxxV4-iY5USN6XTrum7vlybXfEJ\">"
   ]
  },
  {
   "cell_type": "markdown",
   "metadata": {},
   "source": [
    "**1.3** Where does the randomness in a random variable come from?\n",
    "\n",
    "**1.4** If you select a person at random from the US population and measure their blood pressure, what does $\\Omega$ represent?  What does $w$ represent?  What is the random variable?"
   ]
  },
  {
   "cell_type": "markdown",
   "metadata": {},
   "source": [
    "<h3> 2 Modeling A Fair Die </h3>\n",
    "\n",
    "The range of a discrete random variable is a discrete set of real numbers, $O$.  Much of the time, the range will simply be a finite set of numbers. For any value k in the range, $0 \\leq P(X=k) \\leq 1$. The sum over all values k in the range is 1, i.e. $\\sum_{k \\in O} P(X=k)=1$."
   ]
  },
  {
   "cell_type": "markdown",
   "metadata": {},
   "source": [
    "The expected value (or population mean) of a discrete random variable X is the weighted average of the values in the range of X.\n",
    "$$E(X) = \\sum_{k \\in O} k \\cdot P(X=k)$$"
   ]
  },
  {
   "cell_type": "markdown",
   "metadata": {},
   "source": [
    "One very useful feature of R is its ability to generate random numbers from a wide variety of distributions."
   ]
  },
  {
   "cell_type": "markdown",
   "metadata": {},
   "source": [
    "**2.1** How can we represent a fair (six-sided) die in R? Do so (Hint: ?sample) "
   ]
  },
  {
   "cell_type": "code",
   "execution_count": null,
   "metadata": {},
   "outputs": [],
   "source": []
  },
  {
   "cell_type": "markdown",
   "metadata": {},
   "source": [
    "**2.2** Let the $X$ represent the result of one role of a 6 sided die.  Think of the formula for $E(X)$ and use R to evaluate it."
   ]
  },
  {
   "cell_type": "code",
   "execution_count": null,
   "metadata": {},
   "outputs": [],
   "source": []
  },
  {
   "cell_type": "markdown",
   "metadata": {},
   "source": [
    "**2.3** Let $Y$ be the random variable given by $X^2$.  Think of the formula for $E(Y)$ and use R to evaluate it."
   ]
  },
  {
   "cell_type": "code",
   "execution_count": null,
   "metadata": {},
   "outputs": [],
   "source": []
  },
  {
   "cell_type": "markdown",
   "metadata": {},
   "source": [
    "**2.4** Using your previous two answers, use R to compute $var(X)$."
   ]
  },
  {
   "cell_type": "code",
   "execution_count": null,
   "metadata": {},
   "outputs": [],
   "source": []
  },
  {
   "cell_type": "markdown",
   "metadata": {},
   "source": [
    "**2.5** Simulate rolling the die 10 times, plot the result, and compute the sample mean. (Hint: ?sample)"
   ]
  },
  {
   "cell_type": "code",
   "execution_count": null,
   "metadata": {},
   "outputs": [],
   "source": []
  },
  {
   "cell_type": "markdown",
   "metadata": {},
   "source": [
    "**2.6** Simulate rolling the die 1000 times, plot the result, and compute the sample mean."
   ]
  },
  {
   "cell_type": "code",
   "execution_count": null,
   "metadata": {},
   "outputs": [],
   "source": []
  },
  {
   "cell_type": "markdown",
   "metadata": {},
   "source": [
    "**2.7** Compare the result of 2.3 with the results of 2.4.  Which mean value is closer to $E(X)$?"
   ]
  },
  {
   "cell_type": "code",
   "execution_count": null,
   "metadata": {},
   "outputs": [],
   "source": []
  },
  {
   "cell_type": "markdown",
   "metadata": {},
   "source": [
    "<h3> 3 Expectation is Linear </h3>\n",
    "\n",
    "Remember that for a random variable $X$ and constants $a$ and $b$, $E(aX + b) = aE(X) + b$\n",
    "\n",
    "Later, we'll also see that for two random variables $X$ and $Y$, $E(X + Y) = E(X) + E(Y)$.\n",
    "\n",
    "Linearity is a very powerful property.  Using it can often make your solutions much cleaner.\n",
    "\n",
    "Say you want to find the expectation of a symmetric variable, $X$.  For example, here's a random variable that's symmetric around 5."
   ]
  },
  {
   "cell_type": "code",
   "execution_count": 15,
   "metadata": {},
   "outputs": [
    {
     "data": {
      "image/png": "[encoded data removed]",
      "text/plain": [
       "Plot with title “Pmf of a Discrete Random Variable”"
      ]
     },
     "metadata": {},
     "output_type": "display_data"
    }
   ],
   "source": [
    "options(repr.plot.width=4, repr.plot.height=3)\n",
    "plot(c(2,3,7,8),c(.2,.3,.3,.2),type=\"h\",col=2,main=\"Pmf of a Discrete Random Variable\",xlab=\"x\",ylab=\"p(x)\",ylim=c(0,.35))\n",
    "points(c(2,3,7,8),c(.2,.3,.3,.2),col=2)\n",
    "abline(h=0,col=3)\n",
    "abline(v=5,col=4, lty=3)"
   ]
  },
  {
   "cell_type": "markdown",
   "metadata": {},
   "source": [
    "To find the expectation, you could write the expectation as a sum in terms of the pmf, and then break the sum up into two sums... but it gets a bit messy.\n",
    "\n",
    "Instead, you can try to apply linearity.  First, think of a function, $f$, such that $f(X)$ is another random variable with the exact same pmf as $X$."
   ]
  },
  {
   "cell_type": "markdown",
   "metadata": {},
   "source": []
  },
  {
   "cell_type": "markdown",
   "metadata": {},
   "source": [
    "Now, write the equation that says that the expectation of $X$ and $f(X)$ are the same, and simplify it."
   ]
  },
  {
   "cell_type": "markdown",
   "metadata": {},
   "source": []
  },
  {
   "cell_type": "markdown",
   "metadata": {},
   "source": [
    "<h3>4 Simulation"
   ]
  },
  {
   "cell_type": "markdown",
   "metadata": {},
   "source": [
    "**4.1** In what ways are simulations useful to a data scientist?"
   ]
  },
  {
   "cell_type": "markdown",
   "metadata": {},
   "source": []
  },
  {
   "cell_type": "markdown",
   "metadata": {},
   "source": [
    "**4.2** A binomial variable can be used to model a set of independent trials.  Say that you have a coin that lands heads with probability $p$.  You flip the coin $n$ times.  A binomial variable with parameters $n$ and $p$ is defined as the number of heads out of the $n$ flips.\n",
    "\n",
    "Use R to simulate the $100$ flips for a coin with $p=.3$ and output the number of heads."
   ]
  },
  {
   "cell_type": "code",
   "execution_count": null,
   "metadata": {},
   "outputs": [],
   "source": []
  },
  {
   "cell_type": "markdown",
   "metadata": {},
   "source": [
    "**4.3** You have just taken a single draw from your random variable.  If you want to see what the distribution of your variable looks like, one idea is to simulate many draws.\n",
    "\n",
    "Use R to repeat the simulation 1000 times and store the value of the random variable each time.  Plot a histogram of your result.\n",
    "\n",
    "You may want to use the replicate function, which is shown below."
   ]
  },
  {
   "cell_type": "code",
   "execution_count": 17,
   "metadata": {},
   "outputs": [
    {
     "data": {
      "text/html": [
       "<ol class=list-inline>\n",
       "\t<li>'T'</li>\n",
       "\t<li>'H'</li>\n",
       "\t<li>'T'</li>\n",
       "\t<li>'H'</li>\n",
       "\t<li>'T'</li>\n",
       "\t<li>'H'</li>\n",
       "\t<li>'T'</li>\n",
       "\t<li>'H'</li>\n",
       "\t<li>'T'</li>\n",
       "\t<li>'T'</li>\n",
       "</ol>\n"
      ],
      "text/latex": [
       "\\begin{enumerate*}\n",
       "\\item 'T'\n",
       "\\item 'H'\n",
       "\\item 'T'\n",
       "\\item 'H'\n",
       "\\item 'T'\n",
       "\\item 'H'\n",
       "\\item 'T'\n",
       "\\item 'H'\n",
       "\\item 'T'\n",
       "\\item 'T'\n",
       "\\end{enumerate*}\n"
      ],
      "text/markdown": [
       "1. 'T'\n",
       "2. 'H'\n",
       "3. 'T'\n",
       "4. 'H'\n",
       "5. 'T'\n",
       "6. 'H'\n",
       "7. 'T'\n",
       "8. 'H'\n",
       "9. 'T'\n",
       "10. 'T'\n",
       "\n",
       "\n"
      ],
      "text/plain": [
       " [1] \"T\" \"H\" \"T\" \"H\" \"T\" \"H\" \"T\" \"H\" \"T\" \"T\""
      ]
     },
     "metadata": {},
     "output_type": "display_data"
    }
   ],
   "source": [
    "replicate(10, sample(c(\"H\",\"T\"),1))"
   ]
  },
  {
   "cell_type": "markdown",
   "metadata": {},
   "source": [
    "**4.4** In this case, you could have also used R's dbinom to get the exact distribution you want:"
   ]
  },
  {
   "cell_type": "code",
   "execution_count": 23,
   "metadata": {},
   "outputs": [],
   "source": [
    "x = seq(0,50,by=1)\n",
    "y = dbinom(x, size = 100,prob=.3)"
   ]
  },
  {
   "cell_type": "markdown",
   "metadata": {},
   "source": [
    "Plot the above distribution.  What other famouse distribution does it remind you of?"
   ]
  },
  {
   "cell_type": "markdown",
   "metadata": {},
   "source": []
  },
  {
   "cell_type": "markdown",
   "metadata": {},
   "source": [
    "**4.5** Since it was easy to get the exact distribution in this case, simulation wasn't really needed.  Give an example of a situation in which you really do need simulation to visualize a distribution."
   ]
  },
  {
   "cell_type": "code",
   "execution_count": null,
   "metadata": {},
   "outputs": [],
   "source": []
  }
 ],
 "metadata": {
  "kernelspec": {
   "display_name": "R",
   "language": "R",
   "name": "ir"
  },
  "language_info": {
   "codemirror_mode": "r",
   "file_extension": ".r",
   "mimetype": "text/x-r-source",
   "name": "R",
   "pygments_lexer": "r",
   "version": "3.5.1"
  },
  "varInspector": {
   "cols": {
    "lenName": 16,
    "lenType": 16,
    "lenVar": 40
   },
   "kernels_config": {
    "python": {
     "delete_cmd_postfix": "",
     "delete_cmd_prefix": "del ",
     "library": "var_list.py",
     "varRefreshCmd": "print(var_dic_list())"
    },
    "r": {
     "delete_cmd_postfix": ") ",
     "delete_cmd_prefix": "rm(",
     "library": "var_list.r",
     "varRefreshCmd": "cat(var_dic_list()) "
    }
   },
   "types_to_exclude": [
    "module",
    "function",
    "builtin_function_or_method",
    "instance",
    "_Feature"
   ],
   "window_display": false
  }
 },
 "nbformat": 4,
 "nbformat_minor": 2
}
