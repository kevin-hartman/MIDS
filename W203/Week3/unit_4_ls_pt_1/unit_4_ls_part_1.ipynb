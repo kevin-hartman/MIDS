{
 "cells": [
  {
   "cell_type": "markdown",
   "metadata": {},
   "source": [
    "<h1>Unit 4 Part 1 Live Session: Discrete Random Variables </center> </h1>\n",
    "<h2> W203 Instructional Team </h2>"
   ]
  },
  {
   "cell_type": "markdown",
   "metadata": {},
   "source": [
    "<h2> Random Variables </h2>\n",
    "\n",
    "<img src=\"https://drive.google.com/uc?id=1TD74lgT93dFL02NxTMI2VAF27IpkZhMO\">\n",
    "    "
   ]
  },
  {
   "cell_type": "markdown",
   "metadata": {},
   "source": [
    "<h3> 0.1 Class Announcements </h3>\n",
    "1. Announcement 1\n",
    "2. Announcement 2"
   ]
  },
  {
   "cell_type": "markdown",
   "metadata": {},
   "source": [
    "<h3> 1 Random Variables Group Discussion </h3>"
   ]
  },
  {
   "cell_type": "markdown",
   "metadata": {},
   "source": [
    "** Experiment: ** You have written the letters A through G on 7 separate slips of paper and put them in a hat. After you have mixed up those piece of paper you ask someone to close their eyes and blindly choose one slip of paper out of the hat. The person then shows you the slip of paper with which you generate a number according to the following. \n",
    "\n",
    "$$ \n",
    "X = \n",
    "\\begin{cases} \n",
    "    1 &  \\text{if shown  A } \\\\\n",
    "    10 & \\text{if shown B or C } \\\\\n",
    "    20 & \\text{if shown D or E or F } \\\\\n",
    "    2  & \\text{if shown  G }\n",
    "\\end{cases}\n",
    "$$\n",
    "\n"
   ]
  },
  {
   "cell_type": "markdown",
   "metadata": {},
   "source": [
    "**1.1** Is $X$ a random variable? If so how would you further categorize it? Either way, give a definition of what a random variable is to you. "
   ]
  },
  {
   "cell_type": "markdown",
   "metadata": {},
   "source": [
    "X is a discrete random variable\n",
    "The value changes based on the outcome\n",
    "\n",
    "The selection of which piece of paper is the random part"
   ]
  },
  {
   "cell_type": "markdown",
   "metadata": {},
   "source": [
    "**1.2** Suppose you then define $Y = X^2$, is $Y$ a random variable? How about any real valued function $f(X)$? Is your definition too narrow to include $Y$ and/or $f(X)$? What about $f(X) = 1$ for all values of $X$."
   ]
  },
  {
   "cell_type": "markdown",
   "metadata": {},
   "source": [
    "Y is a random variable\n",
    "f(X) is a random variable"
   ]
  },
  {
   "cell_type": "markdown",
   "metadata": {},
   "source": [
    "Remember the following picture:\n",
    "\n",
    "<img src=\"https://drive.google.com/uc?id=14IaN5dxxV4-iY5USN6XTrum7vlybXfEJ\">"
   ]
  },
  {
   "cell_type": "markdown",
   "metadata": {},
   "source": [
    "**1.3** Where does the randomness in a random variable come from?\n",
    "\n",
    "**1.4** If you select a person at random from the US population and measure their blood pressure, what does $\\Omega$ represent?  What does $w$ represent?  What is the random variable?"
   ]
  },
  {
   "cell_type": "markdown",
   "metadata": {},
   "source": [
    "Omega represents all the blood pressure and all the people in the united states. \n",
    "Function of the person, w, resulting in a blood pressure reading, the random variable.\n",
    "Operationalizion based on a random draw and whatever you've operationalized. However you measured the phenomenmo\n"
   ]
  },
  {
   "cell_type": "markdown",
   "metadata": {},
   "source": [
    "<h3> 2 Modeling A Fair Die </h3>\n",
    "\n",
    "The range of a discrete random variable is a discrete set of real numbers, $O$.  Much of the time, the range will simply be a finite set of numbers. For any value k in the range, $0 \\leq P(X=k) \\leq 1$. The sum over all values k in the range is 1, i.e. $\\sum_{k \\in O} P(X=k)=1$."
   ]
  },
  {
   "cell_type": "markdown",
   "metadata": {},
   "source": [
    "The expected value (or population mean) of a discrete random variable X is the weighted average of the values in the range of X.\n",
    "$$E(X) = \\sum_{k \\in O} k \\cdot P(X=k)$$"
   ]
  },
  {
   "cell_type": "markdown",
   "metadata": {},
   "source": [
    "One very useful feature of R is its ability to generate random numbers from a wide variety of distributions."
   ]
  },
  {
   "cell_type": "markdown",
   "metadata": {},
   "source": [
    "**2.1** How can we represent a fair (six-sided) die in R? Do so (Hint: ?sample) "
   ]
  },
  {
   "cell_type": "code",
   "execution_count": 17,
   "metadata": {},
   "outputs": [
    {
     "data": {
      "text/html": [
       "<ol class=list-inline>\n",
       "\t<li>3</li>\n",
       "\t<li>1</li>\n",
       "\t<li>1</li>\n",
       "\t<li>3</li>\n",
       "\t<li>6</li>\n",
       "\t<li>1</li>\n",
       "\t<li>4</li>\n",
       "\t<li>2</li>\n",
       "\t<li>5</li>\n",
       "\t<li>6</li>\n",
       "</ol>\n"
      ],
      "text/latex": [
       "\\begin{enumerate*}\n",
       "\\item 3\n",
       "\\item 1\n",
       "\\item 1\n",
       "\\item 3\n",
       "\\item 6\n",
       "\\item 1\n",
       "\\item 4\n",
       "\\item 2\n",
       "\\item 5\n",
       "\\item 6\n",
       "\\end{enumerate*}\n"
      ],
      "text/markdown": [
       "1. 3\n",
       "2. 1\n",
       "3. 1\n",
       "4. 3\n",
       "5. 6\n",
       "6. 1\n",
       "7. 4\n",
       "8. 2\n",
       "9. 5\n",
       "10. 6\n",
       "\n",
       "\n"
      ],
      "text/plain": [
       " [1] 3 1 1 3 6 1 4 2 5 6"
      ]
     },
     "metadata": {},
     "output_type": "display_data"
    }
   ],
   "source": [
    "outcomes<-c(1:6)\n",
    "prob<-rep(1/6,6)\n",
    "x<-sample(outcomes, size=10, prob=prob, replace=TRUE)"
   ]
  },
  {
   "cell_type": "code",
   "execution_count": 18,
   "metadata": {},
   "outputs": [
    {
     "data": {
      "text/html": [
       "3.5"
      ],
      "text/latex": [
       "3.5"
      ],
      "text/markdown": [
       "3.5"
      ],
      "text/plain": [
       "[1] 3.5"
      ]
     },
     "metadata": {},
     "output_type": "display_data"
    }
   ],
   "source": [
    "#manually\n",
    "E_X=(1*(1/6)+2*(1/6)+3*(1/6)+4*(1/6)+5*(1/6)+6*(1/6))\n",
    "E_X"
   ]
  },
  {
   "cell_type": "markdown",
   "metadata": {},
   "source": [
    "**2.2** Let the $X$ represent the result of one role of a 6 sided die.  Think of the formula for $E(X)$ and use R to evaluate it."
   ]
  },
  {
   "cell_type": "code",
   "execution_count": 19,
   "metadata": {},
   "outputs": [
    {
     "data": {
      "text/html": [
       "3.5"
      ],
      "text/latex": [
       "3.5"
      ],
      "text/markdown": [
       "3.5"
      ],
      "text/plain": [
       "[1] 3.5"
      ]
     },
     "metadata": {},
     "output_type": "display_data"
    }
   ],
   "source": [
    "sum(outcomes*prob)"
   ]
  },
  {
   "cell_type": "markdown",
   "metadata": {},
   "source": [
    "**2.3** Let $Y$ be the random variable given by $X^2$.  Think of the formula for $E(Y)$ and use R to evaluate it."
   ]
  },
  {
   "cell_type": "code",
   "execution_count": 21,
   "metadata": {},
   "outputs": [
    {
     "data": {
      "text/html": [
       "15.1666666666667"
      ],
      "text/latex": [
       "15.1666666666667"
      ],
      "text/markdown": [
       "15.1666666666667"
      ],
      "text/plain": [
       "[1] 15.16667"
      ]
     },
     "metadata": {},
     "output_type": "display_data"
    }
   ],
   "source": [
    "E_Y=sum(outcomes**2*prob)\n",
    "E_Y"
   ]
  },
  {
   "cell_type": "markdown",
   "metadata": {},
   "source": [
    "**2.4** Using your previous two answers, use R to compute $var(X)$."
   ]
  },
  {
   "cell_type": "markdown",
   "metadata": {},
   "source": [
    "$$Var(X)=E(X^2)-[E(X)^2]$$"
   ]
  },
  {
   "cell_type": "code",
   "execution_count": 23,
   "metadata": {},
   "outputs": [
    {
     "data": {
      "text/html": [
       "2.91666666666667"
      ],
      "text/latex": [
       "2.91666666666667"
      ],
      "text/markdown": [
       "2.91666666666667"
      ],
      "text/plain": [
       "[1] 2.916667"
      ]
     },
     "metadata": {},
     "output_type": "display_data"
    }
   ],
   "source": [
    "var_x=E_Y-E_X^2\n",
    "var_x"
   ]
  },
  {
   "cell_type": "markdown",
   "metadata": {},
   "source": [
    "**2.5** Simulate rolling the die 10 times, plot the result, and compute the sample mean. (Hint: ?sample)"
   ]
  },
  {
   "cell_type": "code",
   "execution_count": 39,
   "metadata": {},
   "outputs": [
    {
     "data": {
      "text/html": [
       "'sample mean: 3.4'"
      ],
      "text/latex": [
       "'sample mean: 3.4'"
      ],
      "text/markdown": [
       "'sample mean: 3.4'"
      ],
      "text/plain": [
       "[1] \"sample mean: 3.4\""
      ]
     },
     "metadata": {},
     "output_type": "display_data"
    },
    {
     "data": {
      "image/png": "[encoded data removed]",
      "text/plain": [
       "Plot with title “hist fair die roll, n=10”"
      ]
     },
     "metadata": {},
     "output_type": "display_data"
    }
   ],
   "source": [
    "#make the plot smaller\n",
    "options(repr.plot.width=4, repr.plot.height=3)\n",
    "\n",
    "outcomes<-c(1:6)\n",
    "probs<-rep(1/6, 6)\n",
    "n=10\n",
    "data= sample(outcomes, size=n, replace=T, prob=probs)\n",
    "hist(data, breaks=(0:6), main=\"hist fair die roll, n=10\")\n",
    "\n",
    "paste('sample mean:', mean(data))"
   ]
  },
  {
   "cell_type": "markdown",
   "metadata": {},
   "source": [
    "**2.6** Simulate rolling the die 1000 times, plot the result, and compute the sample mean."
   ]
  },
  {
   "cell_type": "code",
   "execution_count": 38,
   "metadata": {},
   "outputs": [
    {
     "data": {
      "text/html": [
       "'sample mean: 3.513'"
      ],
      "text/latex": [
       "'sample mean: 3.513'"
      ],
      "text/markdown": [
       "'sample mean: 3.513'"
      ],
      "text/plain": [
       "[1] \"sample mean: 3.513\""
      ]
     },
     "metadata": {},
     "output_type": "display_data"
    },
    {
     "data": {
      "image/png": "[encoded data removed]",
      "text/plain": [
       "Plot with title “hist fair die roll, n=1000”"
      ]
     },
     "metadata": {},
     "output_type": "display_data"
    }
   ],
   "source": [
    "#make the plot smaller\n",
    "options(repr.plot.width=4, repr.plot.height=3)\n",
    "\n",
    "outcomes<-c(1:6)\n",
    "probs<-rep(1/6, 6)\n",
    "n=1000\n",
    "data= sample(outcomes, size=n, replace=T, prob=probs)\n",
    "hist(data, breaks=(0:6), main=\"hist fair die roll, n=1000\")\n",
    "\n",
    "paste('sample mean:', mean(data))"
   ]
  },
  {
   "cell_type": "markdown",
   "metadata": {},
   "source": [
    "**2.7** Compare the result of 2.3 with the results of 2.4.  Which mean value is closer to $E(X)$?"
   ]
  },
  {
   "cell_type": "code",
   "execution_count": 62,
   "metadata": {},
   "outputs": [
    {
     "ename": "ERROR",
     "evalue": "Error in parse(text = x, srcfile = src): <text>:17:73: unexpected '['\n16: \n17: plot(data, type='l', main=expression(paste(\"convergence of \" (bar(X)[n]-[\n                                                                            ^\n",
     "output_type": "error",
     "traceback": [
      "Error in parse(text = x, srcfile = src): <text>:17:73: unexpected '['\n16: \n17: plot(data, type='l', main=expression(paste(\"convergence of \" (bar(X)[n]-[\n                                                                            ^\nTraceback:\n"
     ]
    }
   ],
   "source": [
    "#\"\"\" draw dample n and get distance from expecttion 3.5\"\"\"\n",
    "expect=3.5\n",
    "prob=rep(1/6,6)\n",
    "outcomes=c(1:6)\n",
    "n=10\n",
    "\n",
    "draw_smpls<-function(prob, outcomes, n, expect){\n",
    "    delta=mean(sample(outcomes, size=n, replace=T, prob = prob))-expect\n",
    "    }\n",
    "\n",
    "data=rep(0,300)\n",
    "\n",
    "for(i in 1:300) {\n",
    "    draw_smpls(prob, outcomes, i, expect)\n",
    "    }\n",
    "\n",
    "plot(data, type='l', main=expression(paste(\"convergence of \" (bar(X)[n]-[E])) ), xlab=\"sample size\"))"
   ]
  },
  {
   "cell_type": "code",
   "execution_count": null,
   "metadata": {},
   "outputs": [],
   "source": []
  },
  {
   "cell_type": "markdown",
   "metadata": {},
   "source": [
    "<h3> 3 Expectation is Linear </h3>\n",
    "\n",
    "Remember that for a random variable $X$ and constants $a$ and $b$, $E(aX + b) = aE(X) + b$\n",
    "\n",
    "Later, we'll also see that for two random variables $X$ and $Y$, $E(X + Y) = E(X) + E(Y)$.\n",
    "\n",
    "Linearity is a very powerful property.  Using it can often make your solutions much cleaner.\n",
    "\n",
    "Say you want to find the expectation of a symmetric variable, $X$.  For example, here's a random variable that's symmetric around 5."
   ]
  },
  {
   "cell_type": "code",
   "execution_count": 15,
   "metadata": {},
   "outputs": [
    {
     "data": {
      "image/png": "[encoded data removed]",
      "text/plain": [
       "Plot with title “Pmf of a Discrete Random Variable”"
      ]
     },
     "metadata": {},
     "output_type": "display_data"
    }
   ],
   "source": [
    "options(repr.plot.width=4, repr.plot.height=3)\n",
    "plot(c(2,3,7,8),c(.2,.3,.3,.2),type=\"h\",col=2,main=\"Pmf of a Discrete Random Variable\",xlab=\"x\",ylab=\"p(x)\",ylim=c(0,.35))\n",
    "points(c(2,3,7,8),c(.2,.3,.3,.2),col=2)\n",
    "abline(h=0,col=3)\n",
    "abline(v=5,col=4, lty=3)"
   ]
  },
  {
   "cell_type": "markdown",
   "metadata": {},
   "source": [
    "$$E(x) = E(10-X)$$\n",
    "\n",
    "$$E(x) - 10-E(x)$$\n",
    "\n",
    "$$2E(x) = 10$$\n",
    "\n",
    "$$E(x) = 5$$\n"
   ]
  },
  {
   "cell_type": "code",
   "execution_count": null,
   "metadata": {},
   "outputs": [],
   "source": [
    "10*abs(1-.1*x)\n",
    "\n",
    "10-X"
   ]
  },
  {
   "cell_type": "markdown",
   "metadata": {},
   "source": [
    "To find the expectation, you could write the expectation as a sum in terms of the pmf, and then break the sum up into two sums... but it gets a bit messy.\n",
    "\n",
    "Instead, you can try to apply linearity.  First, think of a function, $f$, such that $f(X)$ is another random variable with the exact same pmf as $X$."
   ]
  },
  {
   "cell_type": "markdown",
   "metadata": {},
   "source": [
    "$E(aX+b) = aE(X)+b$"
   ]
  },
  {
   "cell_type": "code",
   "execution_count": null,
   "metadata": {},
   "outputs": [],
   "source": []
  },
  {
   "cell_type": "markdown",
   "metadata": {},
   "source": [
    "Now, write the equation that says that the expectation of $X$ and $f(X)$ are the same, and simplify it."
   ]
  },
  {
   "cell_type": "markdown",
   "metadata": {},
   "source": []
  },
  {
   "cell_type": "markdown",
   "metadata": {},
   "source": [
    "<h3>4 Simulation"
   ]
  },
  {
   "cell_type": "markdown",
   "metadata": {},
   "source": [
    "**4.1** In what ways are simulations useful to a data scientist?"
   ]
  },
  {
   "cell_type": "markdown",
   "metadata": {},
   "source": []
  },
  {
   "cell_type": "markdown",
   "metadata": {},
   "source": [
    "**4.2** A binomial variable can be used to model a set of independent trials.  Say that you have a coin that lands heads with probability $p$.  You flip the coin $n$ times.  A binomial variable with parameters $n$ and $p$ is defined as the number of heads out of the $n$ flips.\n",
    "\n",
    "Use R to simulate the $100$ flips for a coin with $p=.3$ and output the number of heads."
   ]
  },
  {
   "cell_type": "code",
   "execution_count": 68,
   "metadata": {},
   "outputs": [
    {
     "name": "stdout",
     "output_type": "stream",
     "text": [
      "[1] \"head count\"\n"
     ]
    },
    {
     "data": {
      "text/html": [
       "29"
      ],
      "text/latex": [
       "29"
      ],
      "text/markdown": [
       "29"
      ],
      "text/plain": [
       "[1] 29"
      ]
     },
     "metadata": {},
     "output_type": "display_data"
    }
   ],
   "source": [
    "p=.3\n",
    "outcomes=c(1,0)\n",
    "n=100\n",
    "\n",
    "x=sample(outcomes, size=n, replace=T, prob=c(p, 1-p))\n",
    "print('head count')\n",
    "head_count=sum(x)\n",
    "head_count"
   ]
  },
  {
   "cell_type": "markdown",
   "metadata": {},
   "source": [
    "**4.3** You have just taken a single draw from your random variable.  If you want to see what the distribution of your variable looks like, one idea is to simulate many draws.\n",
    "\n",
    "Use R to repeat the simulation 1000 times and store the value of the random variable each time.  Plot a histogram of your result.\n",
    "\n",
    "You may want to use the replicate function, which is shown below."
   ]
  },
  {
   "cell_type": "code",
   "execution_count": 17,
   "metadata": {},
   "outputs": [
    {
     "data": {
      "text/html": [
       "<ol class=list-inline>\n",
       "\t<li>'T'</li>\n",
       "\t<li>'H'</li>\n",
       "\t<li>'T'</li>\n",
       "\t<li>'H'</li>\n",
       "\t<li>'T'</li>\n",
       "\t<li>'H'</li>\n",
       "\t<li>'T'</li>\n",
       "\t<li>'H'</li>\n",
       "\t<li>'T'</li>\n",
       "\t<li>'T'</li>\n",
       "</ol>\n"
      ],
      "text/latex": [
       "\\begin{enumerate*}\n",
       "\\item 'T'\n",
       "\\item 'H'\n",
       "\\item 'T'\n",
       "\\item 'H'\n",
       "\\item 'T'\n",
       "\\item 'H'\n",
       "\\item 'T'\n",
       "\\item 'H'\n",
       "\\item 'T'\n",
       "\\item 'T'\n",
       "\\end{enumerate*}\n"
      ],
      "text/markdown": [
       "1. 'T'\n",
       "2. 'H'\n",
       "3. 'T'\n",
       "4. 'H'\n",
       "5. 'T'\n",
       "6. 'H'\n",
       "7. 'T'\n",
       "8. 'H'\n",
       "9. 'T'\n",
       "10. 'T'\n",
       "\n",
       "\n"
      ],
      "text/plain": [
       " [1] \"T\" \"H\" \"T\" \"H\" \"T\" \"H\" \"T\" \"H\" \"T\" \"T\""
      ]
     },
     "metadata": {},
     "output_type": "display_data"
    }
   ],
   "source": [
    "replicate(10, sample(c(\"H\",\"T\"),1))"
   ]
  },
  {
   "cell_type": "markdown",
   "metadata": {},
   "source": [
    "**4.4** In this case, you could have also used R's dbinom to get the exact distribution you want:"
   ]
  },
  {
   "cell_type": "code",
   "execution_count": 72,
   "metadata": {},
   "outputs": [
    {
     "data": {
      "image/png": "[encoded data removed]",
      "text/plain": [
       "plot without title"
      ]
     },
     "metadata": {},
     "output_type": "display_data"
    }
   ],
   "source": [
    "x = seq(0,50,by=1)\n",
    "y = dbinom(x, size = 100,prob=.3)\n",
    "plot(x,y)"
   ]
  },
  {
   "cell_type": "markdown",
   "metadata": {},
   "source": [
    "Plot the above distribution.  What other famouse distribution does it remind you of?"
   ]
  },
  {
   "cell_type": "code",
   "execution_count": null,
   "metadata": {},
   "outputs": [],
   "source": [
    "This is generating a normal distribution, which is somewhat suprising since this"
   ]
  },
  {
   "cell_type": "raw",
   "metadata": {},
   "source": [
    "Central limit theorem"
   ]
  },
  {
   "cell_type": "markdown",
   "metadata": {},
   "source": [
    "**4.5** Since it was easy to get the exact distribution in this case, simulation wasn't really needed.  Give an example of a situation in which you really do need simulation to visualize a distribution."
   ]
  },
  {
   "cell_type": "code",
   "execution_count": null,
   "metadata": {},
   "outputs": [],
   "source": [
    "#when you don't have a lot of data and you resample from a current data set\n",
    "#when you don't have a sufficent amount of data, when you want to test against a th"
   ]
  }
 ],
 "metadata": {
  "kernelspec": {
   "display_name": "R",
   "language": "R",
   "name": "ir"
  },
  "language_info": {
   "codemirror_mode": "r",
   "file_extension": ".r",
   "mimetype": "text/x-r-source",
   "name": "R",
   "pygments_lexer": "r",
   "version": "3.5.1"
  },
  "varInspector": {
   "cols": {
    "lenName": 16,
    "lenType": 16,
    "lenVar": 40
   },
   "kernels_config": {
    "python": {
     "delete_cmd_postfix": "",
     "delete_cmd_prefix": "del ",
     "library": "var_list.py",
     "varRefreshCmd": "print(var_dic_list())"
    },
    "r": {
     "delete_cmd_postfix": ") ",
     "delete_cmd_prefix": "rm(",
     "library": "var_list.r",
     "varRefreshCmd": "cat(var_dic_list()) "
    }
   },
   "types_to_exclude": [
    "module",
    "function",
    "builtin_function_or_method",
    "instance",
    "_Feature"
   ],
   "window_display": false
  }
 },
 "nbformat": 4,
 "nbformat_minor": 2
}
