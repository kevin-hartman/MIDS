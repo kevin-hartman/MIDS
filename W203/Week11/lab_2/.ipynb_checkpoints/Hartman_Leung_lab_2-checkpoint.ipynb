{
 "cells": [
  {
   "cell_type": "markdown",
   "metadata": {
    "toc": true
   },
   "source": [
    "<h1>Table of Contents<span class=\"tocSkip\"></span></h1>\n",
    "<div class=\"toc\"><ul class=\"toc-item\"><li><span><a href=\"#Lab-2:-Comparing-Means\" data-toc-modified-id=\"Lab-2:-Comparing-Means-1\"><span class=\"toc-item-num\">1&nbsp;&nbsp;</span>Lab 2: Comparing Means</a></span><ul class=\"toc-item\"><li><span><a href=\"#w203-Statistics-for-Data-Science\" data-toc-modified-id=\"w203-Statistics-for-Data-Science-1.1\"><span class=\"toc-item-num\">1.1&nbsp;&nbsp;</span>w203 Statistics for Data Science</a></span></li><li><span><a href=\"#The-Data\" data-toc-modified-id=\"The-Data-1.2\"><span class=\"toc-item-num\">1.2&nbsp;&nbsp;</span>The Data</a></span></li><li><span><a href=\"#Assignment\" data-toc-modified-id=\"Assignment-1.3\"><span class=\"toc-item-num\">1.3&nbsp;&nbsp;</span>Assignment</a></span></li><li><span><a href=\"#Submission-Guidelines\" data-toc-modified-id=\"Submission-Guidelines-1.4\"><span class=\"toc-item-num\">1.4&nbsp;&nbsp;</span>Submission Guidelines</a></span></li></ul></li><li><span><a href=\"#Research-Questions\" data-toc-modified-id=\"Research-Questions-2\"><span class=\"toc-item-num\">2&nbsp;&nbsp;</span>Research Questions</a></span><ul class=\"toc-item\"><li><span><a href=\"#Question-1:-Do-US-voters-have-more-respect-for-the-police-or-for-journalists?\" data-toc-modified-id=\"Question-1:-Do-US-voters-have-more-respect-for-the-police-or-for-journalists?-2.1\"><span class=\"toc-item-num\">2.1&nbsp;&nbsp;</span>Question 1: Do US voters have more respect for the police or for journalists?</a></span><ul class=\"toc-item\"><li><span><a href=\"#Introduce-your-topic-briefly.--(5-points)\" data-toc-modified-id=\"Introduce-your-topic-briefly.--(5-points)-2.1.1\"><span class=\"toc-item-num\">2.1.1&nbsp;&nbsp;</span>Introduce your topic briefly.  (5 points)</a></span></li><li><span><a href=\"#Perform-an-exploratory-data-analysis-(EDA)-of-the-relevant-variables.-(5-points)\" data-toc-modified-id=\"Perform-an-exploratory-data-analysis-(EDA)-of-the-relevant-variables.-(5-points)-2.1.2\"><span class=\"toc-item-num\">2.1.2&nbsp;&nbsp;</span>Perform an exploratory data analysis (EDA) of the relevant variables. (5 points)</a></span></li><li><span><a href=\"#Based-on-your-EDA,-select-an-appropriate-hypothesis-test.--(5-points)\" data-toc-modified-id=\"Based-on-your-EDA,-select-an-appropriate-hypothesis-test.--(5-points)-2.1.3\"><span class=\"toc-item-num\">2.1.3&nbsp;&nbsp;</span>Based on your EDA, select an appropriate hypothesis test.  (5 points)</a></span></li><li><span><a href=\"#Conduct-your-test.-(5-points)\" data-toc-modified-id=\"Conduct-your-test.-(5-points)-2.1.4\"><span class=\"toc-item-num\">2.1.4&nbsp;&nbsp;</span>Conduct your test. (5 points)</a></span></li></ul></li><li><span><a href=\"#Question-2:-Are-Republican-voters-older-or-younger-than-Democratic-voters?\" data-toc-modified-id=\"Question-2:-Are-Republican-voters-older-or-younger-than-Democratic-voters?-2.2\"><span class=\"toc-item-num\">2.2&nbsp;&nbsp;</span>Question 2: Are Republican voters older or younger than Democratic voters?</a></span><ul class=\"toc-item\"><li><span><a href=\"#Introduce-your-topic-briefly.--(5-points)\" data-toc-modified-id=\"Introduce-your-topic-briefly.--(5-points)-2.2.1\"><span class=\"toc-item-num\">2.2.1&nbsp;&nbsp;</span>Introduce your topic briefly.  (5 points)</a></span></li><li><span><a href=\"#Perform-an-exploratory-data-analysis-(EDA)-of-the-relevant-variables.-(5-points)\" data-toc-modified-id=\"Perform-an-exploratory-data-analysis-(EDA)-of-the-relevant-variables.-(5-points)-2.2.2\"><span class=\"toc-item-num\">2.2.2&nbsp;&nbsp;</span>Perform an exploratory data analysis (EDA) of the relevant variables. (5 points)</a></span></li><li><span><a href=\"#Based-on-your-EDA,-select-an-appropriate-hypothesis-test.--(5-points)\" data-toc-modified-id=\"Based-on-your-EDA,-select-an-appropriate-hypothesis-test.--(5-points)-2.2.3\"><span class=\"toc-item-num\">2.2.3&nbsp;&nbsp;</span>Based on your EDA, select an appropriate hypothesis test.  (5 points)</a></span></li><li><span><a href=\"#Conduct-your-test.-(5-points)\" data-toc-modified-id=\"Conduct-your-test.-(5-points)-2.2.4\"><span class=\"toc-item-num\">2.2.4&nbsp;&nbsp;</span>Conduct your test. (5 points)</a></span></li></ul></li><li><span><a href=\"#Question-3:-Do-a-majority-of-independent-voters-believe-that-the-federal-investigations-of-Russian-election-interference-are-baseless?\" data-toc-modified-id=\"Question-3:-Do-a-majority-of-independent-voters-believe-that-the-federal-investigations-of-Russian-election-interference-are-baseless?-2.3\"><span class=\"toc-item-num\">2.3&nbsp;&nbsp;</span>Question 3: Do a majority of independent voters believe that the federal investigations of Russian election interference are baseless?</a></span><ul class=\"toc-item\"><li><span><a href=\"#Introduce-your-topic-briefly.--(5-points)\" data-toc-modified-id=\"Introduce-your-topic-briefly.--(5-points)-2.3.1\"><span class=\"toc-item-num\">2.3.1&nbsp;&nbsp;</span>Introduce your topic briefly.  (5 points)</a></span></li><li><span><a href=\"#Perform-an-exploratory-data-analysis-(EDA)-of-the-relevant-variables.-(5-points)\" data-toc-modified-id=\"Perform-an-exploratory-data-analysis-(EDA)-of-the-relevant-variables.-(5-points)-2.3.2\"><span class=\"toc-item-num\">2.3.2&nbsp;&nbsp;</span>Perform an exploratory data analysis (EDA) of the relevant variables. (5 points)</a></span></li><li><span><a href=\"#Based-on-your-EDA,-select-an-appropriate-hypothesis-test.--(5-points)\" data-toc-modified-id=\"Based-on-your-EDA,-select-an-appropriate-hypothesis-test.--(5-points)-2.3.3\"><span class=\"toc-item-num\">2.3.3&nbsp;&nbsp;</span>Based on your EDA, select an appropriate hypothesis test.  (5 points)</a></span></li><li><span><a href=\"#Conduct-your-test.-(5-points)\" data-toc-modified-id=\"Conduct-your-test.-(5-points)-2.3.4\"><span class=\"toc-item-num\">2.3.4&nbsp;&nbsp;</span>Conduct your test. (5 points)</a></span></li></ul></li><li><span><a href=\"#Question-4:-Was-anger-or-fear-more-effective-at-driving-increases-in-voter-turnout-from-2016-to-2018?\" data-toc-modified-id=\"Question-4:-Was-anger-or-fear-more-effective-at-driving-increases-in-voter-turnout-from-2016-to-2018?-2.4\"><span class=\"toc-item-num\">2.4&nbsp;&nbsp;</span>Question 4: Was anger or fear more effective at driving increases in voter turnout from 2016 to 2018?</a></span><ul class=\"toc-item\"><li><span><a href=\"#Introduce-your-topic-briefly.--(5-points)\" data-toc-modified-id=\"Introduce-your-topic-briefly.--(5-points)-2.4.1\"><span class=\"toc-item-num\">2.4.1&nbsp;&nbsp;</span>Introduce your topic briefly.  (5 points)</a></span></li><li><span><a href=\"#Perform-an-exploratory-data-analysis-(EDA)-of-the-relevant-variables.-(5-points)\" data-toc-modified-id=\"Perform-an-exploratory-data-analysis-(EDA)-of-the-relevant-variables.-(5-points)-2.4.2\"><span class=\"toc-item-num\">2.4.2&nbsp;&nbsp;</span>Perform an exploratory data analysis (EDA) of the relevant variables. (5 points)</a></span></li><li><span><a href=\"#Based-on-your-EDA,-select-an-appropriate-hypothesis-test.--(5-points)\" data-toc-modified-id=\"Based-on-your-EDA,-select-an-appropriate-hypothesis-test.--(5-points)-2.4.3\"><span class=\"toc-item-num\">2.4.3&nbsp;&nbsp;</span>Based on your EDA, select an appropriate hypothesis test.  (5 points)</a></span></li><li><span><a href=\"#Conduct-your-test.-(5-points)\" data-toc-modified-id=\"Conduct-your-test.-(5-points)-2.4.4\"><span class=\"toc-item-num\">2.4.4&nbsp;&nbsp;</span>Conduct your test. (5 points)</a></span></li></ul></li><li><span><a href=\"#Question-5:-Select-a-fifth-question-that-you-believe-is-important-for-understanding-the-behavior-of-voters\" data-toc-modified-id=\"Question-5:-Select-a-fifth-question-that-you-believe-is-important-for-understanding-the-behavior-of-voters-2.5\"><span class=\"toc-item-num\">2.5&nbsp;&nbsp;</span>Question 5: Select a fifth question that you believe is important for understanding the behavior of voters</a></span><ul class=\"toc-item\"><li><span><a href=\"#Clearly-argue-for-the-relevance-of-this-question.--(10-points)\" data-toc-modified-id=\"Clearly-argue-for-the-relevance-of-this-question.--(10-points)-2.5.1\"><span class=\"toc-item-num\">2.5.1&nbsp;&nbsp;</span>Clearly argue for the relevance of this question.  (10 points)</a></span></li><li><span><a href=\"#Perform-EDA-and-select-your-hypothesis-test-(5-points)\" data-toc-modified-id=\"Perform-EDA-and-select-your-hypothesis-test-(5-points)-2.5.2\"><span class=\"toc-item-num\">2.5.2&nbsp;&nbsp;</span>Perform EDA and select your hypothesis test (5 points)</a></span></li><li><span><a href=\"#Conduct-your-test.-(2-points)\" data-toc-modified-id=\"Conduct-your-test.-(2-points)-2.5.3\"><span class=\"toc-item-num\">2.5.3&nbsp;&nbsp;</span>Conduct your test. (2 points)</a></span></li><li><span><a href=\"#Conclusion-(3-points)\" data-toc-modified-id=\"Conclusion-(3-points)-2.5.4\"><span class=\"toc-item-num\">2.5.4&nbsp;&nbsp;</span>Conclusion (3 points)</a></span></li></ul></li></ul></li></ul></div>"
   ]
  },
  {
   "cell_type": "markdown",
   "metadata": {},
   "source": [
    "# Lab 2: Comparing Means\n",
    "## w203 Statistics for Data Science\n",
    "\n",
    "## The Data\n",
    "\n",
    "The American National Election Studies (ANES) conducts surveys of voters in the United States.  While its flagship survey occurs every four years at the time of each presidential election, ANES also conducts pilot studies midway between these elections.  You are provided with data from the 2018 ANES Pilot Study.\n",
    "\n",
    "An important disclaimer is that the ANES Pilot Study does not represent a random sample of the U.S. population.  Participants are taken from the YouGov panel, which is an online system in which users earn rewards for completing questionnaires.  This feature limits the extent to which results generalize to the U.S. population.\n",
    "\n",
    "To account for differences between the YouGov panel and the U.S. Population, ANES assigns a survey weight to each observation.  This weight estimates the degree to which a citizen with certain observed characteristics is over- or under-represented in the sample.  For the purposes of this assignment, however, you are not asked to use the survey weights.  Instead, you should view your analysis as pertaining to the population of YouGov participants.  (For groups with a strong interest in survey analysis, we recommend that you read about R's [survey package](http://r-survey.r-forge.r-project.org/survey/).  We will assign a very small number of bonus points (up to 3) to any group that correctly applies the survey weights and includes a clear explanation of how these work).\n",
    "\n",
    "For a glimpse into some of the intricacies that go into the design of this study, take a look at the introduction to the [ANES User's Guide and Codebook](https://electionstudies.org/wp-content/uploads/2019/02/anes_pilot_2018_userguidecodebook.pdf)."
   ]
  },
  {
   "cell_type": "code",
   "execution_count": 3,
   "metadata": {},
   "outputs": [],
   "source": [
    "A = read.csv(\"anes_pilot_2018.csv\")"
   ]
  },
  {
   "cell_type": "markdown",
   "metadata": {},
   "source": [
    "Following is an example of a question asked on the ANES survey:\n",
    "\n",
    "> How difficult was it for you to vote in this last election?\n",
    "\n",
    "The variable `votehard` records answers to this question, with the following encoding:\n",
    "\n",
    "- -1 inapplicable, legitimate skip\n",
    "- 1 Not difficult at all\n",
    "- 2 A little difficult\n",
    "- 3 Moderately difficult\n",
    "- 4 Very difficult\n",
    "- 5 Extremely difficult\n",
    "\n",
    "\n",
    "To see the precise form of each question, take a look at the [Questionnaire Specifications](https://electionstudies.org/wp-content/uploads/2018/12/anes_pilot_2018_questionnaire.pdf)."
   ]
  },
  {
   "cell_type": "markdown",
   "metadata": {},
   "source": [
    "## Assignment\n",
    "\n",
    "You will use the ANES dataset to address five research questions.  For each question, you will need to operationalize the concepts (selecting appropriate variables and possibly transforming them), conduct exploratory analysis, deal with non-response and other special codes, perform sanity checks, select an appropriate hypothesis test, conduct the test, and interpret your results.  When selecting a hypothesis test, you may choose from the tests covered in the async, including both paired and unpaired t-tests, as well as their nonparametric analogues.  You may select a one-tailed or two-tailed test. \n",
    "\n",
    "Please organize your response according to the prompts in this notebook.\n",
    "\n",
    "Note that this is a group lab.  There is a **maximum of three students per team.** You are free to form a group of your choice amongst the students in your live section.\n",
    "Although you may work on your own, we do not recommend this (we have found that individuals tend to do worse than teams on past labs).\n",
    "\n",
    "Please limit your submission to 15 pages in total.  This means that you will have to carefully prioritize which visualizations to include.\n",
    "\n",
    "**Hint:** When answering questions about the potential gaps between conceptual and operational definitions it is often helpful to ask yourself \"If I could do anything I wanted, including borrowing Rick's portal gun, or doing an FMRI scan on all survey takers, to operationalize this particular concept how would I do it\" and then explain how that is different than what is actually measured.   "
   ]
  },
  {
   "cell_type": "markdown",
   "metadata": {},
   "source": [
    "## Submission Guidelines\n",
    "- Submit _one_ report per group.\n",
    "- Submit *both* your pdf report as well as your source file.\n",
    "- **Only analyses and comments included in your PDF report will be considered for grading.**\n",
    "- Include names of group members on the front page of the submitted report.\n",
    "- Naming structure of submitted files:\n",
    "    - PDF report: [student_surname_1]\\_[student_surname_2][\\_*]\\_lab\\_2.pdf\n",
    "    - Jupyter Notebook: [student_surname_1]\\_[student_surname_2][\\_*]\\_lab\\_2.ipynb\n",
    "\n"
   ]
  },
  {
   "cell_type": "code",
   "execution_count": 4,
   "metadata": {},
   "outputs": [
    {
     "name": "stderr",
     "output_type": "stream",
     "text": [
      "Loading required package: grid\n",
      "Loading required package: Matrix\n",
      "\n",
      "Attaching package: ‘survey’\n",
      "\n",
      "The following object is masked from ‘package:graphics’:\n",
      "\n",
      "    dotchart\n",
      "\n"
     ]
    }
   ],
   "source": [
    "library(survey)"
   ]
  },
  {
   "cell_type": "markdown",
   "metadata": {},
   "source": [
    "We will use the survey package to apply weights to our sample. Why apply weights?\n",
    "\n",
    "Raw survey data tends to underpresent certain groups that weren't collected in the study. For example, in the US population we know there are roughly 49.2% men and 50.8% women, and we know that 9.9% of the population makes up the age group from 18-24, and we know certain percentages of the population are black, hispanic, white, etc. When the information in the sample doesn't match the population estimates we can increase the weight of underrepresented popuplations and lower the weight of the overrepresented. This process of calculating weights to more appropriately represent the population is called raking. ANES provides the weight vector as a result of conducting the rake process over the data set."
   ]
  },
  {
   "cell_type": "code",
   "execution_count": null,
   "metadata": {},
   "outputs": [],
   "source": [
    "\n",
    "library(dplyr)\n",
    "library(ggplot2)\n",
    "\n"
   ]
  },
  {
   "cell_type": "code",
   "execution_count": null,
   "metadata": {},
   "outputs": [],
   "source": [
    "\n",
    "#Recode the inputstate based on the errata https://electionstudies.org/2018-pilot-study-updates-errata/\n",
    "A$inputstate[A$inputstate==-1] <-9\n",
    "A$inputstate[A$inputstate==-7] <-8\n",
    "#Recode all Don't Know (DK) answers to NA\n",
    "A[A==-7] <- NA\n",
    "#Recode all legitimate skips to NA\n",
    "A[A==-1] <- NA\n",
    "#Remove the excedingly large thermometer collection error since > 100 is not allowed\n",
    "A[A==997] <- NA"
   ]
  },
  {
   "cell_type": "code",
   "execution_count": null,
   "metadata": {},
   "outputs": [],
   "source": [
    "anes_design = svydesign(ids = ~1, data=A, weights = ~weight)\n",
    "\n",
    "anes_design <- \n",
    "    update( \n",
    "        anes_design , \n",
    "        \n",
    "        one = 1,\n",
    "        \n",
    "        police_ftemp = ifelse( ftpolice %in% 0:100 , ftpolice , NA ) ,\n",
    "        \n",
    "        journalist_ftemp = ifelse( ftjournal %in% 0:100, ftjournal , NA ) ,\n",
    "\n",
    "        trump_ftemp = ifelse( fttrump %in% 0:100, fttrump , NA ) ,\n",
    "\n",
    "        obama_ftemp = ifelse( ftobama %in% 0:100, ftobama , NA ) ,\n",
    "\n",
    "        hillary_ftemp = ifelse( fthrc %in% 0:100, ftobama , NA ) ,\n",
    "\n",
    "        mueller_ftemp = ifelse( ftmueller %in% 0:100, ftobama , NA ) ,\n",
    "        \n",
    "        fbi_ftemp = ifelse( ftfbi %in% 0:100, ftobama , NA ) ,\n",
    "\n",
    "        registered_voter = ifelse( reg %in% 1:3 , as.numeric( reg %in% 1:2 ) , NA ) ,\n",
    "        \n",
    "        angry_person = ifelse( geangry %in% 1:5 , geangry , NA ) ,\n",
    "        \n",
    "        angry_from_trump = ifelse( dtangry %in% 1:5 , dtangry , NA ) ,\n",
    "\n",
    "        fearful_person = ifelse( geafraid %in% 1:5 , geafraid , NA ) ,  \n",
    "\n",
    "        fearful_from_trump = ifelse( dtafraid %in% 1:5 , dtafraid , NA ) , \n",
    "\n",
    "        voted_in_16 = ifelse( turnout16 %in% 1:3 , ifelse(turnout16 == 3, as.numeric(turnout16b==1), as.numeric( turnout16 == 1 )) , NA ) ,\n",
    "        \n",
    "        voted_in_18 = ifelse( turnout18 %in% 1:5 , ifelse(turnout18 == 5, as.numeric(turnout18ns==1), as.numeric( turnout18 %in% 1:3 )) , NA ) ,\n",
    "        \n",
    "        will_vote_in_20 = ifelse( percent20 %in% 0:100, as.numeric( percent20 %in% 51:100 ) , NA ) ,\n",
    "        \n",
    "        corruption_after_trump = ifelse( corrupt_dt %in% 1:5 , corrupt_dt , NA ) , \n",
    "        \n",
    "        party_iden = case_when (\n",
    "            (pid1d == 1 | pid1r == 1) & pidstr == 1 ~ 1, #Strong Democrat\n",
    "            (pid1d == 1 | pid1r == 1) & (pidstr == 2 | pidstr == 0) ~ 2, #Not very strong Democrat\n",
    "            (pid1d == 4 | pid1r == 4) & (pidlean == 2) ~ 3, #Something else, closer to Democrat\n",
    "            (pid1d == 4 | pid1r == 4) & (pidlean == 1) ~ 7, #Something else, closer to Republican\n",
    "            (pid1d == 2 | pid1r == 2) & (pidstr == 2 | pidstr == 0) ~ 8, #Not very strong Republican\n",
    "            (pid1d == 2 | pid1r == 2) & pidstr == 1 ~ 9, #Strong Republican\n",
    "            (pidlean == 2) ~ 4, #Indep, Closer to Democratic Party\n",
    "            (pidlean == 3) | ((pid1d == 3 | pid1r == 3) & pidlean == 0) ~ 5, #Independent\n",
    "            (pidlean == 1) ~ 6, #Indep, Closer to Republican Party\n",
    "            TRUE ~ 0, \n",
    "        ),\n",
    "        \n",
    "        voter_police_ftemp = ifelse(registered_voter == 1, police_ftemp, NA),\n",
    "        \n",
    "        voter_journalist_ftemp = ifelse(registered_voter == 1 , journalist_ftemp, NA),\n",
    "        \n",
    "        non_voter_police_ftemp = ifelse(registered_voter == 0, police_ftemp, NA),\n",
    "        \n",
    "        non_voter_journalist_ftemp = ifelse(registered_voter == 0 , journalist_ftemp, NA),\n",
    "        \n",
    "#        voter_police_lik = cut(voter_police_ftemp,\n",
    "#                               breaks = c(0, 12, 25, 40, 55, 70, 85, 100),\n",
    "#                               label = c(\"Freezing\", \"Cold\", \"Cool\", \"Mild\", \"Warm\", \"Hot\", \"Boiling\")),\n",
    "        \n",
    "        voter_police_lik = case_when (\n",
    "            voter_police_ftemp %in% 0:12  ~ 1, #Freezing\n",
    "            voter_police_ftemp %in% 13:25  ~ 2, #Cold\n",
    "            voter_police_ftemp %in% 26:40  ~ 3, #Cool\n",
    "            voter_police_ftemp %in% 41:55  ~ 4, #Mild\n",
    "            voter_police_ftemp %in% 56:70  ~ 5, #Warm\n",
    "            voter_police_ftemp %in% 71:85  ~ 6, #Hot\n",
    "            voter_police_ftemp %in% 86:100  ~ 7 #Boiling\n",
    "\n",
    "        ),\n",
    "\n",
    "        voter_journalist_lik = case_when (\n",
    "            voter_journalist_ftemp %in% 0:12  ~ 1, #Freezing\n",
    "            voter_journalist_ftemp %in% 13:25  ~ 2, #Cold\n",
    "            voter_journalist_ftemp %in% 26:40  ~ 3, #Cool\n",
    "            voter_journalist_ftemp %in% 41:55  ~ 4, #Mild\n",
    "            voter_journalist_ftemp %in% 56:70  ~ 5, #Warm\n",
    "            voter_journalist_ftemp %in% 71:85  ~ 6, #Hot\n",
    "            voter_journalist_ftemp %in% 86:100  ~ 7 #Boiling\n",
    "\n",
    "        ),\n",
    "\n",
    "        voter_police_cat =\n",
    "            factor( voter_police_lik , levels = 1:7 , labels =\n",
    "                c( 'Freezing',\n",
    "                    'Cold' ,\n",
    "                    'Cool' ,\n",
    "                    'Mild' ,\n",
    "                    'Warm' ,\n",
    "                    'Hot' ,\n",
    "                    'Boiling')\n",
    "            ),\n",
    "\n",
    "        voter_journalist_cat =\n",
    "            factor( voter_journalist_lik , levels = 1:7 , labels =\n",
    "                c( 'Freezing',\n",
    "                    'Cold' ,\n",
    "                    'Cool' ,\n",
    "                    'Mild' ,\n",
    "                    'Warm' ,\n",
    "                    'Hot' ,\n",
    "                    'Boiling')\n",
    "            ),\n",
    "\n",
    "        ideology =\n",
    "            factor( lcself , levels = 0:7 , labels =\n",
    "                c( 'No answer',\n",
    "                    'Very liberal' ,\n",
    "                    'Somewhat liberal' ,\n",
    "                    'Closer to liberals' ,\n",
    "                    'Neither liberal nor conservative' ,\n",
    "                    'Closer to conservatives' ,\n",
    "                    'Somewhat conservative' ,\n",
    "                    'Very Conservative')\n",
    "            ),\n",
    "        \n",
    "        \n",
    "        pres_vote_in_16 = \n",
    "            factor( vote16 , levels = 0:3 , labels =\n",
    "                c( 'No answer',\n",
    "                    'Donald Trump' ,\n",
    "                    'Hillary Clinton' ,\n",
    "                    'Other')\n",
    "            ),\n",
    "        \n",
    "        YG_party_iden =\n",
    "            factor( pid7x , levels = 0:7 , labels =\n",
    "                c( 'No answer',\n",
    "                    'Strong Dem' ,\n",
    "                    'Not very strong Dem' ,\n",
    "                    'Ind, closer to Dem' ,\n",
    "                    'Independent' ,\n",
    "                    'Ind, closer to Rep' ,\n",
    "                    'Not very strong Rep',\n",
    "                    'Strong Rep')\n",
    "            ),\n",
    "        \n",
    "        YG_ideology =\n",
    "            factor( ideo5 , levels = 0:6 , labels =\n",
    "                c( 'No answer',\n",
    "                    'Very liberal' ,\n",
    "                    'Liberal' ,\n",
    "                    'Moderate' ,\n",
    "                    'Conservative' ,\n",
    "                    'Very Conservative' ,\n",
    "                    'Not sure')\n",
    "            ),\n",
    "        YG_pres_vote_in_16 =\n",
    "            factor( presvote16post , levels = 0:7 , labels =\n",
    "                c( 'No answer',\n",
    "                    'Hillary Clinton' ,\n",
    "                    'Donald Trump' ,\n",
    "                    'Gary Johnson' ,\n",
    "                    'Jill Stein' ,\n",
    "                    'Evan McMullin' ,\n",
    "                    'Other' ,\n",
    "                    'Did not vote for President')\n",
    "            )\n",
    ")\n"
   ]
  },
  {
   "cell_type": "code",
   "execution_count": null,
   "metadata": {},
   "outputs": [],
   "source": []
  },
  {
   "cell_type": "code",
   "execution_count": null,
   "metadata": {},
   "outputs": [],
   "source": [
    "summary(A$ftjournal)\n",
    "summary(A$ftpolice)"
   ]
  },
  {
   "cell_type": "code",
   "execution_count": null,
   "metadata": {},
   "outputs": [],
   "source": [
    "ggplot(data = A, mapping = aes(x = ftpolice)) +\n",
    "    geom_histogram(bins=100) +\n",
    "scale_x_continuous(breaks = seq(1, 100, by=3))"
   ]
  },
  {
   "cell_type": "code",
   "execution_count": null,
   "metadata": {},
   "outputs": [],
   "source": [
    "tab_totals <- svytotal(x = ~ voter_police_ftemp,\n",
    "                     design = anes_design,\n",
    "                     na.rm = TRUE)\n",
    "tab_totals\n",
    "\n",
    "tab_means <- svymean(x = ~ voter_police_ftemp,\n",
    "                     design = anes_design,\n",
    "                     na.rm = TRUE)\n",
    "tab_means"
   ]
  },
  {
   "cell_type": "code",
   "execution_count": null,
   "metadata": {},
   "outputs": [],
   "source": [
    "svytable(~voter_police_cat, anes_design)"
   ]
  },
  {
   "cell_type": "code",
   "execution_count": null,
   "metadata": {},
   "outputs": [],
   "source": [
    "svyby(~one, ~voter_police_cat, anes_design, svytotal)"
   ]
  },
  {
   "cell_type": "code",
   "execution_count": null,
   "metadata": {},
   "outputs": [],
   "source": [
    "sum( weights( anes_design , \"sampling\" ) != 0 )\n",
    "svyby( ~ one , ~ registered_voter , anes_design , unwtd.count )"
   ]
  },
  {
   "cell_type": "code",
   "execution_count": null,
   "metadata": {},
   "outputs": [],
   "source": [
    "svyby( ~ pres_vote_in_16, ~ registered_voter, anes_design , unwtd.count)"
   ]
  },
  {
   "cell_type": "code",
   "execution_count": null,
   "metadata": {},
   "outputs": [],
   "source": [
    "svyby( ~ one, ~ pres_vote_in_16, anes_design , svytotal, na.rm = TRUE)\n",
    "\n",
    "#svytotal, na.rm = TRUE"
   ]
  },
  {
   "cell_type": "code",
   "execution_count": null,
   "metadata": {},
   "outputs": [],
   "source": [
    "svyby( ~ one, ~ pres_vote_in_16, anes_design , unwtd.count)"
   ]
  },
  {
   "cell_type": "code",
   "execution_count": null,
   "metadata": {},
   "outputs": [],
   "source": [
    "svyby( ~ registered_voter, ~ pres_vote_in_16, anes_design , svytotal, na.rm=TRUE)"
   ]
  },
  {
   "cell_type": "code",
   "execution_count": null,
   "metadata": {},
   "outputs": [],
   "source": [
    "tab_JP <- svytable(~voter_journalist_ftemp+voter_police_ftemp, anes_design)\n",
    "#tab_JP\n",
    "\n",
    "tab_JP_cond <- tab_JP %>% as.data.frame() %>% group_by(voter_journalist_ftemp) %>% mutate(n_journalist_ftemp = sum(Freq), Prop_police_ftemp = Freq/n_journalist_ftemp) %>% ungroup()\n",
    "#tab_JP_cond"
   ]
  },
  {
   "cell_type": "code",
   "execution_count": null,
   "metadata": {},
   "outputs": [],
   "source": [
    "ggplot(data = tab_JP_cond,\n",
    "       mapping = aes(x = voter_journalist_ftemp, y = voter_police_ftemp, fill = Prop_police_ftemp)) + \n",
    "  geom_tile()+ \n",
    "  coord_flip()"
   ]
  },
  {
   "cell_type": "code",
   "execution_count": null,
   "metadata": {},
   "outputs": [],
   "source": [
    "ggplot(data = tab_JP_cond,\n",
    "       mapping = aes(x = voter_journalist_ftemp, y = Prop_police_ftemp, fill = voter_police_ftemp)) + \n",
    "  geom_col()+ \n",
    "  coord_flip()"
   ]
  },
  {
   "cell_type": "code",
   "execution_count": null,
   "metadata": {},
   "outputs": [],
   "source": []
  },
  {
   "cell_type": "code",
   "execution_count": null,
   "metadata": {},
   "outputs": [],
   "source": [
    "#tab_totals <- svytotal(x = ~interaction(journalist_ftemp, police_ftemp),\n",
    "                     design = anes_design,\n",
    "                     na.rm = TRUE)\n",
    "tab_totals"
   ]
  },
  {
   "cell_type": "code",
   "execution_count": null,
   "metadata": {},
   "outputs": [],
   "source": [
    "#tab_means <- svymean(x = ~interaction(journalist_ftemp, police_ftemp),\n",
    "                     design = anes_design,\n",
    "                     na.rm = TRUE)\n",
    "tab_means"
   ]
  },
  {
   "cell_type": "code",
   "execution_count": null,
   "metadata": {},
   "outputs": [],
   "source": [
    "#svychisq(~journalist_ftemp + police_ftemp, \n",
    "         design = anes_design, \n",
    "         statistic = \"Chisq\")"
   ]
  },
  {
   "cell_type": "code",
   "execution_count": null,
   "metadata": {},
   "outputs": [],
   "source": [
    "tab_means <- svymean(x = ~interaction(party_iden, voter_police_ftemp),\n",
    "                     design = anes_design,\n",
    "                     na.rm = TRUE)\n",
    "tab_means"
   ]
  },
  {
   "cell_type": "code",
   "execution_count": null,
   "metadata": {},
   "outputs": [],
   "source": []
  },
  {
   "cell_type": "code",
   "execution_count": null,
   "metadata": {},
   "outputs": [],
   "source": [
    "svyquantile(x = ~voter_police_ftemp, \n",
    "            design = anes_design, \n",
    "            na.rm = TRUE, \n",
    "            quantiles = c(0.01, .25, .5, .75, .99))"
   ]
  },
  {
   "cell_type": "code",
   "execution_count": null,
   "metadata": {},
   "outputs": [],
   "source": [
    "svyquantile(x = ~voter_journalist_ftemp, \n",
    "            design = anes_design, \n",
    "            na.rm = TRUE, \n",
    "            quantiles = c(0.01, .25, .5, .75, .99))"
   ]
  },
  {
   "cell_type": "code",
   "execution_count": null,
   "metadata": {},
   "outputs": [],
   "source": [
    "ob<-svymean(~voter_police_ftemp, anes_design, na.rm=TRUE)\n",
    "ob\n",
    "confint(ob)\n",
    "ob<-svymean(~voter_journalist_ftemp, anes_design, na.rm=TRUE)\n",
    "ob\n",
    "confint(ob)"
   ]
  },
  {
   "cell_type": "code",
   "execution_count": null,
   "metadata": {},
   "outputs": [],
   "source": [
    "ob<-svymean(~non_voter_police_ftemp, anes_design, na.rm=TRUE)\n",
    "ob\n",
    "confint(ob)\n",
    "ob<-svymean(~non_voter_journalist_ftemp, anes_design, na.rm=TRUE)\n",
    "ob\n",
    "confint(ob)"
   ]
  },
  {
   "cell_type": "code",
   "execution_count": null,
   "metadata": {},
   "outputs": [],
   "source": [
    "ob<-svymean(~police_ftemp, anes_design, na.rm=TRUE)\n",
    "ob\n",
    "confint(ob)\n",
    "ob<-svymean(~journalist_ftemp, anes_design, na.rm=TRUE)\n",
    "ob\n",
    "confint(ob)"
   ]
  },
  {
   "cell_type": "code",
   "execution_count": null,
   "metadata": {},
   "outputs": [],
   "source": [
    "svyboxplot(police_ftemp~one, anes_design)\n",
    "svyboxplot(journalist_ftemp~one, anes_design)\n",
    "\n",
    "svyboxplot(voter_police_ftemp~0, anes_design, all.outliers=TRUE, main=\"Concentration of thermometer readings for Police\")\n",
    "svyboxplot(voter_journalist_ftemp~0, anes_design, all.outliers=TRUE, main=\"Concentration of thermometer readings for Journalists\")\n"
   ]
  },
  {
   "cell_type": "code",
   "execution_count": null,
   "metadata": {},
   "outputs": [],
   "source": [
    "tab_JP <- svytable(~voter_journalist_ftemp-voter_police_ftemp, anes_design)\n",
    "tab_JP"
   ]
  },
  {
   "cell_type": "code",
   "execution_count": null,
   "metadata": {},
   "outputs": [],
   "source": []
  },
  {
   "cell_type": "code",
   "execution_count": null,
   "metadata": {},
   "outputs": [],
   "source": [
    "svyby( ~trump_ftemp, ~ party_iden, anes_design, svymean, na.rm=TRUE)"
   ]
  },
  {
   "cell_type": "code",
   "execution_count": null,
   "metadata": {},
   "outputs": [],
   "source": [
    "svyby( ~voter_journalist_ftemp, ~ ideology, anes_design, svymean, na.rm=TRUE)"
   ]
  },
  {
   "cell_type": "code",
   "execution_count": null,
   "metadata": {},
   "outputs": [],
   "source": [
    "svyhist(~voter_journalist_ftemp, anes_design, breaks=100)"
   ]
  },
  {
   "cell_type": "code",
   "execution_count": null,
   "metadata": {},
   "outputs": [],
   "source": [
    "svyhist(~voter_police_ftemp, anes_design, breaks=100)"
   ]
  },
  {
   "cell_type": "code",
   "execution_count": null,
   "metadata": {},
   "outputs": [],
   "source": [
    "svyplot(voter_police_ftemp~voter_journalist_ftemp, design=anes_design, style=\"hex\", xlab=\"Police\", ylab=\"Journalists\", main=\"Police vs. Journalists  Sample Density\")\n",
    "svyplot(non_voter_police_ftemp~non_voter_journalist_ftemp, design=anes_design, style=\"hex\", xlab=\"Police\", ylab=\"Journalists\", main=\"Police vs. Journalists  Sample Density\")"
   ]
  },
  {
   "cell_type": "code",
   "execution_count": null,
   "metadata": {},
   "outputs": [],
   "source": [
    "svyplot(police_ftemp~journalist_ftemp, design=anes_design, style=\"hex\", xlab=\"Police\", ylab=\"Journalists\", main=\"Police vs. Journalists  Sample Density\")"
   ]
  },
  {
   "cell_type": "code",
   "execution_count": null,
   "metadata": {},
   "outputs": [],
   "source": [
    "svycoplot(voter_police_ftemp~voter_journalist_ftemp, design=anes_design)\n",
    "#, style=\"hex\", xlab=\"Police\", ylab=\"Journalists\", main=\"Police vs. Journalists  Sample Density\")\n",
    "\n"
   ]
  },
  {
   "cell_type": "code",
   "execution_count": null,
   "metadata": {},
   "outputs": [],
   "source": [
    "svyboxplot(police_ftemp~registered_voter, anes_design)\n",
    "svyboxplot(journalist_ftemp~registered_voter, anes_design)"
   ]
  },
  {
   "cell_type": "code",
   "execution_count": null,
   "metadata": {},
   "outputs": [],
   "source": [
    "tt<-svyttest(voter_police_ftemp~one, anes_design)\n",
    "tt"
   ]
  },
  {
   "cell_type": "code",
   "execution_count": null,
   "metadata": {},
   "outputs": [],
   "source": [
    "tt<-svyttest(voter_police_ftemp ~ voter_journalist_ftemp, anes_design)\n",
    "tt"
   ]
  },
  {
   "cell_type": "code",
   "execution_count": null,
   "metadata": {},
   "outputs": [],
   "source": [
    "tt<-svyttest(non_voter_police_ftemp ~ non_voter_journalist_ftemp, anes_design)\n",
    "tt"
   ]
  },
  {
   "cell_type": "code",
   "execution_count": null,
   "metadata": {},
   "outputs": [],
   "source": [
    "tt<-svyttest(police_ftemp ~ journalist_ftemp, anes_design)\n",
    "tt"
   ]
  },
  {
   "cell_type": "code",
   "execution_count": null,
   "metadata": {},
   "outputs": [],
   "source": []
  },
  {
   "cell_type": "code",
   "execution_count": null,
   "metadata": {},
   "outputs": [],
   "source": [
    "dfpolice <- svytable(~voter_police_ftemp, anes_design ) %>% as.data.frame() %>% mutate(Prop = Freq/sum(Freq))\n",
    "dfjournalist <- svytable(~voter_journalist_ftemp, anes_design ) %>% as.data.frame() %>% mutate(Prop = Freq/sum(Freq))\n",
    "dfp<-data.frame(ftemp=as.numeric(dfpolice$voter_police_ftemp)-1, tempFreq=dfpolice$Freq)\n",
    "dfj<-data.frame(ftemp=as.numeric(dfjournalist$voter_journalist_ftemp)-1, tempFreq=dfjournalist$Freq)\n",
    "dfp$category<-'police'\n",
    "dfj$category<-'journalists'\n",
    "dfvotertherm<-rbind(dfp,dfj)\n",
    "ggplot(dfvotertherm, aes(x = ftemp, weight=tempFreq, fill = category)) + \n",
    "  geom_histogram(position=\"identity\", alpha=0.5, bins=30) +\n",
    "  labs(title=\"Thermometer Readings for Registered Voters\", x=\"Temperature\", y=\"Number of Voters\")"
   ]
  },
  {
   "cell_type": "code",
   "execution_count": null,
   "metadata": {},
   "outputs": [],
   "source": [
    "\n"
   ]
  },
  {
   "cell_type": "code",
   "execution_count": null,
   "metadata": {},
   "outputs": [],
   "source": [
    "adfpolice <- svytable(~police_ftemp, anes_design ) %>% as.data.frame() %>% mutate(Prop = Freq/sum(Freq))\n",
    "adfjournalist <- svytable(~journalist_ftemp, anes_design ) %>% as.data.frame() %>% mutate(Prop = Freq/sum(Freq))\n",
    "adfp<-data.frame(ftemp=as.numeric(adfpolice$police_ftemp)-1, tempFreq=adfpolice$Freq)\n",
    "adfj<-data.frame(ftemp=as.numeric(adfjournalist$journalist_ftemp)-1, tempFreq=adfjournalist$Freq)\n",
    "adfp$category<-'police'\n",
    "adfj$category<-'journalists'\n",
    "adfvotertherm<-rbind(adfp,adfj)\n",
    "ggplot(adfvotertherm, aes(x = ftemp, weight=tempFreq, fill = category)) + \n",
    "  geom_histogram(position=\"identity\", alpha=0.5, bins=30) +\n",
    "  labs(title=\"Thermometer Readings for All Respondents\", x=\"Temperature\", y=\"Number of Respondents\")\n",
    "\n"
   ]
  },
  {
   "cell_type": "code",
   "execution_count": null,
   "metadata": {},
   "outputs": [],
   "source": [
    "rdfp <- cbind(A$caseid, A$ftpolice) %>% as.data.frame()\n",
    "names(rdfp)<-c(\"caseid\", \"ftemp\")\n",
    "rdfj <- cbind(A$caseid, A$ftjournal) %>% as.data.frame()\n",
    "names(rdfj)<-c(\"caseid\", \"ftemp\")\n",
    "#rdfp<-data.frame(ftemp=as.numeric(rdfpolice$police_ftemp)-1, tempFreq=adfpolice$Freq)\n",
    "#rdfj<-data.frame(ftemp=as.numeric(rdfjournalist$journalist_ftemp)-1, tempFreq=adfjournalist$Freq)\n",
    "\n",
    "rdfp$category<-'police'\n",
    "rdfj$category<-'journalists'\n",
    "rdfvotertherm<-rbind(rdfp,rdfj)\n",
    "rdfvoterthermweights<-cbind(rdfvotertherm, A$weight)\n",
    "names(rdfvoterthermweights)<-c(\"caseid\", \"ftemp\", \"category\", \"weight\")\n",
    "\n",
    "ggplot(rdfvoterthermweights, aes(x = ftemp, fill = category)) + \n",
    "  geom_histogram(position=\"identity\", alpha=0.5, bins=100) +\n",
    "  labs(title=\"Unweighted Thermometer Readings for All Respondents\", x=\"Temperature\", y=\"Number of Respondents\")\n",
    "\n",
    "ggplot(rdfvoterthermweights, aes(x = ftemp, fill = category, weight=weight)) + \n",
    "  geom_histogram(position=\"identity\", alpha=0.5, bins=100) +\n",
    "  labs(title=\"Weighted Thermometer Readings for All Respondents\", x=\"Temperature\", y=\"Number of Respondents\")\n",
    "\n"
   ]
  },
  {
   "cell_type": "code",
   "execution_count": null,
   "metadata": {},
   "outputs": [],
   "source": [
    "ggplot(data = A, mapping = aes(x = ftpolice, \n",
    "                                       weight = weight)) + \n",
    "  geom_histogram(position=\"identity\", binwidth = 1, color = \"white\") +\n",
    "  labs(x = \"Survey Respondents feelings about Police\")"
   ]
  },
  {
   "cell_type": "code",
   "execution_count": null,
   "metadata": {},
   "outputs": [],
   "source": [
    "summary(A$ftpolice)\n",
    "summary(A$ftjournal)"
   ]
  },
  {
   "cell_type": "code",
   "execution_count": null,
   "metadata": {},
   "outputs": [],
   "source": [
    "summary(A$ftpolice*A$weight)\n",
    "summary(A$ftjournal*A$weight)"
   ]
  },
  {
   "cell_type": "code",
   "execution_count": null,
   "metadata": {},
   "outputs": [],
   "source": [
    "t.test(A$ftpolice, A$ftjournal, paired=TRUE, na.action=na.omit )"
   ]
  },
  {
   "cell_type": "code",
   "execution_count": null,
   "metadata": {},
   "outputs": [],
   "source": [
    "t.test(A$ftpolice*A$weight, A$ftjournal*A$weight, paired=TRUE, na.action=na.omit )"
   ]
  },
  {
   "cell_type": "code",
   "execution_count": null,
   "metadata": {},
   "outputs": [],
   "source": [
    "t.test(A$ftpolice*A$weight*as.numeric( A$reg %in% 1:2 ), A$ftjournal*A$weight*as.numeric( A$reg %in% 1:2 ), paired=TRUE, na.action=na.omit )"
   ]
  },
  {
   "cell_type": "code",
   "execution_count": null,
   "metadata": {},
   "outputs": [],
   "source": [
    "police<-A$ftpolice*A$weight*as.numeric( A$reg %in% 1:2 )\n",
    "police[police==0]<-NA\n",
    "journal<-A$ftjournal*A$weight*as.numeric( A$reg %in% 1:2 )\n",
    "journal[journal==0]<-NA"
   ]
  },
  {
   "cell_type": "code",
   "execution_count": null,
   "metadata": {},
   "outputs": [],
   "source": [
    "t.test(police, journal, paired=TRUE, na.action=na.omit )"
   ]
  },
  {
   "cell_type": "code",
   "execution_count": null,
   "metadata": {},
   "outputs": [],
   "source": [
    "install.packages(\"weights\")"
   ]
  },
  {
   "cell_type": "code",
   "execution_count": null,
   "metadata": {},
   "outputs": [],
   "source": [
    "library(weights)"
   ]
  },
  {
   "cell_type": "code",
   "execution_count": null,
   "metadata": {},
   "outputs": [],
   "source": [
    "police<-A$ftpolice*as.numeric( A$reg %in% 1:2 )\n",
    "police[police==0]<-NA\n",
    "journal<-A$ftjournal*as.numeric( A$reg %in% 1:2 )\n",
    "journal[journal==0]<-NA"
   ]
  },
  {
   "cell_type": "code",
   "execution_count": null,
   "metadata": {},
   "outputs": [],
   "source": [
    "wtd.t.test(police, journal, weight=A$weight, samedata=TRUE)"
   ]
  },
  {
   "cell_type": "code",
   "execution_count": null,
   "metadata": {},
   "outputs": [],
   "source": [
    "svyranktest(voter_police_ftemp~voter_journalist_ftemp, anes_design, \"wilcoxon\")"
   ]
  },
  {
   "cell_type": "code",
   "execution_count": null,
   "metadata": {},
   "outputs": [],
   "source": [
    "svyranktest(voter_police_ftemp~voter_journalist_cat, anes_design, \"wilcoxon\")"
   ]
  },
  {
   "cell_type": "code",
   "execution_count": null,
   "metadata": {},
   "outputs": [],
   "source": [
    "install.packages(\"tableone\")"
   ]
  },
  {
   "cell_type": "code",
   "execution_count": null,
   "metadata": {},
   "outputs": [],
   "source": [
    "library(tableone)"
   ]
  },
  {
   "cell_type": "code",
   "execution_count": null,
   "metadata": {},
   "outputs": [],
   "source": [
    "?svyCreateTableOne"
   ]
  },
  {
   "cell_type": "code",
   "execution_count": null,
   "metadata": {},
   "outputs": [],
   "source": [
    "vars <- c(\"voter_police_cat\", \"voter_journalist_cat\")\n",
    "tabIPW <- svyCreateTableOne(vars = vars, data = anes_design)\n",
    "print(tabIPW, smd = TRUE)\n",
    "summary(tabIPW)\n"
   ]
  },
  {
   "cell_type": "code",
   "execution_count": null,
   "metadata": {},
   "outputs": [],
   "source": [
    "vars <- c(\"voter_police_cat\", \"voter_journalist_cat\")\n",
    "tabIPW <- svyCreateTableOne(vars = \"voter_police_cat\", strata=\"voter_journalist_cat\", data = anes_design)\n",
    "print(tabIPW, smd = TRUE)\n",
    "summary(tabIPW)"
   ]
  },
  {
   "cell_type": "code",
   "execution_count": null,
   "metadata": {},
   "outputs": [],
   "source": [
    "svymean(~police_ftemp, anes_design)\n",
    "svymean(~journalist_ftemp, anes_design, na.rm=TRUE)"
   ]
  },
  {
   "cell_type": "code",
   "execution_count": null,
   "metadata": {},
   "outputs": [],
   "source": [
    "svyttest(police_ftemp ~ journalist_ftemp, anes_design)"
   ]
  },
  {
   "cell_type": "code",
   "execution_count": null,
   "metadata": {},
   "outputs": [],
   "source": [
    "svymean(~voter_police_ftemp, anes_design, na.rm=TRUE)\n",
    "svymean(~voter_journalist_ftemp, anes_design, na.rm=TRUE)"
   ]
  },
  {
   "cell_type": "code",
   "execution_count": null,
   "metadata": {},
   "outputs": [],
   "source": [
    "svyttest(voter_police_ftemp ~ voter_journalist_ftemp, anes_design)"
   ]
  },
  {
   "cell_type": "code",
   "execution_count": null,
   "metadata": {},
   "outputs": [],
   "source": []
  },
  {
   "cell_type": "code",
   "execution_count": null,
   "metadata": {},
   "outputs": [],
   "source": [
    "A$ftjournal[is.na(A$ftjournal)]\n",
    "A$ftpolice[is.na(A$ftpolice)]"
   ]
  },
  {
   "cell_type": "code",
   "execution_count": null,
   "metadata": {},
   "outputs": [],
   "source": [
    "vecpolice <- rep(dfpolice$police_ftemp, dfpolice$Freq)"
   ]
  },
  {
   "cell_type": "code",
   "execution_count": null,
   "metadata": {},
   "outputs": [],
   "source": [
    "vecjournalist <- rep(dfjournalist$journalist_ftemp, dfjournalist$Freq)"
   ]
  },
  {
   "cell_type": "code",
   "execution_count": null,
   "metadata": {},
   "outputs": [],
   "source": [
    "mean(vecpolice)\n",
    "length(vecjournalist[1:2449])"
   ]
  },
  {
   "cell_type": "code",
   "execution_count": null,
   "metadata": {},
   "outputs": [],
   "source": [
    "t.test(vecpolice, vecjournalist, paired=TRUE )"
   ]
  },
  {
   "cell_type": "code",
   "execution_count": null,
   "metadata": {},
   "outputs": [],
   "source": [
    "wilcox.test(dfpolice$Freq, dfjournalist$Freq, paired=TRUE)"
   ]
  },
  {
   "cell_type": "code",
   "execution_count": null,
   "metadata": {},
   "outputs": [],
   "source": [
    "svyranktest(police_ftemp ~ journalist_ftemp, anes_design, test=c(\"wilcoxon\"))"
   ]
  },
  {
   "cell_type": "code",
   "execution_count": null,
   "metadata": {},
   "outputs": [],
   "source": [
    "x<-svycdf(~police_ftemp, anes_design)"
   ]
  },
  {
   "cell_type": "code",
   "execution_count": null,
   "metadata": {},
   "outputs": [],
   "source": [
    "y<-svycdf(~journalist_ftemp, anes_design)"
   ]
  },
  {
   "cell_type": "code",
   "execution_count": null,
   "metadata": {},
   "outputs": [],
   "source": [
    "t.test(x,y,paired=TRUE)"
   ]
  },
  {
   "cell_type": "code",
   "execution_count": null,
   "metadata": {},
   "outputs": [],
   "source": []
  },
  {
   "cell_type": "code",
   "execution_count": null,
   "metadata": {},
   "outputs": [],
   "source": []
  },
  {
   "cell_type": "code",
   "execution_count": null,
   "metadata": {},
   "outputs": [],
   "source": []
  },
  {
   "cell_type": "code",
   "execution_count": null,
   "metadata": {},
   "outputs": [],
   "source": []
  },
  {
   "cell_type": "code",
   "execution_count": null,
   "metadata": {},
   "outputs": [],
   "source": [
    "svytotal( ~ one , anes_design )\n",
    "svyby( ~ one , ~ voted_in_18 , anes_design , svytotal )"
   ]
  },
  {
   "cell_type": "code",
   "execution_count": null,
   "metadata": {},
   "outputs": [],
   "source": [
    "svymean(~pres_vote_in_16, anes_design)\n",
    "unwtd.count(~pres_vote_in_16, anes_design)\n",
    "svyby( ~ pres_vote_in_16 , ~ one , anes_design , svytotal )"
   ]
  },
  {
   "cell_type": "code",
   "execution_count": null,
   "metadata": {},
   "outputs": [],
   "source": [
    "svyby( ~ pres_vote_in_16 , ~ voted_in_16 , anes_design , svytotal )"
   ]
  },
  {
   "cell_type": "code",
   "execution_count": null,
   "metadata": {},
   "outputs": [],
   "source": [
    "svyby( ~ pres_vote_in_16 , ~ voted_in_18 , anes_design , svytotal )"
   ]
  },
  {
   "cell_type": "code",
   "execution_count": null,
   "metadata": {},
   "outputs": [],
   "source": [
    "library(dplyr)\n",
    "A %>% distinct(pid2d)\n",
    "A %>% distinct(pid2r)"
   ]
  },
  {
   "cell_type": "code",
   "execution_count": null,
   "metadata": {},
   "outputs": [],
   "source": [
    "independent<-c(\"American\", \"Don’t vote\", \"I dont pay attention to politics\", \n",
    "               \"na\", \"Neutral\", \"non aligned christian\", \"None\", \"Not any of them\", \n",
    "               \"Nothing\", \"Between Democratic and Republican\", \"don't like parties\", \n",
    "               \"Dont know\", \"Human\", \"N/a\", \"No label, no party\", \"none\", \"None of it\", \n",
    "               \"not political\", \"Realist\", \"a cross over voter\", \"Common sense\",\n",
    "               \"Conservaterian\", \"Dontvknow\", \"Free\", \"Moderate\", \"No party\", \n",
    "               \"no party I am a American\", \"nothing\", \"Otho g\", \"Unaffiliated Free Thinking American\",\n",
    "               \"Anarchist.\", \"Don't know\", \"Neither\", \"No party affiliation\",\"Nothing\",\n",
    "               \"Unaffiliated\", \" \")"
   ]
  },
  {
   "cell_type": "code",
   "execution_count": null,
   "metadata": {},
   "outputs": [],
   "source": [
    "unique(independent)"
   ]
  },
  {
   "cell_type": "code",
   "execution_count": null,
   "metadata": {},
   "outputs": [],
   "source": [
    "indep_right<-c(\"constitution party\", \"Ex-Republican\", \"Libertarian\", \"nationalist\", \n",
    "              \"Conservative\", \"libertarian\", \"tea party\", \"conservative\")"
   ]
  },
  {
   "cell_type": "code",
   "execution_count": null,
   "metadata": {},
   "outputs": [],
   "source": [
    "unique(indep_right)"
   ]
  },
  {
   "cell_type": "code",
   "execution_count": null,
   "metadata": {},
   "outputs": [],
   "source": [
    "indep_left<-c(\"socialist\", \"democratic socialist\", \"Liberal\", \"Socialist\", \"Communist\",\n",
    "              \"Environmentalist\", \"Green\", \"Progressive\")"
   ]
  },
  {
   "cell_type": "code",
   "execution_count": null,
   "metadata": {},
   "outputs": [],
   "source": [
    "unique(indep_left)"
   ]
  },
  {
   "cell_type": "code",
   "execution_count": null,
   "metadata": {},
   "outputs": [],
   "source": [
    "A$pid2d[A$pid2d %in% independent]"
   ]
  },
  {
   "cell_type": "code",
   "execution_count": null,
   "metadata": {},
   "outputs": [],
   "source": []
  },
  {
   "cell_type": "code",
   "execution_count": null,
   "metadata": {},
   "outputs": [],
   "source": []
  },
  {
   "cell_type": "code",
   "execution_count": null,
   "metadata": {},
   "outputs": [],
   "source": []
  },
  {
   "cell_type": "code",
   "execution_count": null,
   "metadata": {},
   "outputs": [],
   "source": []
  },
  {
   "cell_type": "code",
   "execution_count": null,
   "metadata": {},
   "outputs": [],
   "source": [
    "library(tidyr)\n",
    "library(plyr)\n",
    "library(dplyr)\n",
    "library(expss)\n",
    "library(ggplot2)\n",
    "library(reshape2)\n",
    "options(kableExtra.latex.load_packages = TRUE)\n",
    "library(kableExtra)\n",
    "library(likert)"
   ]
  },
  {
   "cell_type": "code",
   "execution_count": null,
   "metadata": {},
   "outputs": [],
   "source": [
    "str(A)"
   ]
  },
  {
   "cell_type": "code",
   "execution_count": null,
   "metadata": {},
   "outputs": [],
   "source": [
    "#Recode the inputstate based on the errata https://electionstudies.org/2018-pilot-study-updates-errata/\n",
    "A$inputstate[A$inputstate==-1] <-9\n",
    "A$inputstate[A$inputstate==-7] <-8\n",
    "#Recode no-answers to 0\n",
    "A[A==-7] <- 0\n",
    "#Set all legitimate skips to NA\n",
    "A[A==-1] <- NA"
   ]
  },
  {
   "cell_type": "code",
   "execution_count": null,
   "metadata": {},
   "outputs": [],
   "source": [
    "A[sapply(A, is.integer)] <- lapply(A[sapply(A, is.integer)], as.factor)\n",
    "#A[5:16] <- lapply(A[5:16], factor, levels=0:4)"
   ]
  },
  {
   "cell_type": "code",
   "execution_count": null,
   "metadata": {},
   "outputs": [],
   "source": [
    "A_design = svydesign(ids = ~caseid, data=A, weights = ~weight)"
   ]
  },
  {
   "cell_type": "code",
   "execution_count": null,
   "metadata": {},
   "outputs": [],
   "source": [
    "table(A_design$pid7x)"
   ]
  },
  {
   "cell_type": "code",
   "execution_count": null,
   "metadata": {},
   "outputs": [],
   "source": [
    "A_design"
   ]
  },
  {
   "cell_type": "code",
   "execution_count": null,
   "metadata": {},
   "outputs": [],
   "source": [
    "svymean(~ftobama, A_design)"
   ]
  },
  {
   "cell_type": "code",
   "execution_count": null,
   "metadata": {},
   "outputs": [],
   "source": [
    "svymean(~ftobama, A_design)"
   ]
  },
  {
   "cell_type": "code",
   "execution_count": null,
   "metadata": {},
   "outputs": [],
   "source": [
    "svymean(~ftobama, A_design)"
   ]
  },
  {
   "cell_type": "code",
   "execution_count": null,
   "metadata": {
    "scrolled": true
   },
   "outputs": [],
   "source": [
    "q1_by_pid = svyby(~fttrump,            #variable to estimate\n",
    "                   ~pid7x,          #subgroup variable\n",
    "                   design = A_design,\n",
    "                   FUN = svymean, #function to use on each subgroup\n",
    "                   keep.names = FALSE #does not include row.names \n",
    "                                       #for subgroup variable\n",
    "      ) \n",
    " \n",
    "knitr::kable(q1_by_pid, digits = 2)"
   ]
  },
  {
   "cell_type": "code",
   "execution_count": null,
   "metadata": {},
   "outputs": [],
   "source": [
    "str(A)"
   ]
  },
  {
   "cell_type": "code",
   "execution_count": null,
   "metadata": {},
   "outputs": [],
   "source": [
    "A$votehard.f = factor(A$votehard, levels = c(\"-1\", \"1\", \"2\",\"3\", \"4\", \"5\"), ordered = TRUE)"
   ]
  },
  {
   "cell_type": "code",
   "execution_count": null,
   "metadata": {},
   "outputs": [],
   "source": [
    "str(A)"
   ]
  },
  {
   "cell_type": "code",
   "execution_count": null,
   "metadata": {},
   "outputs": [],
   "source": [
    "sapply(A, class)"
   ]
  },
  {
   "cell_type": "code",
   "execution_count": null,
   "metadata": {},
   "outputs": [],
   "source": [
    "library(sjPlot)"
   ]
  },
  {
   "cell_type": "code",
   "execution_count": null,
   "metadata": {},
   "outputs": [],
   "source": [
    "responses <- A[c(5:16)]\n",
    "#\n",
    "#for(i in 5:16) {\n",
    "#    print(i)\n",
    "#    plot(likert(items=A[,i,drop=FALSE]), ordered=FALSE)\n",
    "#}\n",
    "#plot(likert(items=A[,14,drop=FALSE]), ordered=FALSE)\n",
    "#plot(likert(items=A[,15,drop=FALSE]), ordered=FALSE)\n",
    "#plot(likert(items=A[,16,drop=FALSE]), ordered=FALSE)\n",
    "responses"
   ]
  },
  {
   "cell_type": "code",
   "execution_count": null,
   "metadata": {},
   "outputs": [],
   "source": [
    "df<-rbind.fill(A[c(5:28)],A[c(30:50)])"
   ]
  },
  {
   "cell_type": "code",
   "execution_count": null,
   "metadata": {},
   "outputs": [],
   "source": [
    "plot_likert(items=A[50], cat.neutral=0)"
   ]
  },
  {
   "cell_type": "code",
   "execution_count": null,
   "metadata": {},
   "outputs": [],
   "source": [
    "?plot_likert"
   ]
  },
  {
   "cell_type": "code",
   "execution_count": null,
   "metadata": {},
   "outputs": [],
   "source": [
    "plot_likert(items=df, cat.neutral=0)"
   ]
  },
  {
   "cell_type": "code",
   "execution_count": null,
   "metadata": {
    "scrolled": true
   },
   "outputs": [],
   "source": [
    "result = likert(A[c(54:80)])\n",
    "plot(result, type=\"bar\", ordered=FALSE)"
   ]
  },
  {
   "cell_type": "code",
   "execution_count": null,
   "metadata": {},
   "outputs": [],
   "source": [
    "dimA <- data.frame(Dimensions = dim(A), row.names = c(\"Data Points\",\"Variables\"))"
   ]
  },
  {
   "cell_type": "code",
   "execution_count": null,
   "metadata": {},
   "outputs": [],
   "source": [
    "kable(dimA)"
   ]
  },
  {
   "cell_type": "code",
   "execution_count": null,
   "metadata": {},
   "outputs": [],
   "source": [
    "library(psy)"
   ]
  },
  {
   "cell_type": "code",
   "execution_count": null,
   "metadata": {},
   "outputs": [],
   "source": [
    "ex_1 = data.frame(A$ftjournal, A$ftpolice, A$fttrump)"
   ]
  },
  {
   "cell_type": "code",
   "execution_count": null,
   "metadata": {},
   "outputs": [],
   "source": [
    "ex_1_long = reshape2::melt(ex_1)"
   ]
  },
  {
   "cell_type": "code",
   "execution_count": null,
   "metadata": {},
   "outputs": [],
   "source": [
    "library(ggplot2)"
   ]
  },
  {
   "cell_type": "code",
   "execution_count": null,
   "metadata": {},
   "outputs": [],
   "source": [
    "ggplot(ex_1_long, aes(value)) +\n",
    "    geom_histogram(binwidth=1) +\n",
    "    facet_wrap(~variable, ncol=1) +\n",
    "    xlab(\"Thermometer Scale Reading\") +\n",
    "    theme_bw()"
   ]
  },
  {
   "cell_type": "code",
   "execution_count": null,
   "metadata": {},
   "outputs": [],
   "source": [
    "A$fttrump[which(A$fttrump == -7)] <- NA"
   ]
  },
  {
   "cell_type": "code",
   "execution_count": null,
   "metadata": {},
   "outputs": [],
   "source": [
    "A$ftjournal[51] <- 0\n",
    "A$ftjournal[597] <- 0"
   ]
  },
  {
   "cell_type": "code",
   "execution_count": null,
   "metadata": {},
   "outputs": [],
   "source": [
    "A$honest[51]\n",
    "A$honest[597]"
   ]
  },
  {
   "cell_type": "code",
   "execution_count": null,
   "metadata": {},
   "outputs": [],
   "source": [
    "A$honest[which(A$fttrump == 997)]"
   ]
  },
  {
   "cell_type": "code",
   "execution_count": null,
   "metadata": {},
   "outputs": [],
   "source": [
    "A$nonserious[which(A$fttrump == 997)]"
   ]
  },
  {
   "cell_type": "code",
   "execution_count": null,
   "metadata": {},
   "outputs": [],
   "source": [
    "hist(A$vote2jb[A$percent20[which(A$fttrump[c(which(A$vote16==3), which(A$turnout16==2))]<50)>90]])"
   ]
  },
  {
   "cell_type": "code",
   "execution_count": null,
   "metadata": {},
   "outputs": [],
   "source": [
    "hist(A$vote20jb[which(A$percent20[which(A$fttrump[c(which(A$vote16==3), which(A$turnout16==2))]<10)]>90)])"
   ]
  },
  {
   "cell_type": "code",
   "execution_count": null,
   "metadata": {},
   "outputs": [],
   "source": []
  },
  {
   "cell_type": "code",
   "execution_count": null,
   "metadata": {},
   "outputs": [],
   "source": [
    "install.packages(c(\"foreign\", \"survey\", \"knitr\"))"
   ]
  },
  {
   "cell_type": "code",
   "execution_count": null,
   "metadata": {},
   "outputs": [],
   "source": []
  },
  {
   "cell_type": "code",
   "execution_count": null,
   "metadata": {},
   "outputs": [],
   "source": []
  },
  {
   "cell_type": "code",
   "execution_count": null,
   "metadata": {},
   "outputs": [],
   "source": []
  },
  {
   "cell_type": "code",
   "execution_count": null,
   "metadata": {},
   "outputs": [],
   "source": []
  },
  {
   "cell_type": "markdown",
   "metadata": {},
   "source": [
    "## Question 1: Do US voters have more respect for the police or for journalists?"
   ]
  },
  {
   "cell_type": "markdown",
   "metadata": {},
   "source": [
    "### Introduce your topic briefly.  (5 points)\n",
    "Explain how your variables are operationalized.  Comment on any gaps that you can identify between your operational definitions and the concepts you are trying to study."
   ]
  },
  {
   "cell_type": "markdown",
   "metadata": {
    "scrolled": true
   },
   "source": [
    ">From a conceptual standpoint we want to understand how US voters feel about police or journalists as a measure of respect, and determine which group, if there is a difference, where respect may be strongest.\n",
    ">\n",
    ">*Feeling Thermometers:* We have two  questions from the survey that ask the survey respondent to rate their sentiment toward police and journalists on a  scale of 0-100\n",
    ">\n",
    ">* **ftpolice**: How would you rate the police?\n",
    ">* **ftjournal**: How would you rate journalists?\n",
    ">\n",
    ">This rating is not explicitly a measure of respect, but by virtue of the response representing an overall favorability measurement, respect can be inferred, e.g. people tend to show respect for things in which they favor and demonstrate lack of respect for things they don't. \n",
    ">\n",
    ">We also note that although these variables are recorded on a sliding continium, we recognize them as ordinal in nature. They are not precise measurements as in a real thermometer. Your score of 80 may be my score of 65. However, given my rating of 65 and yours of 85 you and I will be consistent across questions using our personal methodogy. And since we are comparing feeling scores across measures there will be consistency in our  comparative ranking placement when we compare results.\n",
    ">\n",
    ">*Registered Voters*: We also have a question on the survey indicating whether the interviewer is registered to vote. \n",
    ">\n",
    ">* **reg**: Are you registered to vote, or not?\n",
    ">\n",
    ">This is important as we are asking the question \"Do US voters have...\" and will be making comparisons on feeling thermometers for just US voters.\n",
    ">"
   ]
  },
  {
   "cell_type": "markdown",
   "metadata": {},
   "source": [
    "### Perform an exploratory data analysis (EDA) of the relevant variables. (5 points)\n",
    "This should include a treatment of non-response and other special codes, basic sanity checks, and a justification for any values that are removed.  Use visual tools to assess the relationship among your variables and comment on any features you find."
   ]
  },
  {
   "cell_type": "code",
   "execution_count": 8,
   "metadata": {},
   "outputs": [],
   "source": [
    "#General recodes\n",
    "#Recode the inputstate based on the errata https://electionstudies.org/2018-pilot-study-updates-errata/\n",
    "A$inputstate[A$inputstate==-1] <-9\n",
    "A$inputstate[A$inputstate==-7] <-8\n",
    "#Recode all Don't Know (DK) answers to NA\n",
    "A[A==-7] <- NA\n",
    "#Recode all legitimate skips to NA\n",
    "A[A==-1] <- NA"
   ]
  },
  {
   "cell_type": "code",
   "execution_count": 9,
   "metadata": {},
   "outputs": [],
   "source": [
    "#ftpolice and ftjournal are the thermometer readings.\n",
    "#We are creating a difference variable so that the means can be\n",
    "#more easily compared for testing.\n",
    "A$diff_police_journalist_ftemp<-A$ftpolice - A$ftjournal"
   ]
  },
  {
   "cell_type": "code",
   "execution_count": 10,
   "metadata": {},
   "outputs": [],
   "source": [
    "#Removing errors in collection from excedingly large\n",
    "#thermometer readings since > 100 is not a valid response\n",
    "A[A==997] <- NA"
   ]
  },
  {
   "cell_type": "code",
   "execution_count": 11,
   "metadata": {},
   "outputs": [],
   "source": [
    "library(dplyr)\n",
    "\n",
    "#Create a survey design from our data\n",
    "anes_design = svydesign(ids = ~1, data=A, weights = ~weight)\n",
    "\n",
    "#Include the relevent questions in our design object for analysis preparation\n",
    "anes_design <- \n",
    "    update( \n",
    "        anes_design ,     \n",
    "        one = 1,\n",
    "        police_ftemp = ifelse( ftpolice %in% 0:100 , ftpolice , NA ) ,\n",
    "        journalist_ftemp = ifelse( ftjournal %in% 0:100, ftjournal , NA ) ,\n",
    "        registered_voter = ifelse( reg %in% 1:3 , as.numeric( reg %in% 1:2 ) , NA ) ,\n",
    "        voter_police_ftemp = ifelse(registered_voter == 1, police_ftemp, NA),\n",
    "        voter_journalist_ftemp = ifelse(registered_voter == 1 , journalist_ftemp, NA),\n",
    "        diff_voter_police_journalist_ftemp = ifelse(registered_voter ==1, diff_police_journalist_ftemp, NA)\n",
    ")\n"
   ]
  },
  {
   "cell_type": "markdown",
   "metadata": {},
   "source": [
    "Let's review the histogram from the two thermometer readings. These histograms will be weighted to represent the population because we're pulling the values out from the survey design package. See svytable."
   ]
  },
  {
   "cell_type": "code",
   "execution_count": 12,
   "metadata": {},
   "outputs": [],
   "source": [
    "dfpolice <- svytable(~voter_police_ftemp, anes_design ) %>% as.data.frame() %>% mutate(Prop = Freq/sum(Freq))\n",
    "dfjournalist <- svytable(~voter_journalist_ftemp, anes_design ) %>% as.data.frame() %>% mutate(Prop = Freq/sum(Freq))\n",
    "dfp<-data.frame(ftemp=as.numeric(dfpolice$voter_police_ftemp)-1, tempFreq=dfpolice$Freq, prop=dfpolice$Prop)\n",
    "dfj<-data.frame(ftemp=as.numeric(dfjournalist$voter_journalist_ftemp)-1, tempFreq=dfjournalist$Freq, prop=dfjournalist$Prop)\n",
    "dfp$category<-'police'\n",
    "dfj$category<-'journalists'\n",
    "dfvotertherm<-rbind(dfp,dfj)"
   ]
  },
  {
   "cell_type": "code",
   "execution_count": 126,
   "metadata": {},
   "outputs": [
    {
     "data": {},
     "metadata": {},
     "output_type": "display_data"
    },
    {
     "data": {
      "image/png": "[encoded data removed]",
      "text/plain": [
       "plot without title"
      ]
     },
     "metadata": {},
     "output_type": "display_data"
    }
   ],
   "source": [
    "library(ggplot2)\n",
    "ggplot(dfvotertherm, aes(x = ftemp, weight=tempFreq, fill = category)) + \n",
    "  geom_histogram(position=\"identity\", alpha=0.5, bins=30) +\n",
    "  labs(title=\"Weighted Thermometer Readings for Registered Voters\", x=\"Temperature\", y=\"Number of Voters\")"
   ]
  },
  {
   "cell_type": "markdown",
   "metadata": {},
   "source": [
    "Notably from the histogram there is a higher concentration of lower temperature readings for journalists than there are for police.\n",
    "\n",
    "Let's use the same data extracted from the survey design, and review the boxplots of the same two thermometers to confirm this rationale.\n",
    "\n",
    "Note where the means fall relative to one another in the boxplot below."
   ]
  },
  {
   "cell_type": "code",
   "execution_count": 14,
   "metadata": {},
   "outputs": [
    {
     "data": {},
     "metadata": {},
     "output_type": "display_data"
    },
    {
     "data": {
      "image/png": "[encoded data removed]",
      "text/plain": [
       "plot without title"
      ]
     },
     "metadata": {},
     "output_type": "display_data"
    }
   ],
   "source": [
    "ggplot(dfvotertherm, aes(x = prop, y=ftemp, weight=tempFreq, fill = category)) + \n",
    "  geom_boxplot(position=\"identity\", alpha=0.5) +\n",
    " labs(title=\"Thermometer Readings for Registered Voters\", x=\"Proportion of Responses\", y=\"Temperature\")"
   ]
  },
  {
   "cell_type": "markdown",
   "metadata": {},
   "source": [
    "### Based on your EDA, select an appropriate hypothesis test.  (5 points)\n",
    "Explain why your test is the most appropriate choice, focusing on its statistical assumptions."
   ]
  },
  {
   "cell_type": "markdown",
   "metadata": {},
   "source": [
    ">Because the measures are ordinal, and because both measures are from the same sample, we will apply a non-parametic Wilicoxon Signed Rank test to compare means.\n",
    ">\n",
    "> The null hypothesis is\n",
    "> * $H_0: \\mu_{police} = \\mu_{journalists}$, there is no difference in favor for police and journalists. \n",
    ">\n",
    "> The alternative hypothesis is\n",
    "> * $H_A: \\mu_{police} \\neq \\mu_{journalists}$, there is a difference in favor for police and journalists."
   ]
  },
  {
   "cell_type": "markdown",
   "metadata": {},
   "source": [
    "### Conduct your test. (5 points)\n",
    "Explain (1) the statistical significance of your result, and (2) the practical significance of your result.  Make sure you relate your findings to the original research question."
   ]
  },
  {
   "cell_type": "markdown",
   "metadata": {},
   "source": [
    ">We would like to apply the survey design's Wilcoxon test for weights, however, the design package has a limitation in comparing paired measures from the same sample. The syntax of the call would appear as follows, but execution of the code generates an error."
   ]
  },
  {
   "cell_type": "code",
   "execution_count": null,
   "metadata": {},
   "outputs": [],
   "source": [
    "svyranktest(diff_voter_police_journalist_ftemp~one, anes_design, na.rm=TRUE, test=\"wilcoxon\")"
   ]
  },
  {
   "cell_type": "markdown",
   "metadata": {},
   "source": [
    ">Instead, we will run the test outside of the survey design package. Unfortunately this means weights will not be accounted for in this particular test. Implementing a weighted verson of the Wilcoxon Signed Rank Test algorithm is outside the scope of this lab excercise."
   ]
  },
  {
   "cell_type": "code",
   "execution_count": 25,
   "metadata": {},
   "outputs": [
    {
     "data": {
      "text/plain": [
       "\n",
       "\tWilcoxon signed rank test with continuity correction\n",
       "\n",
       "data:  v_police and v_journalists\n",
       "V = 1113900, p-value < 2.2e-16\n",
       "alternative hypothesis: true location shift is not equal to 0\n",
       "95 percent confidence interval:\n",
       "  8.99993 13.99997\n",
       "sample estimates:\n",
       "(pseudo)median \n",
       "      11.49992 \n"
      ]
     },
     "metadata": {},
     "output_type": "display_data"
    }
   ],
   "source": [
    "# prepare a vector of responses from registered voters,\n",
    "# remove responses from non-registered voters\n",
    "# then conduct the test\n",
    "\n",
    "v_police=A$ftpolice * as.numeric( A$reg %in% 1:2 ) \n",
    "v_police[v_police==0]<-NA\n",
    "v_journalists=A$ftjournal * as.numeric( A$reg %in% 1:2 ) \n",
    "v_journalists[v_journalists==0]<-NA \n",
    "\n",
    "wilcox.test(v_police,\n",
    "            v_journalists,\n",
    "            paired=TRUE, conf.int=TRUE)\n"
   ]
  },
  {
   "cell_type": "markdown",
   "metadata": {},
   "source": [
    ">From the very small p-value obtianed we can reject the null hypothesis and accept the alternative that there is a difference in favor.\n",
    "\n",
    ">In fact, after inspection of the means from each measure, and from the boxplot in the EDA above, we can suggest that in general voters have a higher opinion of police than they do of journalists.\n",
    "\n",
    ">There is statistical significance."
   ]
  },
  {
   "cell_type": "code",
   "execution_count": 16,
   "metadata": {},
   "outputs": [
    {
     "data": {
      "text/plain": [
       "                    mean     SE\n",
       "voter_police_ftemp 66.42 0.8208"
      ]
     },
     "metadata": {},
     "output_type": "display_data"
    },
    {
     "name": "stdout",
     "output_type": "stream",
     "text": [
      "[1] \"confidence intervals\"\n"
     ]
    },
    {
     "data": {
      "text/html": [
       "<table>\n",
       "<thead><tr><th></th><th scope=col>2.5 %</th><th scope=col>97.5 %</th></tr></thead>\n",
       "<tbody>\n",
       "\t<tr><th scope=row>voter_police_ftemp</th><td>64.81146</td><td>68.02883</td></tr>\n",
       "</tbody>\n",
       "</table>\n"
      ],
      "text/latex": [
       "\\begin{tabular}{r|ll}\n",
       "  & 2.5 \\% & 97.5 \\%\\\\\n",
       "\\hline\n",
       "\tvoter\\_police\\_ftemp & 64.81146 & 68.02883\\\\\n",
       "\\end{tabular}\n"
      ],
      "text/markdown": [
       "\n",
       "| <!--/--> | 2.5 % | 97.5 % | \n",
       "|---|\n",
       "| voter_police_ftemp | 64.81146 | 68.02883 | \n",
       "\n",
       "\n"
      ],
      "text/plain": [
       "                   2.5 %    97.5 %  \n",
       "voter_police_ftemp 64.81146 68.02883"
      ]
     },
     "metadata": {},
     "output_type": "display_data"
    },
    {
     "data": {
      "text/plain": [
       "                         mean    SE\n",
       "voter_journalist_ftemp 52.689 0.934"
      ]
     },
     "metadata": {},
     "output_type": "display_data"
    },
    {
     "name": "stdout",
     "output_type": "stream",
     "text": [
      "[1] \"confidence intervals\"\n"
     ]
    },
    {
     "data": {
      "text/html": [
       "<table>\n",
       "<thead><tr><th></th><th scope=col>2.5 %</th><th scope=col>97.5 %</th></tr></thead>\n",
       "<tbody>\n",
       "\t<tr><th scope=row>voter_journalist_ftemp</th><td>50.85858</td><td>54.51974</td></tr>\n",
       "</tbody>\n",
       "</table>\n"
      ],
      "text/latex": [
       "\\begin{tabular}{r|ll}\n",
       "  & 2.5 \\% & 97.5 \\%\\\\\n",
       "\\hline\n",
       "\tvoter\\_journalist\\_ftemp & 50.85858 & 54.51974\\\\\n",
       "\\end{tabular}\n"
      ],
      "text/markdown": [
       "\n",
       "| <!--/--> | 2.5 % | 97.5 % | \n",
       "|---|\n",
       "| voter_journalist_ftemp | 50.85858 | 54.51974 | \n",
       "\n",
       "\n"
      ],
      "text/plain": [
       "                       2.5 %    97.5 %  \n",
       "voter_journalist_ftemp 50.85858 54.51974"
      ]
     },
     "metadata": {},
     "output_type": "display_data"
    }
   ],
   "source": [
    "tab<-svymean(~voter_police_ftemp, anes_design, na.rm=TRUE)\n",
    "tab\n",
    "print(\"confidence intervals\")\n",
    "confint(tab)\n",
    "tab<-svymean(~voter_journalist_ftemp, anes_design, na.rm=TRUE)\n",
    "tab\n",
    "print(\"confidence intervals\")\n",
    "confint(tab)"
   ]
  },
  {
   "cell_type": "markdown",
   "metadata": {},
   "source": [
    ">Last, we want to review the statistic's effect size. Effect size for a Wilcoxon Signed-rank test is defined as\n",
    ">$$r = \\frac{Z}{\\sqrt{N}}$$\n",
    ">\n",
    ">The standard wilcox test does not return the Z value, but the coin package includes a version of the wilcoxon Signed Rank Test that does."
   ]
  },
  {
   "cell_type": "code",
   "execution_count": 57,
   "metadata": {},
   "outputs": [],
   "source": [
    "library(coin)"
   ]
  },
  {
   "cell_type": "code",
   "execution_count": 60,
   "metadata": {},
   "outputs": [
    {
     "data": {
      "text/plain": [
       "\n",
       "\tAsymptotic Wilcoxon-Pratt Signed-Rank Test\n",
       "\n",
       "data:  y by x (pos, neg) \n",
       "\t stratified by block\n",
       "Z = 9.2278, p-value < 2.2e-16\n",
       "alternative hypothesis: true mu is not equal to 0\n"
      ]
     },
     "metadata": {},
     "output_type": "display_data"
    }
   ],
   "source": [
    "wilcoxsign_test(v_police~v_journalists)"
   ]
  },
  {
   "cell_type": "code",
   "execution_count": 61,
   "metadata": {},
   "outputs": [
    {
     "data": {
      "text/html": [
       "0.184556"
      ],
      "text/latex": [
       "0.184556"
      ],
      "text/markdown": [
       "0.184556"
      ],
      "text/plain": [
       "[1] 0.184556"
      ]
     },
     "metadata": {},
     "output_type": "display_data"
    }
   ],
   "source": [
    "r<-9.2278/sqrt(2500)\n",
    "r"
   ]
  },
  {
   "cell_type": "markdown",
   "metadata": {},
   "source": [
    ">The small value in r reveals there is little practical significance."
   ]
  },
  {
   "cell_type": "markdown",
   "metadata": {},
   "source": [
    ">Below is the result of the t-test within the survey design package, for reference only. "
   ]
  },
  {
   "cell_type": "code",
   "execution_count": 31,
   "metadata": {},
   "outputs": [
    {
     "data": {
      "text/plain": [
       "\n",
       "\tDesign-based one-sample t-test\n",
       "\n",
       "data:  (voter_police_ftemp - voter_journalist_ftemp) ~ 0\n",
       "t = 80.882, df = 2498, p-value < 2.2e-16\n",
       "alternative hypothesis: true mean is not equal to 0\n",
       "95 percent confidence interval:\n",
       " 64.80055 50.85769\n",
       "sample estimates:\n",
       "    mean \n",
       "66.41061 \n"
      ]
     },
     "metadata": {},
     "output_type": "display_data"
    }
   ],
   "source": [
    "svyttest((voter_police_ftemp-voter_journalist_ftemp)~0, anes_design, na.rm=TRUE)"
   ]
  },
  {
   "cell_type": "code",
   "execution_count": null,
   "metadata": {},
   "outputs": [],
   "source": []
  },
  {
   "cell_type": "code",
   "execution_count": null,
   "metadata": {},
   "outputs": [],
   "source": []
  },
  {
   "cell_type": "code",
   "execution_count": null,
   "metadata": {},
   "outputs": [],
   "source": []
  },
  {
   "cell_type": "code",
   "execution_count": 54,
   "metadata": {},
   "outputs": [
    {
     "data": {
      "text/html": [
       "<strong>r:</strong> -0.233"
      ],
      "text/latex": [
       "\\textbf{r:} -0.233"
      ],
      "text/markdown": [
       "**r:** -0.233"
      ],
      "text/plain": [
       "     r \n",
       "-0.233 "
      ]
     },
     "metadata": {},
     "output_type": "display_data"
    }
   ],
   "source": [
    "wilcoxonPairedR(paired$v_police, paired$v_journalists)"
   ]
  },
  {
   "cell_type": "code",
   "execution_count": 76,
   "metadata": {},
   "outputs": [
    {
     "data": {
      "text/plain": [
       "\n",
       "Cohen's d\n",
       "\n",
       "d estimate: 0.2951008 (small)\n",
       "95 percent confidence interval:\n",
       "    lower     upper \n",
       "0.2328282 0.3573733 "
      ]
     },
     "metadata": {},
     "output_type": "display_data"
    }
   ],
   "source": [
    "library(effsize)\n",
    "cohen.d(v_police, v_journalist, paired=TRUE, na.rm=TRUE)"
   ]
  },
  {
   "cell_type": "code",
   "execution_count": 40,
   "metadata": {},
   "outputs": [
    {
     "name": "stdout",
     "output_type": "stream",
     "text": [
      "                                                \n",
      "                                                 Overall        \n",
      "  n                                              2500.00        \n",
      "  diff_voter_police_journalist_ftemp (mean (SD))   13.72 (46.75)\n",
      "\n",
      "     ### Summary of continuous variables ###\n",
      "\n",
      ": Overall\n",
      "                                      n miss p.miss mean sd median p25 p75 min\n",
      "diff_voter_police_journalist_ftemp 2500  637     25   14 47      6 -19  50 -99\n",
      "                                   max\n",
      "diff_voter_police_journalist_ftemp 100\n"
     ]
    }
   ],
   "source": [
    "library(tableone)\n",
    "vars <- c(\"diff_voter_police_journalist_ftemp\")\n",
    "#strata<-c(\"one\")\n",
    "tabIPW <- svyCreateTableOne(vars = vars, testApprox=\"svyTTest\", data = anes_design)\n",
    "print(tabIPW, smd = TRUE)\n",
    "summary(tabIPW)"
   ]
  },
  {
   "cell_type": "code",
   "execution_count": 37,
   "metadata": {},
   "outputs": [],
   "source": [
    "library(tableone)\n",
    "vars <- c(\"voter_police_ftemp\", \"voter_journalist_ftemp\")\n",
    "#strata<-c(\"one\")\n",
    "tabIPW <- svyCreateTableOne(vars = vars, testApprox=\"svyTTest\", data = anes_design)\n",
    "print(tabIPW, smd = TRUE)\n",
    "summary(tabIPW)"
   ]
  },
  {
   "cell_type": "code",
   "execution_count": null,
   "metadata": {},
   "outputs": [],
   "source": [
    "#df=as.data.frame(cbind(v_police, v_journalists))\n",
    "#paired <- df[complete.cases(df), ]\n",
    "#dim(paired)"
   ]
  },
  {
   "cell_type": "markdown",
   "metadata": {},
   "source": [
    "## Question 2: Are Republican voters older or younger than Democratic voters?"
   ]
  },
  {
   "cell_type": "markdown",
   "metadata": {},
   "source": [
    "### Introduce your topic briefly.  (5 points)\n",
    "Explain how your variables are operationalized.  Comment on any gaps that you can identify between your operational definitions and the concepts you are trying to study."
   ]
  },
  {
   "cell_type": "code",
   "execution_count": null,
   "metadata": {},
   "outputs": [],
   "source": []
  },
  {
   "cell_type": "markdown",
   "metadata": {},
   "source": [
    "### Perform an exploratory data analysis (EDA) of the relevant variables. (5 points)\n",
    "This should include a treatment of non-response and other special codes, basic sanity checks, and a justification for any values that are removed.  Use visual tools to assess the relationship among your variables and comment on any features you find."
   ]
  },
  {
   "cell_type": "code",
   "execution_count": null,
   "metadata": {},
   "outputs": [],
   "source": []
  },
  {
   "cell_type": "markdown",
   "metadata": {},
   "source": [
    "### Based on your EDA, select an appropriate hypothesis test.  (5 points)\n",
    "Explain why your test is the most appropriate choice, focusing on its statistical assumptions."
   ]
  },
  {
   "cell_type": "code",
   "execution_count": null,
   "metadata": {},
   "outputs": [],
   "source": []
  },
  {
   "cell_type": "markdown",
   "metadata": {},
   "source": [
    "### Conduct your test. (5 points)\n",
    "Explain (1) the statistical significance of your result, and (2) the practical significance of your result.  Make sure you relate your findings to the original research question."
   ]
  },
  {
   "cell_type": "code",
   "execution_count": null,
   "metadata": {},
   "outputs": [],
   "source": []
  },
  {
   "cell_type": "markdown",
   "metadata": {},
   "source": [
    "## Question 3: Do a majority of independent voters believe that the federal investigations of Russian election interference are baseless?"
   ]
  },
  {
   "cell_type": "markdown",
   "metadata": {},
   "source": [
    "### Introduce your topic briefly.  (5 points)\n",
    "Explain how your variables are operationalized.  Comment on any gaps that you can identify between your operational definitions and the concepts you are trying to study."
   ]
  },
  {
   "cell_type": "code",
   "execution_count": null,
   "metadata": {},
   "outputs": [],
   "source": []
  },
  {
   "cell_type": "markdown",
   "metadata": {},
   "source": [
    "### Perform an exploratory data analysis (EDA) of the relevant variables. (5 points)\n",
    "This should include a treatment of non-response and other special codes, basic sanity checks, and a justification for any values that are removed.  Use visual tools to assess the relationship among your variables and comment on any features you find."
   ]
  },
  {
   "cell_type": "code",
   "execution_count": null,
   "metadata": {},
   "outputs": [],
   "source": []
  },
  {
   "cell_type": "markdown",
   "metadata": {},
   "source": [
    "### Based on your EDA, select an appropriate hypothesis test.  (5 points)\n",
    "Explain why your test is the most appropriate choice, focusing on its statistical assumptions."
   ]
  },
  {
   "cell_type": "code",
   "execution_count": null,
   "metadata": {},
   "outputs": [],
   "source": []
  },
  {
   "cell_type": "markdown",
   "metadata": {},
   "source": [
    "### Conduct your test. (5 points)\n",
    "Explain (1) the statistical significance of your result, and (2) the practical significance of your result.  Make sure you relate your findings to the original research question."
   ]
  },
  {
   "cell_type": "code",
   "execution_count": null,
   "metadata": {},
   "outputs": [],
   "source": []
  },
  {
   "cell_type": "markdown",
   "metadata": {},
   "source": [
    "## Question 4: Was anger or fear more effective at driving increases in voter turnout from 2016 to 2018?"
   ]
  },
  {
   "cell_type": "markdown",
   "metadata": {},
   "source": [
    "### Introduce your topic briefly.  (5 points)\n",
    "Explain how your variables are operationalized.  Comment on any gaps that you can identify between your operational definitions and the concepts you are trying to study."
   ]
  },
  {
   "cell_type": "markdown",
   "metadata": {},
   "source": [
    ">From a conceptual standpoint we want to understand levels of voter fear and anger in our current political climate as a measure of influence to turnout. While the question is interesting, we also can't discount other contributing factors to turnout, such as a controversial issue on the ballot like marijuana legalization.\n",
    ">\n",
    ">That said, we are looking specifically at anger over fear or fear over anger as a contributing factor, and assuming there will always be error terms, we wish to find information on which of these two variables played more of a factor.\n",
    ">\n",
    ">*Global Emotion Battery* We have four such questions from the survey that provide sentiment on anger and fear with respect to feeling about the way things are going in the country. There are also questions concerning anger and fear specific to Donald Trump and his actions in office. While anger and fear against Donald Trump may factor into increased turnout, it does so only on the Decratic side; The same logic would not apply to Republicans.\n",
    ">\n",
    ">Therefore, we will use the general sentiment \"on the way things are going in the country\" as the independent variables that may have contributed to turnout in 2018. \n",
    ">\n",
    ">> * **geangry**: How do you feel about the way things are going in the country: angry\n",
    ">* **geworried**: How do you feel about the way things are going in the country: afraid\n",
    ">\n",
    ">We note that these are ordinal values on a ranked scale.\n",
    ">\n",
    ">*Turnout* We will operationalize the meaning of the \"increased turnout\" sample to include those who voted in 2018 (vs those who did not vote). Those who voted in 2018 all contributed to a higher turnout. We do not need to compare voters in 2018 with 2016 to deduce this because we are not arguing whether increased turnout happened in this research, but taking it on face value that it did, and relying on other research that has shown this past election cycle had higher turnout  than normal (also known as a wave election) rather than attempting to do so here. We can't make an argument for it in this study because we don't have data on prior year's voting records for other off-cycle elections to reliably define the meaning. Because of this, we take the assumption that turnout was higher, and look for influences in the survey that may have influenced it.\n",
    ">\n",
    ">* **turnout18**: In the election held on November 6, did you definitely vote in person on election day, vote in person before Nov 6, vote by mail, did you definitely not vote, or are you not completely sure whether you voted in that election?\n",
    ">\n",
    ">* **turnout18ns**: If you had to guess, would you say that you probably did vote in the election held on November 6, or probably did not vote in that election?\n",
    ">\n",
    "> We are including those who answered the second chance question in the test as we want to capture the spirit of the question to include all the people who said they voted.\n",
    "\n"
   ]
  },
  {
   "cell_type": "markdown",
   "metadata": {},
   "source": [
    "### Perform an exploratory data analysis (EDA) of the relevant variables. (5 points)\n",
    "This should include a treatment of non-response and other special codes, basic sanity checks, and a justification for any values that are removed.  Use visual tools to assess the relationship among your variables and comment on any features you find."
   ]
  },
  {
   "cell_type": "markdown",
   "metadata": {},
   "source": [
    "Below we will define the variables used in the package. Their operationalized is described above."
   ]
  },
  {
   "cell_type": "code",
   "execution_count": 110,
   "metadata": {},
   "outputs": [],
   "source": [
    "anes_design <- \n",
    "    update( \n",
    "        anes_design , \n",
    "        \n",
    "        angry_person = ifelse( geangry %in% 1:5 , geangry , NA ) ,\n",
    "        \n",
    "        fearful_person = ifelse( geafraid %in% 1:5 , geafraid , NA ) ,  \n",
    "        voted_in_18 = ifelse( turnout18 %in% 1:5 , \n",
    "                             ifelse(turnout18 == 5, # if not sure - use response in 18ns question\n",
    "                                    as.numeric(turnout18ns==1), \n",
    "                                    as.numeric( turnout18 %in% 1:3 )) , #1:3 are all valid mechanisms for voting\n",
    "                             NA ),        \n",
    "        angry =\n",
    "            factor( angry_person , levels = 1:5 , labels =\n",
    "                c( 'Not at all triggered by emotion' ,\n",
    "                    'A little triggered by emotion' ,\n",
    "                    'Somewhat triggered by emotion' ,\n",
    "                    'Very triggered by emotion' ,\n",
    "                    'Extremely triggered by emotion')\n",
    "            ),\n",
    "        \n",
    "        fearful =\n",
    "            factor( fearful_person , levels = 1:5 , labels =\n",
    "                c( 'Not at all triggered by emotion' ,\n",
    "                    'A little triggered by emotion' ,\n",
    "                    'Somewhat triggered by emotion' ,\n",
    "                    'Very triggered by emotion' ,\n",
    "                    'Extremely triggered by emotion')\n",
    "            ),\n",
    "        voted_in_18 =\n",
    "            factor( voted_in_18 , levels = 0:1 , labels =\n",
    "                c( 'Did not vote' ,\n",
    "                    'Voted')\n",
    "            )\n",
    ")"
   ]
  },
  {
   "cell_type": "markdown",
   "metadata": {},
   "source": [
    "Let's review a comparision of the weighted scale of readings in each category to show how they measure up between voters and non-voters.. Note that the bar graphs below are weighted to represent the population."
   ]
  },
  {
   "cell_type": "code",
   "execution_count": 115,
   "metadata": {},
   "outputs": [],
   "source": [
    "#create a cross-table for plotting\n",
    "tab_a<-svytable(~voted_in_18+angry, anes_design)\n",
    "tab_f<-svytable(~voted_in_18+fearful, anes_design)\n",
    "tab_angry <- as.data.frame(tab_a) %>%\n",
    "  group_by(voted_in_18) %>%\n",
    "  mutate(n_Category = sum(Freq), Prop_voted_in_18 = Freq / n_Category) %>%\n",
    "  ungroup()\n",
    "tab_angry <- tab_angry %>% rename(Response=angry)\n",
    "tab_fearful <- as.data.frame(tab_f) %>%\n",
    "  group_by(voted_in_18) %>%\n",
    "  mutate(n_Category = sum(Freq), Prop_voted_in_18 = Freq / n_Category) %>%\n",
    "  ungroup()\n",
    "tab_fearful <- tab_fearful %>% rename(Response=fearful)\n",
    "tab_angry$category<-\"Anger\"\n",
    "tab_fearful$category<-\"Fear\"\n",
    "df_combo=rbind(tab_angry, tab_fearful)"
   ]
  },
  {
   "cell_type": "code",
   "execution_count": 114,
   "metadata": {},
   "outputs": [
    {
     "data": {},
     "metadata": {},
     "output_type": "display_data"
    },
    {
     "data": {
      "image/png": "[encoded data removed]",
      "text/plain": [
       "plot without title"
      ]
     },
     "metadata": {},
     "output_type": "display_data"
    }
   ],
   "source": [
    "# Create a segmented bar graph\n",
    "ggplot(data = df_combo,\n",
    "       mapping = aes(x = voted_in_18, y = Prop_voted_in_18, fill = Response)) +\n",
    "  facet_wrap(~ category) +\n",
    "  geom_col() +\n",
    " labs(title=\"Emotional Battery for 2018 Voters\", y=\"Proportion of Responses\", x=\"Did you vote in 2018?\")"
   ]
  },
  {
   "cell_type": "markdown",
   "metadata": {},
   "source": [
    "Let's get the percent breakdowns of each segment above for confirmation."
   ]
  },
  {
   "cell_type": "code",
   "execution_count": 123,
   "metadata": {},
   "outputs": [
    {
     "name": "stdout",
     "output_type": "stream",
     "text": [
      "                                    Stratified by voted_in_18\n",
      "                                     Did not vote  Voted          SMD   \n",
      "  n                                  826.9         1673.1               \n",
      "  angry (%)                                                        0.299\n",
      "     Not at all triggered by emotion 221.9 (26.9)   339.8 (20.3)        \n",
      "     A little triggered by emotion   166.4 (20.2)   348.7 (20.9)        \n",
      "     Somewhat triggered by emotion   228.9 (27.7)   356.6 (21.3)        \n",
      "     Very triggered by emotion        96.1 (11.6)   326.4 (19.5)        \n",
      "     Extremely triggered by emotion  112.1 (13.6)   300.3 (18.0)        \n",
      "  fearful (%)                                                      0.236\n",
      "     Not at all triggered by emotion 254.1 (30.9)   402.2 (24.1)        \n",
      "     A little triggered by emotion   208.0 (25.3)   394.3 (23.6)        \n",
      "     Somewhat triggered by emotion   195.4 (23.7)   403.4 (24.2)        \n",
      "     Very triggered by emotion        87.2 (10.6)   297.7 (17.8)        \n",
      "     Extremely triggered by emotion   79.0 ( 9.6)   171.4 (10.3)        \n"
     ]
    }
   ],
   "source": [
    "library(tableone)\n",
    "vars <- c(\"angry\", 'fearful')\n",
    "strata<-c(\"voted_in_18\")\n",
    "tabIPW <- svyCreateTableOne(vars = vars, strata=strata, test=FALSE, data = anes_design)\n",
    "print(tabIPW, smd = TRUE)"
   ]
  },
  {
   "cell_type": "markdown",
   "metadata": {},
   "source": [
    "Based on inspection there appears to be more emotive responses from people who voted vs people who didn't. This shows some promise of relationship. We'll turn to the tests to confirm."
   ]
  },
  {
   "cell_type": "markdown",
   "metadata": {},
   "source": [
    "### Based on your EDA, select an appropriate hypothesis test.  (5 points)\n",
    "Explain why your test is the most appropriate choice, focusing on its statistical assumptions."
   ]
  },
  {
   "cell_type": "markdown",
   "metadata": {},
   "source": [
    ">Because both measures are nominal and categorical. We will apply a non-parametic Chi-Square test of independence to determine if there is a significant relationship between the two variables. \n",
    ">We will use the test to evaluate the frequency of each answer from the emotive variables against the yes/no response in the turnout variable.\n",
    ">\n",
    "> Our hypothesis include\n",
    "> * $H_0(anger)$: There is no relationship between anger and voter turnout\n",
    "> * $H_A(anger)$: There is a relationship between anger/fear and voter turnout\n",
    "> * $H_0(fear)$: There is no relationship between fear and voter turnout\n",
    "> * $H_A(fear)$: There is a relationship between anger/fear and voter turnout\n",
    ">\n",
    "> Then, from the P values we receive, we will review which one is smaller comparatively, and associate the lower score with the stronger relationship (fear over anger) or (anger over fear) for those who (voted in 2018 vs not voted in 2018). "
   ]
  },
  {
   "cell_type": "markdown",
   "metadata": {},
   "source": [
    "### Conduct your test. (5 points)\n",
    "Explain (1) the statistical significance of your result, and (2) the practical significance of your result.  Make sure you relate your findings to the original research question."
   ]
  },
  {
   "cell_type": "code",
   "execution_count": 129,
   "metadata": {},
   "outputs": [
    {
     "name": "stdout",
     "output_type": "stream",
     "text": [
      "                                    Stratified by voted_in_18\n",
      "                                     Did not vote  Voted          p      test\n",
      "  n                                  826.9         1673.1                    \n",
      "  angry (%)                                                       <0.001     \n",
      "     Not at all triggered by emotion 221.9 (26.9)   339.8 (20.3)             \n",
      "     A little triggered by emotion   166.4 (20.2)   348.7 (20.9)             \n",
      "     Somewhat triggered by emotion   228.9 (27.7)   356.6 (21.3)             \n",
      "     Very triggered by emotion        96.1 (11.6)   326.4 (19.5)             \n",
      "     Extremely triggered by emotion  112.1 (13.6)   300.3 (18.0)             \n",
      "  fearful (%)                                                      0.005     \n",
      "     Not at all triggered by emotion 254.1 (30.9)   402.2 (24.1)             \n",
      "     A little triggered by emotion   208.0 (25.3)   394.3 (23.6)             \n",
      "     Somewhat triggered by emotion   195.4 (23.7)   403.4 (24.2)             \n",
      "     Very triggered by emotion        87.2 (10.6)   297.7 (17.8)             \n",
      "     Extremely triggered by emotion   79.0 ( 9.6)   171.4 (10.3)             \n",
      "                                    Stratified by voted_in_18\n",
      "                                     SMD   \n",
      "  n                                        \n",
      "  angry (%)                           0.299\n",
      "     Not at all triggered by emotion       \n",
      "     A little triggered by emotion         \n",
      "     Somewhat triggered by emotion         \n",
      "     Very triggered by emotion             \n",
      "     Extremely triggered by emotion        \n",
      "  fearful (%)                         0.236\n",
      "     Not at all triggered by emotion       \n",
      "     A little triggered by emotion         \n",
      "     Somewhat triggered by emotion         \n",
      "     Very triggered by emotion             \n",
      "     Extremely triggered by emotion        \n",
      "\n",
      "     ### Summary of categorical variables ### \n",
      "\n",
      "voted_in_18: Did not vote\n",
      "     var     n miss p.miss                           level  freq percent\n",
      "   angry 826.9  1.5    0.2 Not at all triggered by emotion 221.9    26.9\n",
      "                             A little triggered by emotion 166.4    20.2\n",
      "                             Somewhat triggered by emotion 228.9    27.7\n",
      "                                 Very triggered by emotion  96.1    11.6\n",
      "                            Extremely triggered by emotion 112.1    13.6\n",
      "                                                                        \n",
      " fearful 826.9  3.1    0.4 Not at all triggered by emotion 254.1    30.9\n",
      "                             A little triggered by emotion 208.0    25.3\n",
      "                             Somewhat triggered by emotion 195.4    23.7\n",
      "                                 Very triggered by emotion  87.2    10.6\n",
      "                            Extremely triggered by emotion  79.0     9.6\n",
      "                                                                        \n",
      " cum.percent\n",
      "        26.9\n",
      "        47.0\n",
      "        74.8\n",
      "        86.4\n",
      "       100.0\n",
      "            \n",
      "        30.9\n",
      "        56.1\n",
      "        79.8\n",
      "        90.4\n",
      "       100.0\n",
      "            \n",
      "------------------------------------------------------------ \n",
      "voted_in_18: Voted\n",
      "     var      n miss p.miss                           level  freq percent\n",
      "   angry 1673.1  1.3    0.1 Not at all triggered by emotion 339.8    20.3\n",
      "                              A little triggered by emotion 348.7    20.9\n",
      "                              Somewhat triggered by emotion 356.6    21.3\n",
      "                                  Very triggered by emotion 326.4    19.5\n",
      "                             Extremely triggered by emotion 300.3    18.0\n",
      "                                                                         \n",
      " fearful 1673.1  4.1    0.2 Not at all triggered by emotion 402.2    24.1\n",
      "                              A little triggered by emotion 394.3    23.6\n",
      "                              Somewhat triggered by emotion 403.4    24.2\n",
      "                                  Very triggered by emotion 297.7    17.8\n",
      "                             Extremely triggered by emotion 171.4    10.3\n",
      "                                                                         \n",
      " cum.percent\n",
      "        20.3\n",
      "        41.2\n",
      "        62.5\n",
      "        82.0\n",
      "       100.0\n",
      "            \n",
      "        24.1\n",
      "        47.7\n",
      "        71.9\n",
      "        89.7\n",
      "       100.0\n",
      "            \n",
      "\n",
      "p-values\n",
      "             pApprox pExact\n",
      "angry   0.0001200785     NA\n",
      "fearful 0.0047625092     NA\n",
      "\n",
      "Standardize mean differences\n",
      "           1 vs 2\n",
      "angry   0.2985618\n",
      "fearful 0.2364505\n"
     ]
    }
   ],
   "source": [
    "library(tableone)\n",
    "vars <- c(\"angry\", 'fearful')\n",
    "strata<-c(\"voted_in_18\")\n",
    "tabIPW <- svyCreateTableOne(vars = vars, strata=strata, \n",
    "                            testApprox=\"svyTestChisq\", data = anes_design)\n",
    "print(tabIPW, smd = TRUE)\n",
    "summary(tabIPW)\n"
   ]
  },
  {
   "cell_type": "markdown",
   "metadata": {},
   "source": [
    ">By looking at the p values, both emotions showed support for a relationship toward increased voter turnout. But going back to the question we can say that anger was a higher influence over fear due to its much lower p value.\n",
    ">\n",
    ">These results show statistical significance.\n",
    ">\n",
    ">Last, because the test results have been weighted to the population, the standard mean difference obtained is the effect size.\n",
    ">\n",
    ">The SMD results show practical significance. If you want more people to show up at the ballot box, just make them mad."
   ]
  },
  {
   "cell_type": "markdown",
   "metadata": {},
   "source": [
    "## Question 5: Select a fifth question that you believe is important for understanding the behavior of voters"
   ]
  },
  {
   "cell_type": "markdown",
   "metadata": {},
   "source": [
    "### Clearly argue for the relevance of this question.  (10 points)\n",
    "In words, clearly state your research question and argue why it is important for understanding the recent voting behavior. Explain it as if you were presenting to an audience that includes technical and non technical members.\n",
    "\n",
    "Explain how your variables are operationalized.  Comment on any gaps that you can identify between your operational definitions and the concepts you are trying to study."
   ]
  },
  {
   "cell_type": "code",
   "execution_count": null,
   "metadata": {},
   "outputs": [],
   "source": []
  },
  {
   "cell_type": "markdown",
   "metadata": {},
   "source": [
    "### Perform EDA and select your hypothesis test (5 points)\n",
    "\n",
    "Perform an exploratory data analysis (EDA) of the relevant variables.\n",
    "\n",
    "This should include a treatment of non-response and other special codes, basic sanity checks, and a justification for any values that are removed.  Use visual tools to assess the relationship among your variables and comment on any features you find.\n",
    "\n",
    "Based on your EDA, select an appropriate hypothesis test.\n",
    "Explain why your test is the most appropriate choice, focusing on its statistical assumptions."
   ]
  },
  {
   "cell_type": "code",
   "execution_count": null,
   "metadata": {},
   "outputs": [],
   "source": [
    "pid1d, pid1r\n",
    "finworry\n",
    "loseins\n",
    "\n"
   ]
  },
  {
   "cell_type": "markdown",
   "metadata": {},
   "source": [
    "### Conduct your test. (2 points)\n",
    "Explain (1) the statistical significance of your result, and (2) the practical significance of your result."
   ]
  },
  {
   "cell_type": "code",
   "execution_count": null,
   "metadata": {},
   "outputs": [],
   "source": []
  },
  {
   "cell_type": "markdown",
   "metadata": {},
   "source": [
    "### Conclusion (3 points)\n",
    "Clearly state the conclusion of your hypothesis test and how it relates to your research question.\n",
    "\n",
    "Finally, briefly present your conclusion in words as if you were presenting to an audience that includes technical and non technical members."
   ]
  },
  {
   "cell_type": "code",
   "execution_count": null,
   "metadata": {},
   "outputs": [],
   "source": []
  }
 ],
 "metadata": {
  "kernelspec": {
   "display_name": "R",
   "language": "R",
   "name": "ir"
  },
  "language_info": {
   "codemirror_mode": "r",
   "file_extension": ".r",
   "mimetype": "text/x-r-source",
   "name": "R",
   "pygments_lexer": "r",
   "version": "3.5.1"
  },
  "toc": {
   "base_numbering": 1,
   "nav_menu": {},
   "number_sections": true,
   "sideBar": true,
   "skip_h1_title": false,
   "title_cell": "Table of Contents",
   "title_sidebar": "Contents",
   "toc_cell": true,
   "toc_position": {},
   "toc_section_display": true,
   "toc_window_display": false
  },
  "varInspector": {
   "cols": {
    "lenName": 16,
    "lenType": 16,
    "lenVar": 40
   },
   "kernels_config": {
    "python": {
     "delete_cmd_postfix": "",
     "delete_cmd_prefix": "del ",
     "library": "var_list.py",
     "varRefreshCmd": "print(var_dic_list())"
    },
    "r": {
     "delete_cmd_postfix": ") ",
     "delete_cmd_prefix": "rm(",
     "library": "var_list.r",
     "varRefreshCmd": "cat(var_dic_list()) "
    }
   },
   "types_to_exclude": [
    "module",
    "function",
    "builtin_function_or_method",
    "instance",
    "_Feature"
   ],
   "window_display": false
  }
 },
 "nbformat": 4,
 "nbformat_minor": 2
}
