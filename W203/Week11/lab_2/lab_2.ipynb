{
 "cells": [
  {
   "cell_type": "markdown",
   "metadata": {
    "toc": true
   },
   "source": [
    "<h1>Table of Contents<span class=\"tocSkip\"></span></h1>\n",
    "<div class=\"toc\"><ul class=\"toc-item\"><li><span><a href=\"#Lab-2:-Comparing-Means\" data-toc-modified-id=\"Lab-2:-Comparing-Means-1\"><span class=\"toc-item-num\">1&nbsp;&nbsp;</span>Lab 2: Comparing Means</a></span><ul class=\"toc-item\"><li><span><a href=\"#w203-Statistics-for-Data-Science\" data-toc-modified-id=\"w203-Statistics-for-Data-Science-1.1\"><span class=\"toc-item-num\">1.1&nbsp;&nbsp;</span>w203 Statistics for Data Science</a></span></li><li><span><a href=\"#The-Data\" data-toc-modified-id=\"The-Data-1.2\"><span class=\"toc-item-num\">1.2&nbsp;&nbsp;</span>The Data</a></span></li><li><span><a href=\"#Assignment\" data-toc-modified-id=\"Assignment-1.3\"><span class=\"toc-item-num\">1.3&nbsp;&nbsp;</span>Assignment</a></span></li><li><span><a href=\"#Submission-Guidelines\" data-toc-modified-id=\"Submission-Guidelines-1.4\"><span class=\"toc-item-num\">1.4&nbsp;&nbsp;</span>Submission Guidelines</a></span></li></ul></li><li><span><a href=\"#Research-Questions\" data-toc-modified-id=\"Research-Questions-2\"><span class=\"toc-item-num\">2&nbsp;&nbsp;</span>Research Questions</a></span><ul class=\"toc-item\"><li><span><a href=\"#Question-1:-Do-US-voters-have-more-respect-for-the-police-or-for-journalists?\" data-toc-modified-id=\"Question-1:-Do-US-voters-have-more-respect-for-the-police-or-for-journalists?-2.1\"><span class=\"toc-item-num\">2.1&nbsp;&nbsp;</span>Question 1: Do US voters have more respect for the police or for journalists?</a></span><ul class=\"toc-item\"><li><span><a href=\"#Introduce-your-topic-briefly.--(5-points)\" data-toc-modified-id=\"Introduce-your-topic-briefly.--(5-points)-2.1.1\"><span class=\"toc-item-num\">2.1.1&nbsp;&nbsp;</span>Introduce your topic briefly.  (5 points)</a></span></li><li><span><a href=\"#Perform-an-exploratory-data-analysis-(EDA)-of-the-relevant-variables.-(5-points)\" data-toc-modified-id=\"Perform-an-exploratory-data-analysis-(EDA)-of-the-relevant-variables.-(5-points)-2.1.2\"><span class=\"toc-item-num\">2.1.2&nbsp;&nbsp;</span>Perform an exploratory data analysis (EDA) of the relevant variables. (5 points)</a></span></li><li><span><a href=\"#Based-on-your-EDA,-select-an-appropriate-hypothesis-test.--(5-points)\" data-toc-modified-id=\"Based-on-your-EDA,-select-an-appropriate-hypothesis-test.--(5-points)-2.1.3\"><span class=\"toc-item-num\">2.1.3&nbsp;&nbsp;</span>Based on your EDA, select an appropriate hypothesis test.  (5 points)</a></span></li><li><span><a href=\"#Conduct-your-test.-(5-points)\" data-toc-modified-id=\"Conduct-your-test.-(5-points)-2.1.4\"><span class=\"toc-item-num\">2.1.4&nbsp;&nbsp;</span>Conduct your test. (5 points)</a></span></li></ul></li><li><span><a href=\"#Question-2:-Are-Republican-voters-older-or-younger-than-Democratic-voters?\" data-toc-modified-id=\"Question-2:-Are-Republican-voters-older-or-younger-than-Democratic-voters?-2.2\"><span class=\"toc-item-num\">2.2&nbsp;&nbsp;</span>Question 2: Are Republican voters older or younger than Democratic voters?</a></span><ul class=\"toc-item\"><li><span><a href=\"#Introduce-your-topic-briefly.--(5-points)\" data-toc-modified-id=\"Introduce-your-topic-briefly.--(5-points)-2.2.1\"><span class=\"toc-item-num\">2.2.1&nbsp;&nbsp;</span>Introduce your topic briefly.  (5 points)</a></span></li><li><span><a href=\"#Perform-an-exploratory-data-analysis-(EDA)-of-the-relevant-variables.-(5-points)\" data-toc-modified-id=\"Perform-an-exploratory-data-analysis-(EDA)-of-the-relevant-variables.-(5-points)-2.2.2\"><span class=\"toc-item-num\">2.2.2&nbsp;&nbsp;</span>Perform an exploratory data analysis (EDA) of the relevant variables. (5 points)</a></span></li><li><span><a href=\"#Based-on-your-EDA,-select-an-appropriate-hypothesis-test.--(5-points)\" data-toc-modified-id=\"Based-on-your-EDA,-select-an-appropriate-hypothesis-test.--(5-points)-2.2.3\"><span class=\"toc-item-num\">2.2.3&nbsp;&nbsp;</span>Based on your EDA, select an appropriate hypothesis test.  (5 points)</a></span></li><li><span><a href=\"#Conduct-your-test.-(5-points)\" data-toc-modified-id=\"Conduct-your-test.-(5-points)-2.2.4\"><span class=\"toc-item-num\">2.2.4&nbsp;&nbsp;</span>Conduct your test. (5 points)</a></span></li></ul></li><li><span><a href=\"#Question-3:-Do-a-majority-of-independent-voters-believe-that-the-federal-investigations-of-Russian-election-interference-are-baseless?\" data-toc-modified-id=\"Question-3:-Do-a-majority-of-independent-voters-believe-that-the-federal-investigations-of-Russian-election-interference-are-baseless?-2.3\"><span class=\"toc-item-num\">2.3&nbsp;&nbsp;</span>Question 3: Do a majority of independent voters believe that the federal investigations of Russian election interference are baseless?</a></span><ul class=\"toc-item\"><li><span><a href=\"#Introduce-your-topic-briefly.--(5-points)\" data-toc-modified-id=\"Introduce-your-topic-briefly.--(5-points)-2.3.1\"><span class=\"toc-item-num\">2.3.1&nbsp;&nbsp;</span>Introduce your topic briefly.  (5 points)</a></span></li><li><span><a href=\"#Perform-an-exploratory-data-analysis-(EDA)-of-the-relevant-variables.-(5-points)\" data-toc-modified-id=\"Perform-an-exploratory-data-analysis-(EDA)-of-the-relevant-variables.-(5-points)-2.3.2\"><span class=\"toc-item-num\">2.3.2&nbsp;&nbsp;</span>Perform an exploratory data analysis (EDA) of the relevant variables. (5 points)</a></span></li><li><span><a href=\"#Based-on-your-EDA,-select-an-appropriate-hypothesis-test.--(5-points)\" data-toc-modified-id=\"Based-on-your-EDA,-select-an-appropriate-hypothesis-test.--(5-points)-2.3.3\"><span class=\"toc-item-num\">2.3.3&nbsp;&nbsp;</span>Based on your EDA, select an appropriate hypothesis test.  (5 points)</a></span></li><li><span><a href=\"#Conduct-your-test.-(5-points)\" data-toc-modified-id=\"Conduct-your-test.-(5-points)-2.3.4\"><span class=\"toc-item-num\">2.3.4&nbsp;&nbsp;</span>Conduct your test. (5 points)</a></span></li></ul></li><li><span><a href=\"#Question-4:-Was-anger-or-fear-more-effective-at-driving-increases-in-voter-turnout-from-2016-to-2018?\" data-toc-modified-id=\"Question-4:-Was-anger-or-fear-more-effective-at-driving-increases-in-voter-turnout-from-2016-to-2018?-2.4\"><span class=\"toc-item-num\">2.4&nbsp;&nbsp;</span>Question 4: Was anger or fear more effective at driving increases in voter turnout from 2016 to 2018?</a></span><ul class=\"toc-item\"><li><span><a href=\"#Introduce-your-topic-briefly.--(5-points)\" data-toc-modified-id=\"Introduce-your-topic-briefly.--(5-points)-2.4.1\"><span class=\"toc-item-num\">2.4.1&nbsp;&nbsp;</span>Introduce your topic briefly.  (5 points)</a></span></li><li><span><a href=\"#Perform-an-exploratory-data-analysis-(EDA)-of-the-relevant-variables.-(5-points)\" data-toc-modified-id=\"Perform-an-exploratory-data-analysis-(EDA)-of-the-relevant-variables.-(5-points)-2.4.2\"><span class=\"toc-item-num\">2.4.2&nbsp;&nbsp;</span>Perform an exploratory data analysis (EDA) of the relevant variables. (5 points)</a></span></li><li><span><a href=\"#Based-on-your-EDA,-select-an-appropriate-hypothesis-test.--(5-points)\" data-toc-modified-id=\"Based-on-your-EDA,-select-an-appropriate-hypothesis-test.--(5-points)-2.4.3\"><span class=\"toc-item-num\">2.4.3&nbsp;&nbsp;</span>Based on your EDA, select an appropriate hypothesis test.  (5 points)</a></span></li><li><span><a href=\"#Conduct-your-test.-(5-points)\" data-toc-modified-id=\"Conduct-your-test.-(5-points)-2.4.4\"><span class=\"toc-item-num\">2.4.4&nbsp;&nbsp;</span>Conduct your test. (5 points)</a></span></li></ul></li><li><span><a href=\"#Question-5:-Select-a-fifth-question-that-you-believe-is-important-for-understanding-the-behavior-of-voters\" data-toc-modified-id=\"Question-5:-Select-a-fifth-question-that-you-believe-is-important-for-understanding-the-behavior-of-voters-2.5\"><span class=\"toc-item-num\">2.5&nbsp;&nbsp;</span>Question 5: Select a fifth question that you believe is important for understanding the behavior of voters</a></span><ul class=\"toc-item\"><li><span><a href=\"#Clearly-argue-for-the-relevance-of-this-question.--(10-points)\" data-toc-modified-id=\"Clearly-argue-for-the-relevance-of-this-question.--(10-points)-2.5.1\"><span class=\"toc-item-num\">2.5.1&nbsp;&nbsp;</span>Clearly argue for the relevance of this question.  (10 points)</a></span></li><li><span><a href=\"#Perform-EDA-and-select-your-hypothesis-test-(5-points)\" data-toc-modified-id=\"Perform-EDA-and-select-your-hypothesis-test-(5-points)-2.5.2\"><span class=\"toc-item-num\">2.5.2&nbsp;&nbsp;</span>Perform EDA and select your hypothesis test (5 points)</a></span></li><li><span><a href=\"#Conduct-your-test.-(2-points)\" data-toc-modified-id=\"Conduct-your-test.-(2-points)-2.5.3\"><span class=\"toc-item-num\">2.5.3&nbsp;&nbsp;</span>Conduct your test. (2 points)</a></span></li><li><span><a href=\"#Conclusion-(3-points)\" data-toc-modified-id=\"Conclusion-(3-points)-2.5.4\"><span class=\"toc-item-num\">2.5.4&nbsp;&nbsp;</span>Conclusion (3 points)</a></span></li></ul></li></ul></li></ul></div>"
   ]
  },
  {
   "cell_type": "markdown",
   "metadata": {},
   "source": [
    "# Lab 2: Comparing Means\n",
    "## w203 Statistics for Data Science\n",
    "\n",
    "## The Data\n",
    "\n",
    "The American National Election Studies (ANES) conducts surveys of voters in the United States.  While its flagship survey occurs every four years at the time of each presidential election, ANES also conducts pilot studies midway between these elections.  You are provided with data from the 2018 ANES Pilot Study.\n",
    "\n",
    "An important disclaimer is that the ANES Pilot Study does not represent a random sample of the U.S. population.  Participants are taken from the YouGov panel, which is an online system in which users earn rewards for completing questionnaires.  This feature limits the extent to which results generalize to the U.S. population.\n",
    "\n",
    "To account for differences between the YouGov panel and the U.S. Population, ANES assigns a survey weight to each observation.  This weight estimates the degree to which a citizen with certain observed characteristics is over- or under-represented in the sample.  For the purposes of this assignment, however, you are not asked to use the survey weights.  Instead, you should view your analysis as pertaining to the population of YouGov participants.  (For groups with a strong interest in survey analysis, we recommend that you read about R's [survey package](http://r-survey.r-forge.r-project.org/survey/).  We will assign a very small number of bonus points (up to 3) to any group that correctly applies the survey weights and includes a clear explanation of how these work).\n",
    "\n",
    "For a glimpse into some of the intricacies that go into the design of this study, take a look at the introduction to the [ANES User's Guide and Codebook](https://electionstudies.org/wp-content/uploads/2019/02/anes_pilot_2018_userguidecodebook.pdf)."
   ]
  },
  {
   "cell_type": "code",
   "execution_count": null,
   "metadata": {},
   "outputs": [],
   "source": [
    "A = read.csv(\"anes_pilot_2018.csv\")"
   ]
  },
  {
   "cell_type": "markdown",
   "metadata": {},
   "source": [
    "Following is an example of a question asked on the ANES survey:\n",
    "\n",
    "> How difficult was it for you to vote in this last election?\n",
    "\n",
    "The variable `votehard` records answers to this question, with the following encoding:\n",
    "\n",
    "- -1 inapplicable, legitimate skip\n",
    "- 1 Not difficult at all\n",
    "- 2 A little difficult\n",
    "- 3 Moderately difficult\n",
    "- 4 Very difficult\n",
    "- 5 Extremely difficult\n",
    "\n",
    "\n",
    "To see the precise form of each question, take a look at the [Questionnaire Specifications](https://electionstudies.org/wp-content/uploads/2018/12/anes_pilot_2018_questionnaire.pdf)."
   ]
  },
  {
   "cell_type": "markdown",
   "metadata": {},
   "source": [
    "## Assignment\n",
    "\n",
    "You will use the ANES dataset to address five research questions.  For each question, you will need to operationalize the concepts (selecting appropriate variables and possibly transforming them), conduct exploratory analysis, deal with non-response and other special codes, perform sanity checks, select an appropriate hypothesis test, conduct the test, and interpret your results.  When selecting a hypothesis test, you may choose from the tests covered in the async, including both paired and unpaired t-tests, as well as their nonparametric analogues.  You may select a one-tailed or two-tailed test. \n",
    "\n",
    "Please organize your response according to the prompts in this notebook.\n",
    "\n",
    "Note that this is a group lab.  There is a **maximum of three students per team.** You are free to form a group of your choice amongst the students in your live section.\n",
    "Although you may work on your own, we do not recommend this (we have found that individuals tend to do worse than teams on past labs).\n",
    "\n",
    "Please limit your submission to 15 pages in total.  This means that you will have to carefully prioritize which visualizations to include.\n",
    "\n",
    "**Hint:** When answering questions about the potential gaps between conceptual and operational definitions it is often helpful to ask yourself \"If I could do anything I wanted, including borrowing Rick's portal gun, or doing an FMRI scan on all survey takers, to operationalize this particular concept how would I do it\" and then explain how that is different than what is actually measured.   "
   ]
  },
  {
   "cell_type": "markdown",
   "metadata": {},
   "source": [
    "## Submission Guidelines\n",
    "- Submit _one_ report per group.\n",
    "- Submit *both* your pdf report as well as your source file.\n",
    "- **Only analyses and comments included in your PDF report will be considered for grading.**\n",
    "- Include names of group members on the front page of the submitted report.\n",
    "- Naming structure of submitted files:\n",
    "    - PDF report: [student_surname_1]\\_[student_surname_2][\\_*]\\_lab\\_2.pdf\n",
    "    - Jupyter Notebook: [student_surname_1]\\_[student_surname_2][\\_*]\\_lab\\_2.ipynb\n"
   ]
  },
  {
   "cell_type": "markdown",
   "metadata": {},
   "source": [
    "# Research Questions"
   ]
  },
  {
   "cell_type": "markdown",
   "metadata": {},
   "source": [
    "## Question 1: Do US voters have more respect for the police or for journalists?"
   ]
  },
  {
   "cell_type": "markdown",
   "metadata": {},
   "source": [
    "### Introduce your topic briefly.  (5 points)\n",
    "Explain how your variables are operationalized.  Comment on any gaps that you can identify between your operational definitions and the concepts you are trying to study."
   ]
  },
  {
   "cell_type": "code",
   "execution_count": null,
   "metadata": {
    "scrolled": true
   },
   "outputs": [],
   "source": []
  },
  {
   "cell_type": "markdown",
   "metadata": {},
   "source": [
    "### Perform an exploratory data analysis (EDA) of the relevant variables. (5 points)\n",
    "This should include a treatment of non-response and other special codes, basic sanity checks, and a justification for any values that are removed.  Use visual tools to assess the relationship among your variables and comment on any features you find."
   ]
  },
  {
   "cell_type": "code",
   "execution_count": null,
   "metadata": {},
   "outputs": [],
   "source": []
  },
  {
   "cell_type": "markdown",
   "metadata": {},
   "source": [
    "### Based on your EDA, select an appropriate hypothesis test.  (5 points)\n",
    "Explain why your test is the most appropriate choice, focusing on its statistical assumptions."
   ]
  },
  {
   "cell_type": "code",
   "execution_count": null,
   "metadata": {},
   "outputs": [],
   "source": []
  },
  {
   "cell_type": "markdown",
   "metadata": {},
   "source": [
    "### Conduct your test. (5 points)\n",
    "Explain (1) the statistical significance of your result, and (2) the practical significance of your result.  Make sure you relate your findings to the original research question."
   ]
  },
  {
   "cell_type": "code",
   "execution_count": null,
   "metadata": {},
   "outputs": [],
   "source": []
  },
  {
   "cell_type": "markdown",
   "metadata": {},
   "source": [
    "## Question 2: Are Republican voters older or younger than Democratic voters?"
   ]
  },
  {
   "cell_type": "markdown",
   "metadata": {},
   "source": [
    "### Introduce your topic briefly.  (5 points)\n",
    "Explain how your variables are operationalized.  Comment on any gaps that you can identify between your operational definitions and the concepts you are trying to study."
   ]
  },
  {
   "cell_type": "code",
   "execution_count": null,
   "metadata": {},
   "outputs": [],
   "source": []
  },
  {
   "cell_type": "markdown",
   "metadata": {},
   "source": [
    "### Perform an exploratory data analysis (EDA) of the relevant variables. (5 points)\n",
    "This should include a treatment of non-response and other special codes, basic sanity checks, and a justification for any values that are removed.  Use visual tools to assess the relationship among your variables and comment on any features you find."
   ]
  },
  {
   "cell_type": "code",
   "execution_count": null,
   "metadata": {},
   "outputs": [],
   "source": []
  },
  {
   "cell_type": "markdown",
   "metadata": {},
   "source": [
    "### Based on your EDA, select an appropriate hypothesis test.  (5 points)\n",
    "Explain why your test is the most appropriate choice, focusing on its statistical assumptions."
   ]
  },
  {
   "cell_type": "code",
   "execution_count": null,
   "metadata": {},
   "outputs": [],
   "source": []
  },
  {
   "cell_type": "markdown",
   "metadata": {},
   "source": [
    "### Conduct your test. (5 points)\n",
    "Explain (1) the statistical significance of your result, and (2) the practical significance of your result.  Make sure you relate your findings to the original research question."
   ]
  },
  {
   "cell_type": "code",
   "execution_count": null,
   "metadata": {},
   "outputs": [],
   "source": []
  },
  {
   "cell_type": "markdown",
   "metadata": {},
   "source": [
    "## Question 3: Do a majority of independent voters believe that the federal investigations of Russian election interference are baseless?"
   ]
  },
  {
   "cell_type": "markdown",
   "metadata": {},
   "source": [
    "### Introduce your topic briefly.  (5 points)\n",
    "Explain how your variables are operationalized.  Comment on any gaps that you can identify between your operational definitions and the concepts you are trying to study."
   ]
  },
  {
   "cell_type": "code",
   "execution_count": null,
   "metadata": {},
   "outputs": [],
   "source": []
  },
  {
   "cell_type": "markdown",
   "metadata": {},
   "source": [
    "### Perform an exploratory data analysis (EDA) of the relevant variables. (5 points)\n",
    "This should include a treatment of non-response and other special codes, basic sanity checks, and a justification for any values that are removed.  Use visual tools to assess the relationship among your variables and comment on any features you find."
   ]
  },
  {
   "cell_type": "code",
   "execution_count": null,
   "metadata": {},
   "outputs": [],
   "source": []
  },
  {
   "cell_type": "markdown",
   "metadata": {},
   "source": [
    "### Based on your EDA, select an appropriate hypothesis test.  (5 points)\n",
    "Explain why your test is the most appropriate choice, focusing on its statistical assumptions."
   ]
  },
  {
   "cell_type": "code",
   "execution_count": null,
   "metadata": {},
   "outputs": [],
   "source": []
  },
  {
   "cell_type": "markdown",
   "metadata": {},
   "source": [
    "### Conduct your test. (5 points)\n",
    "Explain (1) the statistical significance of your result, and (2) the practical significance of your result.  Make sure you relate your findings to the original research question."
   ]
  },
  {
   "cell_type": "code",
   "execution_count": null,
   "metadata": {},
   "outputs": [],
   "source": []
  },
  {
   "cell_type": "markdown",
   "metadata": {},
   "source": [
    "## Question 4: Was anger or fear more effective at driving increases in voter turnout from 2016 to 2018?"
   ]
  },
  {
   "cell_type": "markdown",
   "metadata": {},
   "source": [
    "### Introduce your topic briefly.  (5 points)\n",
    "Explain how your variables are operationalized.  Comment on any gaps that you can identify between your operational definitions and the concepts you are trying to study."
   ]
  },
  {
   "cell_type": "code",
   "execution_count": null,
   "metadata": {},
   "outputs": [],
   "source": []
  },
  {
   "cell_type": "markdown",
   "metadata": {},
   "source": [
    "### Perform an exploratory data analysis (EDA) of the relevant variables. (5 points)\n",
    "This should include a treatment of non-response and other special codes, basic sanity checks, and a justification for any values that are removed.  Use visual tools to assess the relationship among your variables and comment on any features you find."
   ]
  },
  {
   "cell_type": "code",
   "execution_count": null,
   "metadata": {},
   "outputs": [],
   "source": []
  },
  {
   "cell_type": "markdown",
   "metadata": {},
   "source": [
    "### Based on your EDA, select an appropriate hypothesis test.  (5 points)\n",
    "Explain why your test is the most appropriate choice, focusing on its statistical assumptions."
   ]
  },
  {
   "cell_type": "code",
   "execution_count": null,
   "metadata": {},
   "outputs": [],
   "source": []
  },
  {
   "cell_type": "markdown",
   "metadata": {},
   "source": [
    "### Conduct your test. (5 points)\n",
    "Explain (1) the statistical significance of your result, and (2) the practical significance of your result.  Make sure you relate your findings to the original research question."
   ]
  },
  {
   "cell_type": "code",
   "execution_count": null,
   "metadata": {},
   "outputs": [],
   "source": []
  },
  {
   "cell_type": "markdown",
   "metadata": {},
   "source": [
    "## Question 5: Select a fifth question that you believe is important for understanding the behavior of voters"
   ]
  },
  {
   "cell_type": "markdown",
   "metadata": {},
   "source": [
    "### Clearly argue for the relevance of this question.  (10 points)\n",
    "In words, clearly state your research question and argue why it is important for understanding the recent voting behavior. Explain it as if you were presenting to an audience that includes technical and non technical members.\n",
    "\n",
    "Explain how your variables are operationalized.  Comment on any gaps that you can identify between your operational definitions and the concepts you are trying to study."
   ]
  },
  {
   "cell_type": "code",
   "execution_count": null,
   "metadata": {},
   "outputs": [],
   "source": []
  },
  {
   "cell_type": "markdown",
   "metadata": {},
   "source": [
    "### Perform EDA and select your hypothesis test (5 points)\n",
    "\n",
    "Perform an exploratory data analysis (EDA) of the relevant variables.\n",
    "\n",
    "This should include a treatment of non-response and other special codes, basic sanity checks, and a justification for any values that are removed.  Use visual tools to assess the relationship among your variables and comment on any features you find.\n",
    "\n",
    "Based on your EDA, select an appropriate hypothesis test.\n",
    "Explain why your test is the most appropriate choice, focusing on its statistical assumptions."
   ]
  },
  {
   "cell_type": "code",
   "execution_count": null,
   "metadata": {},
   "outputs": [],
   "source": []
  },
  {
   "cell_type": "markdown",
   "metadata": {},
   "source": [
    "### Conduct your test. (2 points)\n",
    "Explain (1) the statistical significance of your result, and (2) the practical significance of your result."
   ]
  },
  {
   "cell_type": "code",
   "execution_count": null,
   "metadata": {},
   "outputs": [],
   "source": []
  },
  {
   "cell_type": "markdown",
   "metadata": {},
   "source": [
    "### Conclusion (3 points)\n",
    "Clearly state the conclusion of your hypothesis test and how it relates to your research question.\n",
    "\n",
    "Finally, briefly present your conclusion in words as if you were presenting to an audience that includes technical and non technical members."
   ]
  },
  {
   "cell_type": "code",
   "execution_count": null,
   "metadata": {},
   "outputs": [],
   "source": []
  }
 ],
 "metadata": {
  "kernelspec": {
   "display_name": "R",
   "language": "R",
   "name": "ir"
  },
  "language_info": {
   "codemirror_mode": "r",
   "file_extension": ".r",
   "mimetype": "text/x-r-source",
   "name": "R",
   "pygments_lexer": "r",
   "version": "3.5.1"
  },
  "toc": {
   "base_numbering": 1,
   "nav_menu": {},
   "number_sections": true,
   "sideBar": true,
   "skip_h1_title": false,
   "title_cell": "Table of Contents",
   "title_sidebar": "Contents",
   "toc_cell": true,
   "toc_position": {},
   "toc_section_display": true,
   "toc_window_display": false
  },
  "varInspector": {
   "cols": {
    "lenName": 16,
    "lenType": 16,
    "lenVar": 40
   },
   "kernels_config": {
    "python": {
     "delete_cmd_postfix": "",
     "delete_cmd_prefix": "del ",
     "library": "var_list.py",
     "varRefreshCmd": "print(var_dic_list())"
    },
    "r": {
     "delete_cmd_postfix": ") ",
     "delete_cmd_prefix": "rm(",
     "library": "var_list.r",
     "varRefreshCmd": "cat(var_dic_list()) "
    }
   },
   "types_to_exclude": [
    "module",
    "function",
    "builtin_function_or_method",
    "instance",
    "_Feature"
   ],
   "window_display": false
  }
 },
 "nbformat": 4,
 "nbformat_minor": 2
}
