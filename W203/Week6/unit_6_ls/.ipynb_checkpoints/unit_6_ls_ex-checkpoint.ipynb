{
 "cells": [
  {
   "cell_type": "markdown",
   "metadata": {},
   "source": [
    "<h1>Unit 6 Live Session </center> </h1>\n",
    "<h3> W203 Instructional Team </h3>"
   ]
  },
  {
   "cell_type": "markdown",
   "metadata": {},
   "source": [
    "<h2> Sampling Distributions and the Central Limit Theorem </h2>\n",
    "\n",
    "<a><img src=\"https://i.imgflip.com/2b7ve4.jpg\"/></a>"
   ]
  },
  {
   "cell_type": "markdown",
   "metadata": {},
   "source": [
    "### 0.1 Class Announcements\n",
    "1. Announcement 1\n",
    "2. Announcement 2"
   ]
  },
  {
   "cell_type": "markdown",
   "metadata": {},
   "source": [
    "<h3> 0.2 Getting to This Document</h3>\n",
    "\n",
    "If you have not cloned the unit_6_ls repo yet then on the command line\n",
    "\n",
    "1. git clone https://github.com/w203-summer-19/unit_6_ls.git \n",
    "\n",
    "2. cd unit_6_ls\n",
    "\n",
    "3. git checkout penner_sections\n",
    "\n",
    "If you have cloned this repo already then on the command line\n",
    "\n",
    "1. cd unit_6_ls\n",
    "\n",
    "2. git fetch\n",
    "\n",
    "3. git checkout penner_sections\n",
    "\n"
   ]
  },
  {
   "cell_type": "markdown",
   "metadata": {},
   "source": [
    "<h3> 1 Statistic Review </h3>\n",
    "\n",
    "** 1.1 Statistic: **\n",
    "\n",
    "Recall from your study materials that a statistic is some function of a sample $\\{X_i\\}_{i=1}^n$, \n",
    "\n",
    "$$ \\text{ Statistic } = f(X_1,X_2, \\cdots ,X_n) $$\n",
    "\n",
    "\n",
    "** 1.2 Sampling Regime: ** \n",
    "\n",
    "A sample $\\{X_i\\}_{i=1}^n$ is just a collections of realization from the random variable $X$ collected according to a sampling regime.\n",
    "\n",
    "Example sampling regimes,\n",
    "\n",
    "* Choose random person from the phone book and ask their education level, if they have a college degree collect the education level of this persons extended family, if not choose another person at random. \n",
    "\n",
    "\n",
    "* Choose random person from the phone book and ask their education level, if they have less than a college degree collect the education level of this persons extended family, if not choose another person at random.\n",
    "\n",
    "** 1.3 Sample Distribution of $f(\\{X_i\\}_{i=1}^n)$: **\n",
    "\n",
    "The probability of the statistic taking on any value depends on $X$, $f$, and the way $\\{X_i\\}$ is gathered.\n",
    "\n",
    "$$ \\text{ Sampling Distribution of $f$ } = \\text{ Distribution of $X$ } + \\text{ Sampling Regime of $\\{X_i\\}_{i=1}^n$} + \\text{Properties of $f$} $$\n",
    "\n",
    "Change any of these three and the sampling distribution will likely change."
   ]
  },
  {
   "cell_type": "markdown",
   "metadata": {},
   "source": [
    "<h3> 2 Sampling Distributions </h3>"
   ]
  },
  {
   "cell_type": "markdown",
   "metadata": {},
   "source": [
    "You are conducting an experiment involving flipping a coin several times. You have been assured that the probability of getting a heads is $p=0.7$. Based on the outcome of that coin flip you compute the value of the following random variable.\n",
    "$$ \n",
    "X = \n",
    "\\begin{cases} \n",
    "0 & \\text{ if heads } \\\\\n",
    "1 & \\text{ if tails } \n",
    "\\end{cases} \n",
    "$$"
   ]
  },
  {
   "cell_type": "markdown",
   "metadata": {},
   "source": [
    "** 2.1 ** Compute the distribution of the random variable $X$, then compute the sampling distribution of the average of two observations from $X$. "
   ]
  },
  {
   "cell_type": "code",
   "execution_count": null,
   "metadata": {},
   "outputs": [],
   "source": []
  },
  {
   "cell_type": "markdown",
   "metadata": {},
   "source": [
    "**2.2**  In words, what is the difference between the distribution of a random variable $X$ and the sampling distribution of a statistic based on $n$ observations from $X$?"
   ]
  },
  {
   "cell_type": "code",
   "execution_count": null,
   "metadata": {},
   "outputs": [],
   "source": []
  },
  {
   "cell_type": "markdown",
   "metadata": {},
   "source": [
    "**2.3** Why do we want to know things about the sampling distribution of a statistic?"
   ]
  },
  {
   "cell_type": "code",
   "execution_count": null,
   "metadata": {},
   "outputs": [],
   "source": []
  },
  {
   "cell_type": "markdown",
   "metadata": {},
   "source": [
    "** 2.4 ** If you drew 10 observations and got a value of $\\overline{X}_{10} = 0.9$ would you be suspicious about whether $p = 0.7$ is in fact true? What if you calculated $\\overline{X}_{1000} = 0.9$? What is the difference if any?"
   ]
  },
  {
   "cell_type": "code",
   "execution_count": null,
   "metadata": {},
   "outputs": [],
   "source": []
  },
  {
   "cell_type": "markdown",
   "metadata": {},
   "source": [
    "<h3> 3 Sampling from Bernoulli Distribution </h3>\n",
    "\n",
    "Recall that a Bernoulli random variable with parameter $p$ takes on just two values: 1, with probability $p$; and 0, with probability $1-p$.  We choose this variable because (1) it's very simple, and (2) its distribution is distinctly non-normal. \n",
    "\n",
    "Oddly it turns out that (base) R doesn't have a Bernoulli function.  To simulate draws from a Bernoulli variable, you can either ..."
   ]
  },
  {
   "cell_type": "markdown",
   "metadata": {},
   "source": [
    "**3.1** Use R's 'sample' command to select values from {0,1}"
   ]
  },
  {
   "cell_type": "code",
   "execution_count": 1,
   "metadata": {},
   "outputs": [
    {
     "data": {
      "text/html": [
       "<ol class=list-inline>\n",
       "\t<li>0</li>\n",
       "\t<li>0</li>\n",
       "\t<li>1</li>\n",
       "</ol>\n"
      ],
      "text/latex": [
       "\\begin{enumerate*}\n",
       "\\item 0\n",
       "\\item 0\n",
       "\\item 1\n",
       "\\end{enumerate*}\n"
      ],
      "text/markdown": [
       "1. 0\n",
       "2. 0\n",
       "3. 1\n",
       "\n",
       "\n"
      ],
      "text/plain": [
       "[1] 0 0 1"
      ]
     },
     "metadata": {},
     "output_type": "display_data"
    }
   ],
   "source": [
    "n=3\n",
    "p = 0.5\n",
    "sample(c(0,1), 3, prob = c(1-p,p), replace = TRUE)"
   ]
  },
  {
   "cell_type": "markdown",
   "metadata": {},
   "source": [
    "**3.2** Note that the Bernoulli distribution is a special case of the more general binomial distribution, with the binomial size parameter set to 1.  R has an rbinom function that lets you draw from this distribution."
   ]
  },
  {
   "cell_type": "code",
   "execution_count": 2,
   "metadata": {},
   "outputs": [
    {
     "data": {
      "text/html": [
       "<ol class=list-inline>\n",
       "\t<li>0</li>\n",
       "\t<li>0</li>\n",
       "\t<li>0</li>\n",
       "</ol>\n"
      ],
      "text/latex": [
       "\\begin{enumerate*}\n",
       "\\item 0\n",
       "\\item 0\n",
       "\\item 0\n",
       "\\end{enumerate*}\n"
      ],
      "text/markdown": [
       "1. 0\n",
       "2. 0\n",
       "3. 0\n",
       "\n",
       "\n"
      ],
      "text/plain": [
       "[1] 0 0 0"
      ]
     },
     "metadata": {},
     "output_type": "display_data"
    }
   ],
   "source": [
    "rbinom(3, size=1, prob=p)"
   ]
  },
  {
   "cell_type": "markdown",
   "metadata": {},
   "source": [
    "<h3> 4 CLT Review </h3>\n",
    "\n",
    "<a><img src=\"https://i.imgflip.com/2ti6kh.jpg\"/></a>\n",
    "\n",
    "By now you may begin to understand that even for the average of observations from a discrete distribution, once the number of observations is larger than  20 or 30 calculating its true sampling distribution can get real complicated/time consuming real quick.  \n",
    "\n",
    "But never fear, we have a result which allows us to approximate the sampling distribution of averages of any sample of observations which satisfy 3 important conditions"
   ]
  },
  {
   "cell_type": "markdown",
   "metadata": {},
   "source": [
    "** 4.1 i.i.d. Observations **\n",
    "\n",
    "* *independent observations*: $ P \\big( [X_i= a] \\cap [X_j = b]\\big) = P(X_i = a)P(X_j = b)$ for all $i\\neq j$\n",
    "\n",
    "* *identically distributed*: The distribution of the values of each observation are the same which implies that for all $i \\neq j$\n",
    "\n",
    "$$ E(X_i) = E(X_j) = E(X)  \\;\\; \\text{ and } \\;\\; V(X_i) = V(X_j) = V(X)$$"
   ]
  },
  {
   "cell_type": "markdown",
   "metadata": {},
   "source": [
    "** 4.2  Lindeberg–Lévy CLT ** if\n",
    "\n",
    "* $E(X) = \\mu $ and $\\infty < \\mu  < \\infty$\n",
    "\n",
    "* $V(X) = \\sigma^2 < \\infty $\n",
    "\n",
    "* $\\{X_i\\}_{i=1}^n$ are i.i.d observations \n",
    "\n",
    "then, \n",
    "\n",
    "$$ \\sqrt{n}(\\overline{X}_n - \\mu) \\stackrel{d}{\\longrightarrow} N(0,\\sigma^2) $$\n",
    "or of more practical use, for n \"large\" \n",
    "$$ \\overline{X}_n  \\sim N \\left(\\mu,\\frac{\\sigma^2}{n} \\right) = N\\left(E(\\overline{X}_n),V(\\overline{X}_n) \\right)$$\n",
    "where $\\sim$ means \" is approximately distributed as\" "
   ]
  },
  {
   "cell_type": "markdown",
   "metadata": {},
   "source": [
    "<h3> 5 A Fair Coin </h3>\n",
    "\n",
    "Here we recreate the demonstration of the CLT seen in the async. However instead of using the Old Faithful data, you are to take random draws from a Bernoulli distribution."
   ]
  },
  {
   "cell_type": "markdown",
   "metadata": {},
   "source": [
    "**5.1** First, set p = 0.5 so your population distribution is symmetric.  Use a variable $n$ to represent your sample size.  Initially, set $n=3$."
   ]
  },
  {
   "cell_type": "code",
   "execution_count": null,
   "metadata": {},
   "outputs": [],
   "source": []
  },
  {
   "cell_type": "markdown",
   "metadata": {},
   "source": [
    "** 5.2 **\n",
    "Simulate n draws from a Bernoulli variable with parameter $p$, then compute the sample mean."
   ]
  },
  {
   "cell_type": "code",
   "execution_count": null,
   "metadata": {},
   "outputs": [],
   "source": []
  },
  {
   "cell_type": "markdown",
   "metadata": {},
   "source": [
    "**5.3** \n",
    "Write code to replicate the above experiment 100,000 times, storing all of the resulting sample means.  Create a histogram of your result.  Compute the standard deviation of the result."
   ]
  },
  {
   "cell_type": "code",
   "execution_count": null,
   "metadata": {},
   "outputs": [],
   "source": []
  },
  {
   "cell_type": "markdown",
   "metadata": {},
   "source": [
    "**5.4** Increase n to 30, replicate the experiment 100,000 times, storing all of the resulting sample means.  Create a histogram of your result.  Compute the standard deviation of the result."
   ]
  },
  {
   "cell_type": "code",
   "execution_count": null,
   "metadata": {},
   "outputs": [],
   "source": []
  },
  {
   "cell_type": "markdown",
   "metadata": {},
   "source": [
    "** 5.5 **   Mathematically, what effect will increasing the number of observations $n$ in each sample have on standard deviation of the sampling distribution of the mean? Do the results of **5.3** and **5.4** reflect this?"
   ]
  },
  {
   "cell_type": "code",
   "execution_count": null,
   "metadata": {},
   "outputs": [],
   "source": []
  },
  {
   "cell_type": "markdown",
   "metadata": {},
   "source": [
    "** 5.6 ** Experiment with different values of $n$ and note the point at which the sampling distribution of the mean 'looks' normal to you."
   ]
  },
  {
   "cell_type": "code",
   "execution_count": null,
   "metadata": {},
   "outputs": [],
   "source": []
  },
  {
   "cell_type": "markdown",
   "metadata": {},
   "source": [
    "<h3> 6 A Skewed Distribution </h3>\n",
    "\n",
    "Now let p = 0.001.  This result is a highly skewed Bernoulli variable.  We are especially interested to see how skewed the sampling distribution of the mean will be for different sample sizes.\n",
    "\n",
    "For this activity, you can simply assess the skew of a distribution visually.  If you prefer, you can also use the skewness command in the moments package.  You may hear a rule of thumb that a skewness less than -1 or greater than 1 is considered substantially skewed."
   ]
  },
  {
   "cell_type": "markdown",
   "metadata": {},
   "source": [
    "**6.1** Rerun the previous exercise for n = 3, p = 0.001 and note the shape of the sampling distribution."
   ]
  },
  {
   "cell_type": "code",
   "execution_count": null,
   "metadata": {},
   "outputs": [],
   "source": []
  },
  {
   "cell_type": "markdown",
   "metadata": {},
   "source": [
    "** 6.2 ** Increase n to 30, and note the shape of the sampling distribution."
   ]
  },
  {
   "cell_type": "code",
   "execution_count": null,
   "metadata": {},
   "outputs": [],
   "source": []
  },
  {
   "cell_type": "markdown",
   "metadata": {},
   "source": [
    "** 6.3 ** As before, experiment with different values of $n$ and note the point at which the sampling distribution looks normal."
   ]
  },
  {
   "cell_type": "code",
   "execution_count": null,
   "metadata": {},
   "outputs": [],
   "source": []
  },
  {
   "cell_type": "markdown",
   "metadata": {},
   "source": [
    "<h3> 7.0 Discussion </h3>\n",
    "Here we discuss the result of our analysis."
   ]
  },
  {
   "cell_type": "markdown",
   "metadata": {},
   "source": [
    "**7.1** How does the skewness of the distribution of the underlying variable $X$ affect the applicability of the Central Limit Theorem to sample mean $\\overline{X}_n$?"
   ]
  },
  {
   "cell_type": "code",
   "execution_count": null,
   "metadata": {},
   "outputs": [],
   "source": []
  },
  {
   "cell_type": "markdown",
   "metadata": {},
   "source": [
    "** 7.2 ** Why do we care about this / why is this fact important?"
   ]
  },
  {
   "cell_type": "code",
   "execution_count": null,
   "metadata": {},
   "outputs": [],
   "source": []
  },
  {
   "cell_type": "markdown",
   "metadata": {},
   "source": [
    "**7.3** Name a variable you would be interested in measuring that has a substantially skewed distribution."
   ]
  },
  {
   "cell_type": "code",
   "execution_count": null,
   "metadata": {},
   "outputs": [],
   "source": []
  },
  {
   "cell_type": "markdown",
   "metadata": {},
   "source": [
    "**7.4** The Cauchy Distribution is a well-known distribution with some interesting mathematical properties.  In particular, it has \"infinite\" variance  That is, the variance does not exist because the tails are too spread out.  \n",
    "\n",
    "Would exercises **5.0 ** and **6.0**  work if you took draws from a Cauchy distribution?"
   ]
  },
  {
   "cell_type": "code",
   "execution_count": null,
   "metadata": {},
   "outputs": [],
   "source": []
  }
 ],
 "metadata": {
  "kernelspec": {
   "display_name": "R",
   "language": "R",
   "name": "ir"
  },
  "language_info": {
   "codemirror_mode": "r",
   "file_extension": ".r",
   "mimetype": "text/x-r-source",
   "name": "R",
   "pygments_lexer": "r",
   "version": "3.5.1"
  },
  "varInspector": {
   "cols": {
    "lenName": 16,
    "lenType": 16,
    "lenVar": 40
   },
   "kernels_config": {
    "python": {
     "delete_cmd_postfix": "",
     "delete_cmd_prefix": "del ",
     "library": "var_list.py",
     "varRefreshCmd": "print(var_dic_list())"
    },
    "r": {
     "delete_cmd_postfix": ") ",
     "delete_cmd_prefix": "rm(",
     "library": "var_list.r",
     "varRefreshCmd": "cat(var_dic_list()) "
    }
   },
   "types_to_exclude": [
    "module",
    "function",
    "builtin_function_or_method",
    "instance",
    "_Feature"
   ],
   "window_display": false
  }
 },
 "nbformat": 4,
 "nbformat_minor": 2
}
