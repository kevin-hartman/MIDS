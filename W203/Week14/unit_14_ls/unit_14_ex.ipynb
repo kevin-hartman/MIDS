{
 "cells": [
  {
   "cell_type": "markdown",
   "metadata": {},
   "source": [
    "<h1>Unit 14 Live Session </center> </h1>\n",
    "<h3> W203 Instructional Team </h3>"
   ]
  },
  {
   "cell_type": "markdown",
   "metadata": {},
   "source": [
    "## 0.1 Class Announcements \n",
    "\n",
    "1. Congrats you now know a lot of statistics!\n",
    "2. Course evals: https://course-evaluations.berkeley.edu/berkeley/"
   ]
  },
  {
   "cell_type": "markdown",
   "metadata": {},
   "source": [
    "## Choosing Specifications\n",
    "\n",
    "Recently, researchers Collewet and Sauermann tried to measure how the number of hours worked affects productivity.  Is there a \"fatigue effect,\" in which productivity decreases with each additional hour on the job?\n",
    "\n",
    "Collewet, Marion, and Jan Sauermann. \"Working hours and productivity.\" Labour economics 47 (2017): 96-106.\n",
    "\n",
    "From the paper:\n",
    "\n",
    " > In this paper, we study the influence of the daily number of hours worked\n",
    "on workers’ productivity using panel data from a call centre in the Netherlands from mid-2008 to the first week of 2010 (cf. De Grip and Sauermann,\n",
    "2012; De Grip et al., 2016). For each of the 332 workers in our sample, the\n",
    "data contain detailed information on the number of daily working hours, and\n",
    "workers’ individual performance, as measured by the average handling time\n",
    "of calls\n",
    "\n",
    "Under most circumstances, measuring the relationship between hours worked and productivity is difficult because of endogeneity.  There are all sorts of variables that are related to both hours worked and productivity, resulting in omitted variable bias.  For most cross-sectional data, you wouldn't be able to publish.\n",
    "\n",
    "In the Collewat and Sauerman paper, the data gives them a unique advantage...\n",
    "\n",
    "> An agent’s working time for a given day is defined by the planning department,\n",
    "on the basis of an algorithm that forecasts customer demand, i.e. the number\n",
    "of incoming calls. A first version of an agent’s schedule for a given day is\n",
    "communicated five weeks in advance, but it can be revised up to the last\n",
    "moment. We also know that earlier performance of agents does not influence\n",
    "future schedules. In principle, this ensures that the exact number of hours\n",
    "worked by an individual on a given day is not related to shocks affecting this\n",
    "individual, so that [hours] is not correlated with [$\\epsilon_{it}$], the idiosyncratic error term.\n",
    "\n",
    "Even though workers don't decide their hours, they can state preferences about their schedule, both general preferences and preferences for specific days or weeks, without having a guarantee that these preferences can be respected.\n"
   ]
  },
  {
   "cell_type": "markdown",
   "metadata": {},
   "source": [
    "In the paper, the authors discuss AHT, or average handling time per call.  As a proxy for productity, they use ln(1/AHT) as a dependent variable.  The log form is suggested by prior work but the authors find visual evidence that it fits the data well.\n",
    "\n",
    "Take a look at their main regression table:\n",
    "\n",
    "![regression](reg_table.png)"
   ]
  },
  {
   "cell_type": "markdown",
   "metadata": {},
   "source": [
    "Q1.  Glancing at the top row of coefficients, comment on whether the fatigue effect they meaure is practically significant.  Is it robust across specifications?\n",
    "\n",
    "Q2.  Model 2 introduces individual-level fixed effects - this means that each individual gets a dummy variable in the regression.  How can this help prevent omitted variable bias?  (E.g. what if some workers ask for longer hours than other workers?)\n",
    "\n",
    "Q3.  Model 3 includes a trend variable, which is just days since the experiment started.  You can see that productivity increased over this period.  What would happen if shifts happened to get longer over this same period?\n",
    "\n",
    "Q4.  Model 4 includes a dummy variable for each team.  The workers are split into 19 teams, each with a different team leader.  What would happen if one team had really great characteristics (strong support, good focus, enjoyable company)?\n",
    "\n",
    "Q5.  Model 5 introduces a dummy for each day of the week.  How could bias result from certain workers requesting to work on weekends?\n",
    "\n",
    "Q6.  Can you name a source of ommitted variable bias that's not accounted for by one of the model specifications?"
   ]
  },
  {
   "cell_type": "markdown",
   "metadata": {},
   "source": [
    "## Q & A\n",
    "\n"
   ]
  }
 ],
 "metadata": {
  "kernelspec": {
   "display_name": "R",
   "language": "R",
   "name": "ir"
  },
  "language_info": {
   "codemirror_mode": "r",
   "file_extension": ".r",
   "mimetype": "text/x-r-source",
   "name": "R",
   "pygments_lexer": "r",
   "version": "3.5.1"
  },
  "varInspector": {
   "cols": {
    "lenName": 16,
    "lenType": 16,
    "lenVar": 40
   },
   "kernels_config": {
    "python": {
     "delete_cmd_postfix": "",
     "delete_cmd_prefix": "del ",
     "library": "var_list.py",
     "varRefreshCmd": "print(var_dic_list())"
    },
    "r": {
     "delete_cmd_postfix": ") ",
     "delete_cmd_prefix": "rm(",
     "library": "var_list.r",
     "varRefreshCmd": "cat(var_dic_list()) "
    }
   },
   "types_to_exclude": [
    "module",
    "function",
    "builtin_function_or_method",
    "instance",
    "_Feature"
   ],
   "window_display": false
  }
 },
 "nbformat": 4,
 "nbformat_minor": 4
}
